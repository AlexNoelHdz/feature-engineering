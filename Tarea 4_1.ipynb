{
 "cells": [
  {
   "cell_type": "markdown",
   "id": "6568c8f6",
   "metadata": {},
   "source": [
    "# Codificación de variables categóricas\n",
    "Codifique la siguiente variable categórica usando el método de codificación Ficticia. Incluya una columna de `NaN` para valores perdidos."
   ]
  },
  {
   "cell_type": "code",
   "execution_count": 1,
   "id": "f6788ad6",
   "metadata": {},
   "outputs": [],
   "source": [
    "import pandas as pd\n",
    "import numpy as np\n",
    "np.random.seed(666)\n",
    "\n",
    "aceros=['Corten','Corrugado','Galvanizado','Inoxidable','al Carbón']\n",
    "precios=[(650,800),(600,700),(250,350),(2000,2500),(6000,6500)]\n",
    "# Array 50 elementos con las 5 categorías de forma aleatoria\n",
    "categórica=np.random.choice(aceros,size=50)\n",
    "# El asterisco desempaca cada elemento de la lista (Unpacking a function using positional argument.)\n",
    "# Precios aleatorios entre cada rango \n",
    "numérica= [np.random.randint(*precios[aceros.index(c)]) for c in categórica]\n",
    "df=pd.DataFrame()\n",
    "df['Precio']=numérica\n",
    "df['Acero']=categórica\n",
    "\n",
    "# entre 5 y 10 indices aleatorios con NaN\n",
    "nans=np.random.randint(50,size=np.random.randint(5,10))\n",
    "df.iloc[nans]=np.NaN"
   ]
  },
  {
   "attachments": {},
   "cell_type": "markdown",
   "id": "329fc393",
   "metadata": {},
   "source": [
    "## Visualización de dataframe"
   ]
  },
  {
   "cell_type": "code",
   "execution_count": 2,
   "id": "f57a20d2",
   "metadata": {},
   "outputs": [
    {
     "data": {
      "text/html": [
       "<div>\n",
       "<style scoped>\n",
       "    .dataframe tbody tr th:only-of-type {\n",
       "        vertical-align: middle;\n",
       "    }\n",
       "\n",
       "    .dataframe tbody tr th {\n",
       "        vertical-align: top;\n",
       "    }\n",
       "\n",
       "    .dataframe thead th {\n",
       "        text-align: right;\n",
       "    }\n",
       "</style>\n",
       "<table border=\"1\" class=\"dataframe\">\n",
       "  <thead>\n",
       "    <tr style=\"text-align: right;\">\n",
       "      <th></th>\n",
       "      <th>Precio</th>\n",
       "      <th>Acero</th>\n",
       "    </tr>\n",
       "  </thead>\n",
       "  <tbody>\n",
       "    <tr>\n",
       "      <th>0</th>\n",
       "      <td>6455.0</td>\n",
       "      <td>al Carbón</td>\n",
       "    </tr>\n",
       "    <tr>\n",
       "      <th>1</th>\n",
       "      <td>304.0</td>\n",
       "      <td>Galvanizado</td>\n",
       "    </tr>\n",
       "    <tr>\n",
       "      <th>2</th>\n",
       "      <td>684.0</td>\n",
       "      <td>Corrugado</td>\n",
       "    </tr>\n",
       "    <tr>\n",
       "      <th>3</th>\n",
       "      <td>6431.0</td>\n",
       "      <td>al Carbón</td>\n",
       "    </tr>\n",
       "    <tr>\n",
       "      <th>4</th>\n",
       "      <td>2147.0</td>\n",
       "      <td>Inoxidable</td>\n",
       "    </tr>\n",
       "  </tbody>\n",
       "</table>\n",
       "</div>"
      ],
      "text/plain": [
       "   Precio        Acero\n",
       "0  6455.0    al Carbón\n",
       "1   304.0  Galvanizado\n",
       "2   684.0    Corrugado\n",
       "3  6431.0    al Carbón\n",
       "4  2147.0   Inoxidable"
      ]
     },
     "execution_count": 2,
     "metadata": {},
     "output_type": "execute_result"
    }
   ],
   "source": [
    "df.head()"
   ]
  }
 ],
 "metadata": {
  "kernelspec": {
   "display_name": "Python 3",
   "language": "python",
   "name": "python3"
  },
  "language_info": {
   "codemirror_mode": {
    "name": "ipython",
    "version": 3
   },
   "file_extension": ".py",
   "mimetype": "text/x-python",
   "name": "python",
   "nbconvert_exporter": "python",
   "pygments_lexer": "ipython3",
   "version": "3.11.2"
  }
 },
 "nbformat": 4,
 "nbformat_minor": 5
}
