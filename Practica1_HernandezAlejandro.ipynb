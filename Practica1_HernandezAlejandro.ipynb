{
 "cells": [
  {
   "cell_type": "code",
   "execution_count": 5,
   "metadata": {
    "collapsed": true
   },
   "outputs": [],
   "source": [
    "\n",
    "# importar las bibliotecas necesarias\n",
    "from scipy.optimize import minimize\n",
    "from matplotlib import pyplot as plt\n",
    "import pandas as pd\n",
    "import warnings\n",
    "import numpy as np\n",
    "from sklearn.impute import SimpleImputer\n",
    "from sklearn.linear_model import LinearRegression\n",
    "from feature_engine.imputation import RandomSampleImputer\n",
    "warnings.filterwarnings(\"ignore\")"
   ]
  },
  {
   "cell_type": "code",
   "execution_count": 6,
   "metadata": {
    "collapsed": false
   },
   "outputs": [
    {
     "data": {
      "text/html": [
       "<div>\n",
       "<style scoped>\n",
       "    .dataframe tbody tr th:only-of-type {\n",
       "        vertical-align: middle;\n",
       "    }\n",
       "\n",
       "    .dataframe tbody tr th {\n",
       "        vertical-align: top;\n",
       "    }\n",
       "\n",
       "    .dataframe thead th {\n",
       "        text-align: right;\n",
       "    }\n",
       "</style>\n",
       "<table border=\"1\" class=\"dataframe\">\n",
       "  <thead>\n",
       "    <tr style=\"text-align: right;\">\n",
       "      <th></th>\n",
       "      <th>x_1</th>\n",
       "      <th>x_2</th>\n",
       "      <th>x_3</th>\n",
       "      <th>x_4</th>\n",
       "      <th>x_5</th>\n",
       "      <th>x_6</th>\n",
       "      <th>x_7</th>\n",
       "      <th>y</th>\n",
       "    </tr>\n",
       "  </thead>\n",
       "  <tbody>\n",
       "    <tr>\n",
       "      <th>0</th>\n",
       "      <td>15.310142</td>\n",
       "      <td>NaN</td>\n",
       "      <td>8.436759</td>\n",
       "      <td>3.723421</td>\n",
       "      <td>Dec</td>\n",
       "      <td>NaN</td>\n",
       "      <td>1.319733</td>\n",
       "      <td>21.408846</td>\n",
       "    </tr>\n",
       "    <tr>\n",
       "      <th>1</th>\n",
       "      <td>11.841750</td>\n",
       "      <td>1.558534</td>\n",
       "      <td>-4.776643</td>\n",
       "      <td>4.304625</td>\n",
       "      <td>Dec</td>\n",
       "      <td>MB</td>\n",
       "      <td>7.129585</td>\n",
       "      <td>0.273072</td>\n",
       "    </tr>\n",
       "    <tr>\n",
       "      <th>2</th>\n",
       "      <td>4.343978</td>\n",
       "      <td>NaN</td>\n",
       "      <td>NaN</td>\n",
       "      <td>4.540588</td>\n",
       "      <td>NaN</td>\n",
       "      <td>MM</td>\n",
       "      <td>NaN</td>\n",
       "      <td>19.010811</td>\n",
       "    </tr>\n",
       "    <tr>\n",
       "      <th>3</th>\n",
       "      <td>NaN</td>\n",
       "      <td>2.428672</td>\n",
       "      <td>9.003936</td>\n",
       "      <td>4.456992</td>\n",
       "      <td>NaN</td>\n",
       "      <td>MA</td>\n",
       "      <td>NaN</td>\n",
       "      <td>13.564040</td>\n",
       "    </tr>\n",
       "    <tr>\n",
       "      <th>4</th>\n",
       "      <td>14.892188</td>\n",
       "      <td>NaN</td>\n",
       "      <td>8.468824</td>\n",
       "      <td>1.070600</td>\n",
       "      <td>NaN</td>\n",
       "      <td>B</td>\n",
       "      <td>3.369261</td>\n",
       "      <td>25.493163</td>\n",
       "    </tr>\n",
       "    <tr>\n",
       "      <th>...</th>\n",
       "      <td>...</td>\n",
       "      <td>...</td>\n",
       "      <td>...</td>\n",
       "      <td>...</td>\n",
       "      <td>...</td>\n",
       "      <td>...</td>\n",
       "      <td>...</td>\n",
       "      <td>...</td>\n",
       "    </tr>\n",
       "    <tr>\n",
       "      <th>523</th>\n",
       "      <td>10.844312</td>\n",
       "      <td>NaN</td>\n",
       "      <td>1.653327</td>\n",
       "      <td>4.249280</td>\n",
       "      <td>Dec</td>\n",
       "      <td>MM</td>\n",
       "      <td>NaN</td>\n",
       "      <td>7.833448</td>\n",
       "    </tr>\n",
       "    <tr>\n",
       "      <th>524</th>\n",
       "      <td>12.346405</td>\n",
       "      <td>NaN</td>\n",
       "      <td>1.041838</td>\n",
       "      <td>3.406081</td>\n",
       "      <td>Dec</td>\n",
       "      <td>MB</td>\n",
       "      <td>NaN</td>\n",
       "      <td>10.452970</td>\n",
       "    </tr>\n",
       "    <tr>\n",
       "      <th>525</th>\n",
       "      <td>1.496831</td>\n",
       "      <td>3.115300</td>\n",
       "      <td>9.288658</td>\n",
       "      <td>4.547431</td>\n",
       "      <td>App</td>\n",
       "      <td>MM</td>\n",
       "      <td>NaN</td>\n",
       "      <td>9.310863</td>\n",
       "    </tr>\n",
       "    <tr>\n",
       "      <th>526</th>\n",
       "      <td>NaN</td>\n",
       "      <td>NaN</td>\n",
       "      <td>12.267643</td>\n",
       "      <td>2.867885</td>\n",
       "      <td>App</td>\n",
       "      <td>MA</td>\n",
       "      <td>-1.471284</td>\n",
       "      <td>27.283751</td>\n",
       "    </tr>\n",
       "    <tr>\n",
       "      <th>527</th>\n",
       "      <td>4.694991</td>\n",
       "      <td>0.562793</td>\n",
       "      <td>0.644289</td>\n",
       "      <td>2.128851</td>\n",
       "      <td>App</td>\n",
       "      <td>MB</td>\n",
       "      <td>NaN</td>\n",
       "      <td>6.373201</td>\n",
       "    </tr>\n",
       "  </tbody>\n",
       "</table>\n",
       "<p>528 rows × 8 columns</p>\n",
       "</div>"
      ],
      "text/plain": [
       "           x_1       x_2        x_3       x_4  x_5  x_6       x_7          y\n",
       "0    15.310142       NaN   8.436759  3.723421  Dec  NaN  1.319733  21.408846\n",
       "1    11.841750  1.558534  -4.776643  4.304625  Dec   MB  7.129585   0.273072\n",
       "2     4.343978       NaN        NaN  4.540588  NaN   MM       NaN  19.010811\n",
       "3          NaN  2.428672   9.003936  4.456992  NaN   MA       NaN  13.564040\n",
       "4    14.892188       NaN   8.468824  1.070600  NaN    B  3.369261  25.493163\n",
       "..         ...       ...        ...       ...  ...  ...       ...        ...\n",
       "523  10.844312       NaN   1.653327  4.249280  Dec   MM       NaN   7.833448\n",
       "524  12.346405       NaN   1.041838  3.406081  Dec   MB       NaN  10.452970\n",
       "525   1.496831  3.115300   9.288658  4.547431  App   MM       NaN   9.310863\n",
       "526        NaN       NaN  12.267643  2.867885  App   MA -1.471284  27.283751\n",
       "527   4.694991  0.562793   0.644289  2.128851  App   MB       NaN   6.373201\n",
       "\n",
       "[528 rows x 8 columns]"
      ]
     },
     "execution_count": 6,
     "metadata": {},
     "output_type": "execute_result"
    }
   ],
   "source": [
    "# Cargar el archivo CSV\n",
    "df = pd.read_csv(\"files/dist.data\")\n",
    "df"
   ]
  },
  {
   "attachments": {},
   "cell_type": "markdown",
   "metadata": {
    "collapsed": false
   },
   "source": [
    "## Del DataFrame inferimos:\n",
    "Numéricas: x_1, x_2, x_3, x_4, x_7\n",
    "Categóricas: x_5, x_6"
   ]
  },
  {
   "cell_type": "code",
   "execution_count": 7,
   "metadata": {
    "collapsed": false
   },
   "outputs": [
    {
     "name": "stdout",
     "output_type": "stream",
     "text": [
      "<class 'pandas.core.frame.DataFrame'>\n",
      "RangeIndex: 528 entries, 0 to 527\n",
      "Data columns (total 8 columns):\n",
      " #   Column  Non-Null Count  Dtype  \n",
      "---  ------  --------------  -----  \n",
      " 0   x_1     484 non-null    float64\n",
      " 1   x_2     265 non-null    float64\n",
      " 2   x_3     464 non-null    float64\n",
      " 3   x_4     507 non-null    float64\n",
      " 4   x_5     377 non-null    object \n",
      " 5   x_6     358 non-null    object \n",
      " 6   x_7     155 non-null    float64\n",
      " 7   y       518 non-null    float64\n",
      "dtypes: float64(6), object(2)\n",
      "memory usage: 33.1+ KB\n"
     ]
    }
   ],
   "source": [
    "df.info()"
   ]
  },
  {
   "attachments": {},
   "cell_type": "markdown",
   "metadata": {
    "collapsed": false
   },
   "source": [
    "## Si los datos faltantes superan el 60% de los datos por columna, elimine esa columna."
   ]
  },
  {
   "cell_type": "code",
   "execution_count": 8,
   "metadata": {
    "collapsed": false
   },
   "outputs": [
    {
     "data": {
      "text/plain": [
       "x_1     8.333333\n",
       "x_2    49.810606\n",
       "x_3    12.121212\n",
       "x_4     3.977273\n",
       "x_5    28.598485\n",
       "x_6    32.196970\n",
       "x_7    70.643939\n",
       "y       1.893939\n",
       "dtype: float64"
      ]
     },
     "execution_count": 8,
     "metadata": {},
     "output_type": "execute_result"
    }
   ],
   "source": [
    "df.isna().sum()/len(df) * 100"
   ]
  },
  {
   "attachments": {},
   "cell_type": "markdown",
   "metadata": {
    "collapsed": false
   },
   "source": [
    "### Se elimina la columna x_7 según el criterio establecido"
   ]
  },
  {
   "cell_type": "code",
   "execution_count": 9,
   "metadata": {
    "collapsed": false
   },
   "outputs": [
    {
     "data": {
      "text/html": [
       "<div>\n",
       "<style scoped>\n",
       "    .dataframe tbody tr th:only-of-type {\n",
       "        vertical-align: middle;\n",
       "    }\n",
       "\n",
       "    .dataframe tbody tr th {\n",
       "        vertical-align: top;\n",
       "    }\n",
       "\n",
       "    .dataframe thead th {\n",
       "        text-align: right;\n",
       "    }\n",
       "</style>\n",
       "<table border=\"1\" class=\"dataframe\">\n",
       "  <thead>\n",
       "    <tr style=\"text-align: right;\">\n",
       "      <th></th>\n",
       "      <th>x_1</th>\n",
       "      <th>x_2</th>\n",
       "      <th>x_3</th>\n",
       "      <th>x_4</th>\n",
       "      <th>x_5</th>\n",
       "      <th>x_6</th>\n",
       "      <th>y</th>\n",
       "    </tr>\n",
       "  </thead>\n",
       "  <tbody>\n",
       "    <tr>\n",
       "      <th>0</th>\n",
       "      <td>15.310142</td>\n",
       "      <td>NaN</td>\n",
       "      <td>8.436759</td>\n",
       "      <td>3.723421</td>\n",
       "      <td>Dec</td>\n",
       "      <td>NaN</td>\n",
       "      <td>21.408846</td>\n",
       "    </tr>\n",
       "    <tr>\n",
       "      <th>1</th>\n",
       "      <td>11.841750</td>\n",
       "      <td>1.558534</td>\n",
       "      <td>-4.776643</td>\n",
       "      <td>4.304625</td>\n",
       "      <td>Dec</td>\n",
       "      <td>MB</td>\n",
       "      <td>0.273072</td>\n",
       "    </tr>\n",
       "    <tr>\n",
       "      <th>2</th>\n",
       "      <td>4.343978</td>\n",
       "      <td>NaN</td>\n",
       "      <td>NaN</td>\n",
       "      <td>4.540588</td>\n",
       "      <td>NaN</td>\n",
       "      <td>MM</td>\n",
       "      <td>19.010811</td>\n",
       "    </tr>\n",
       "    <tr>\n",
       "      <th>3</th>\n",
       "      <td>NaN</td>\n",
       "      <td>2.428672</td>\n",
       "      <td>9.003936</td>\n",
       "      <td>4.456992</td>\n",
       "      <td>NaN</td>\n",
       "      <td>MA</td>\n",
       "      <td>13.564040</td>\n",
       "    </tr>\n",
       "    <tr>\n",
       "      <th>4</th>\n",
       "      <td>14.892188</td>\n",
       "      <td>NaN</td>\n",
       "      <td>8.468824</td>\n",
       "      <td>1.070600</td>\n",
       "      <td>NaN</td>\n",
       "      <td>B</td>\n",
       "      <td>25.493163</td>\n",
       "    </tr>\n",
       "    <tr>\n",
       "      <th>...</th>\n",
       "      <td>...</td>\n",
       "      <td>...</td>\n",
       "      <td>...</td>\n",
       "      <td>...</td>\n",
       "      <td>...</td>\n",
       "      <td>...</td>\n",
       "      <td>...</td>\n",
       "    </tr>\n",
       "    <tr>\n",
       "      <th>523</th>\n",
       "      <td>10.844312</td>\n",
       "      <td>NaN</td>\n",
       "      <td>1.653327</td>\n",
       "      <td>4.249280</td>\n",
       "      <td>Dec</td>\n",
       "      <td>MM</td>\n",
       "      <td>7.833448</td>\n",
       "    </tr>\n",
       "    <tr>\n",
       "      <th>524</th>\n",
       "      <td>12.346405</td>\n",
       "      <td>NaN</td>\n",
       "      <td>1.041838</td>\n",
       "      <td>3.406081</td>\n",
       "      <td>Dec</td>\n",
       "      <td>MB</td>\n",
       "      <td>10.452970</td>\n",
       "    </tr>\n",
       "    <tr>\n",
       "      <th>525</th>\n",
       "      <td>1.496831</td>\n",
       "      <td>3.115300</td>\n",
       "      <td>9.288658</td>\n",
       "      <td>4.547431</td>\n",
       "      <td>App</td>\n",
       "      <td>MM</td>\n",
       "      <td>9.310863</td>\n",
       "    </tr>\n",
       "    <tr>\n",
       "      <th>526</th>\n",
       "      <td>NaN</td>\n",
       "      <td>NaN</td>\n",
       "      <td>12.267643</td>\n",
       "      <td>2.867885</td>\n",
       "      <td>App</td>\n",
       "      <td>MA</td>\n",
       "      <td>27.283751</td>\n",
       "    </tr>\n",
       "    <tr>\n",
       "      <th>527</th>\n",
       "      <td>4.694991</td>\n",
       "      <td>0.562793</td>\n",
       "      <td>0.644289</td>\n",
       "      <td>2.128851</td>\n",
       "      <td>App</td>\n",
       "      <td>MB</td>\n",
       "      <td>6.373201</td>\n",
       "    </tr>\n",
       "  </tbody>\n",
       "</table>\n",
       "<p>528 rows × 7 columns</p>\n",
       "</div>"
      ],
      "text/plain": [
       "           x_1       x_2        x_3       x_4  x_5  x_6          y\n",
       "0    15.310142       NaN   8.436759  3.723421  Dec  NaN  21.408846\n",
       "1    11.841750  1.558534  -4.776643  4.304625  Dec   MB   0.273072\n",
       "2     4.343978       NaN        NaN  4.540588  NaN   MM  19.010811\n",
       "3          NaN  2.428672   9.003936  4.456992  NaN   MA  13.564040\n",
       "4    14.892188       NaN   8.468824  1.070600  NaN    B  25.493163\n",
       "..         ...       ...        ...       ...  ...  ...        ...\n",
       "523  10.844312       NaN   1.653327  4.249280  Dec   MM   7.833448\n",
       "524  12.346405       NaN   1.041838  3.406081  Dec   MB  10.452970\n",
       "525   1.496831  3.115300   9.288658  4.547431  App   MM   9.310863\n",
       "526        NaN       NaN  12.267643  2.867885  App   MA  27.283751\n",
       "527   4.694991  0.562793   0.644289  2.128851  App   MB   6.373201\n",
       "\n",
       "[528 rows x 7 columns]"
      ]
     },
     "execution_count": 9,
     "metadata": {},
     "output_type": "execute_result"
    }
   ],
   "source": [
    "df_clean_1 = df.drop(['x_7'], axis=1)\n",
    "df_clean_1"
   ]
  },
  {
   "attachments": {},
   "cell_type": "markdown",
   "metadata": {
    "collapsed": false
   },
   "source": [
    "## Sustituya el resto de los datos faltantes:\n",
    "- Si la variable es categórica sustituya por la moda.\n",
    "- Si la variable presenta distribución uniforme, sustituya de forma aleatoria (considere como distribución uniforme curtosis menor a -1.2).\n",
    "- Si la variable presenta una distribución diferente a la uniforme:\n",
    "  - Sustituya por la media aritmética si presenta un sesgo positivo.\n",
    "  - Sustituya por la mediana si presenta un sesgo negativo."
   ]
  },
  {
   "attachments": {},
   "cell_type": "markdown",
   "metadata": {},
   "source": [
    "# De forma gráfica esto es:\n",
    "![Cómo enfrentar valores atípicos](files\\map_missing_fields.png \"Cómo enfrentar valores atípicos\")"
   ]
  },
  {
   "attachments": {},
   "cell_type": "markdown",
   "metadata": {},
   "source": [
    "Al revisar el Histograma se puede inferir las variables con distribución uniforme o normal. Esto se comprueba con la Kurtosis más adelante. "
   ]
  },
  {
   "cell_type": "code",
   "execution_count": 10,
   "metadata": {
    "collapsed": false
   },
   "outputs": [
    {
     "data": {
      "text/plain": [
       "array([[<AxesSubplot: title={'center': 'x_1'}>,\n",
       "        <AxesSubplot: title={'center': 'x_2'}>],\n",
       "       [<AxesSubplot: title={'center': 'x_3'}>,\n",
       "        <AxesSubplot: title={'center': 'x_4'}>],\n",
       "       [<AxesSubplot: title={'center': 'y'}>, <AxesSubplot: >]],\n",
       "      dtype=object)"
      ]
     },
     "execution_count": 10,
     "metadata": {},
     "output_type": "execute_result"
    },
    {
     "data": {
      "image/png": "[encoded data removed]",
      "text/plain": [
       "<Figure size 640x480 with 6 Axes>"
      ]
     },
     "metadata": {},
     "output_type": "display_data"
    }
   ],
   "source": [
    "df_clean_1.hist()"
   ]
  },
  {
   "cell_type": "code",
   "execution_count": 11,
   "metadata": {
    "collapsed": false
   },
   "outputs": [
    {
     "data": {
      "text/plain": [
       "x_1     True\n",
       "x_2    False\n",
       "x_3     True\n",
       "x_4    False\n",
       "y      False\n",
       "dtype: bool"
      ]
     },
     "execution_count": 11,
     "metadata": {},
     "output_type": "execute_result"
    }
   ],
   "source": [
    "# - Si la variable presenta distribución uniforme, sustituya de forma aleatoria (considere como distribución uniforme curtosis menor a -1.2).\n",
    "# Revisamos si la kurtosis es menor que -1.2 para decidir qué variables tienen distribuión uniforme (A parte del método gráfico)\n",
    "df_clean_1.kurt() < -1.2"
   ]
  },
  {
   "cell_type": "code",
   "execution_count": 12,
   "metadata": {
    "collapsed": false
   },
   "outputs": [
    {
     "data": {
      "text/plain": [
       "x_1    0.045977\n",
       "x_2    0.196266\n",
       "x_3    0.012478\n",
       "x_4   -0.478714\n",
       "y      0.130844\n",
       "dtype: float64"
      ]
     },
     "execution_count": 12,
     "metadata": {},
     "output_type": "execute_result"
    }
   ],
   "source": [
    "# Con la función skew podemos checar si el sesgo es postivo o negativo\n",
    "# - Si la variable presenta una distribución diferente a la uniforme (x_2, x_4, y):\n",
    "# -- Sustituya por la media aritmética si presenta un sesgo positivo.\n",
    "# -- Sustituya por la mediana si presenta un sesgo negativo.\n",
    "df_clean_1.skew()"
   ]
  },
  {
   "cell_type": "code",
   "execution_count": 13,
   "metadata": {},
   "outputs": [
    {
     "data": {
      "text/html": [
       "<div>\n",
       "<style scoped>\n",
       "    .dataframe tbody tr th:only-of-type {\n",
       "        vertical-align: middle;\n",
       "    }\n",
       "\n",
       "    .dataframe tbody tr th {\n",
       "        vertical-align: top;\n",
       "    }\n",
       "\n",
       "    .dataframe thead th {\n",
       "        text-align: right;\n",
       "    }\n",
       "</style>\n",
       "<table border=\"1\" class=\"dataframe\">\n",
       "  <thead>\n",
       "    <tr style=\"text-align: right;\">\n",
       "      <th></th>\n",
       "      <th>x_1</th>\n",
       "      <th>x_2</th>\n",
       "      <th>x_3</th>\n",
       "      <th>x_4</th>\n",
       "      <th>x_5</th>\n",
       "      <th>x_6</th>\n",
       "      <th>x_7</th>\n",
       "      <th>y</th>\n",
       "    </tr>\n",
       "  </thead>\n",
       "  <tbody>\n",
       "    <tr>\n",
       "      <th>0</th>\n",
       "      <td>-7.257996</td>\n",
       "      <td>-4.021420</td>\n",
       "      <td>-8.517502</td>\n",
       "      <td>0.864990</td>\n",
       "      <td>Dec</td>\n",
       "      <td>MB</td>\n",
       "      <td>-4.991931</td>\n",
       "      <td>-19.597192</td>\n",
       "    </tr>\n",
       "    <tr>\n",
       "      <th>1</th>\n",
       "      <td>-7.214964</td>\n",
       "      <td>-3.545163</td>\n",
       "      <td>-8.484215</td>\n",
       "      <td>0.883673</td>\n",
       "      <td>NaN</td>\n",
       "      <td>NaN</td>\n",
       "      <td>-4.715692</td>\n",
       "      <td>-18.608809</td>\n",
       "    </tr>\n",
       "    <tr>\n",
       "      <th>2</th>\n",
       "      <td>-7.170369</td>\n",
       "      <td>-3.270399</td>\n",
       "      <td>-8.458140</td>\n",
       "      <td>0.892652</td>\n",
       "      <td>NaN</td>\n",
       "      <td>NaN</td>\n",
       "      <td>-4.561261</td>\n",
       "      <td>-18.333302</td>\n",
       "    </tr>\n",
       "    <tr>\n",
       "      <th>3</th>\n",
       "      <td>-7.057121</td>\n",
       "      <td>-3.216876</td>\n",
       "      <td>-8.235309</td>\n",
       "      <td>0.903893</td>\n",
       "      <td>NaN</td>\n",
       "      <td>NaN</td>\n",
       "      <td>-4.291850</td>\n",
       "      <td>-16.644857</td>\n",
       "    </tr>\n",
       "    <tr>\n",
       "      <th>4</th>\n",
       "      <td>-7.039066</td>\n",
       "      <td>-3.004323</td>\n",
       "      <td>-8.234055</td>\n",
       "      <td>0.910805</td>\n",
       "      <td>NaN</td>\n",
       "      <td>NaN</td>\n",
       "      <td>-4.166896</td>\n",
       "      <td>-14.280623</td>\n",
       "    </tr>\n",
       "    <tr>\n",
       "      <th>...</th>\n",
       "      <td>...</td>\n",
       "      <td>...</td>\n",
       "      <td>...</td>\n",
       "      <td>...</td>\n",
       "      <td>...</td>\n",
       "      <td>...</td>\n",
       "      <td>...</td>\n",
       "      <td>...</td>\n",
       "    </tr>\n",
       "    <tr>\n",
       "      <th>513</th>\n",
       "      <td>NaN</td>\n",
       "      <td>NaN</td>\n",
       "      <td>NaN</td>\n",
       "      <td>NaN</td>\n",
       "      <td>NaN</td>\n",
       "      <td>NaN</td>\n",
       "      <td>NaN</td>\n",
       "      <td>32.848658</td>\n",
       "    </tr>\n",
       "    <tr>\n",
       "      <th>514</th>\n",
       "      <td>NaN</td>\n",
       "      <td>NaN</td>\n",
       "      <td>NaN</td>\n",
       "      <td>NaN</td>\n",
       "      <td>NaN</td>\n",
       "      <td>NaN</td>\n",
       "      <td>NaN</td>\n",
       "      <td>33.761316</td>\n",
       "    </tr>\n",
       "    <tr>\n",
       "      <th>515</th>\n",
       "      <td>NaN</td>\n",
       "      <td>NaN</td>\n",
       "      <td>NaN</td>\n",
       "      <td>NaN</td>\n",
       "      <td>NaN</td>\n",
       "      <td>NaN</td>\n",
       "      <td>NaN</td>\n",
       "      <td>34.128614</td>\n",
       "    </tr>\n",
       "    <tr>\n",
       "      <th>516</th>\n",
       "      <td>NaN</td>\n",
       "      <td>NaN</td>\n",
       "      <td>NaN</td>\n",
       "      <td>NaN</td>\n",
       "      <td>NaN</td>\n",
       "      <td>NaN</td>\n",
       "      <td>NaN</td>\n",
       "      <td>34.611309</td>\n",
       "    </tr>\n",
       "    <tr>\n",
       "      <th>517</th>\n",
       "      <td>NaN</td>\n",
       "      <td>NaN</td>\n",
       "      <td>NaN</td>\n",
       "      <td>NaN</td>\n",
       "      <td>NaN</td>\n",
       "      <td>NaN</td>\n",
       "      <td>NaN</td>\n",
       "      <td>34.932542</td>\n",
       "    </tr>\n",
       "  </tbody>\n",
       "</table>\n",
       "<p>518 rows × 8 columns</p>\n",
       "</div>"
      ],
      "text/plain": [
       "          x_1       x_2       x_3       x_4  x_5  x_6       x_7          y\n",
       "0   -7.257996 -4.021420 -8.517502  0.864990  Dec   MB -4.991931 -19.597192\n",
       "1   -7.214964 -3.545163 -8.484215  0.883673  NaN  NaN -4.715692 -18.608809\n",
       "2   -7.170369 -3.270399 -8.458140  0.892652  NaN  NaN -4.561261 -18.333302\n",
       "3   -7.057121 -3.216876 -8.235309  0.903893  NaN  NaN -4.291850 -16.644857\n",
       "4   -7.039066 -3.004323 -8.234055  0.910805  NaN  NaN -4.166896 -14.280623\n",
       "..        ...       ...       ...       ...  ...  ...       ...        ...\n",
       "513       NaN       NaN       NaN       NaN  NaN  NaN       NaN  32.848658\n",
       "514       NaN       NaN       NaN       NaN  NaN  NaN       NaN  33.761316\n",
       "515       NaN       NaN       NaN       NaN  NaN  NaN       NaN  34.128614\n",
       "516       NaN       NaN       NaN       NaN  NaN  NaN       NaN  34.611309\n",
       "517       NaN       NaN       NaN       NaN  NaN  NaN       NaN  34.932542\n",
       "\n",
       "[518 rows x 8 columns]"
      ]
     },
     "execution_count": 13,
     "metadata": {},
     "output_type": "execute_result"
    }
   ],
   "source": [
    "# Por último, revisamos la moda con interés en lo que las variable categoricas presenten (x_5 y x_6)\n",
    "df.mode()"
   ]
  },
  {
   "attachments": {},
   "cell_type": "markdown",
   "metadata": {},
   "source": [
    "Del DataFrame anterior se concluye que la moda para x_5 es Dec y para x_6 es MB"
   ]
  },
  {
   "attachments": {},
   "cell_type": "markdown",
   "metadata": {},
   "source": [
    "## Sustitución de valores faltantes"
   ]
  },
  {
   "cell_type": "code",
   "execution_count": 14,
   "metadata": {},
   "outputs": [
    {
     "name": "stdout",
     "output_type": "stream",
     "text": [
      "<class 'pandas.core.series.Series'>\n",
      "<class 'pandas.core.frame.DataFrame'>\n"
     ]
    }
   ],
   "source": [
    "df_test = df_clean_1.copy()\n",
    "# Antes de comenzar, veamos que para acceder al dataframe de una columna, se necesita doble square, porque con un square el objeto es de tipo Series\n",
    "print(type(df_test['x_1']))\n",
    "print(type(df_test[['x_1']]))"
   ]
  },
  {
   "cell_type": "code",
   "execution_count": 15,
   "metadata": {},
   "outputs": [
    {
     "data": {
      "text/plain": [
       "x_1     44\n",
       "x_2    263\n",
       "x_3     64\n",
       "x_4     21\n",
       "x_5    151\n",
       "x_6    170\n",
       "y       10\n",
       "dtype: int64"
      ]
     },
     "execution_count": 15,
     "metadata": {},
     "output_type": "execute_result"
    }
   ],
   "source": [
    "# DF sin sustitución\n",
    "df_test.isna().sum()"
   ]
  },
  {
   "cell_type": "code",
   "execution_count": 16,
   "metadata": {},
   "outputs": [],
   "source": [
    "def impute_bf(df, column_name, strategy):\n",
    "    if (strategy == 'random'):\n",
    "        df[[column_name]] = RandomSampleImputer().fit_transform(df[[column_name]])\n",
    "    else:\n",
    "        df[[column_name]] = SimpleImputer(strategy=strategy).fit_transform(df_test[[column_name]])"
   ]
  },
  {
   "cell_type": "code",
   "execution_count": 17,
   "metadata": {
    "collapsed": false
   },
   "outputs": [],
   "source": [
    "\n",
    "# Del df inferimos:\n",
    "# Numéricas: x_1, x_2, x_3, x_4, x_7\n",
    "# Categóricas: x_5, x_6\n",
    "# X_1 Dist Uniforme. Sustituir aleatoria\n",
    "impute_bf(df_test, 'x_1', 'random')\n",
    "# X_2 Sesgo positivo. Media Aritmética\n",
    "impute_bf(df_test, 'x_2', 'mean')\n",
    "# x_3 Dist Uniforme. Sustituir aleatoria\n",
    "impute_bf(df_test, 'x_3', 'random')\n",
    "# X_4 Sesgo negativo. Sustituir por mediana.\n",
    "impute_bf(df_test, 'x_4', 'median')\n",
    "# x_5 categorica. Sustituir por moda\n",
    "impute_bf(df_test, 'x_5', 'most_frequent')\n",
    "# x_6 categorica. Sustituir por moda\n",
    "impute_bf(df_test, 'x_6', 'most_frequent')\n",
    "# y Sesgo positivo. Media Aritmética\n",
    "impute_bf(df_test, 'y', 'mean')"
   ]
  },
  {
   "attachments": {},
   "cell_type": "markdown",
   "metadata": {},
   "source": [
    "### Para asegurarnos de que no existe ningún valor faltante, se ejecuta:"
   ]
  },
  {
   "cell_type": "code",
   "execution_count": 18,
   "metadata": {},
   "outputs": [
    {
     "name": "stdout",
     "output_type": "stream",
     "text": [
      "<class 'pandas.core.frame.DataFrame'>\n",
      "RangeIndex: 528 entries, 0 to 527\n",
      "Data columns (total 7 columns):\n",
      " #   Column  Non-Null Count  Dtype  \n",
      "---  ------  --------------  -----  \n",
      " 0   x_1     528 non-null    float64\n",
      " 1   x_2     528 non-null    float64\n",
      " 2   x_3     528 non-null    float64\n",
      " 3   x_4     528 non-null    float64\n",
      " 4   x_5     528 non-null    object \n",
      " 5   x_6     528 non-null    object \n",
      " 6   y       528 non-null    float64\n",
      "dtypes: float64(5), object(2)\n",
      "memory usage: 29.0+ KB\n"
     ]
    }
   ],
   "source": [
    "\n",
    "df_clean_1 = df_test.copy()\n",
    "df_clean_1.info()"
   ]
  },
  {
   "cell_type": "code",
   "execution_count": 19,
   "metadata": {},
   "outputs": [
    {
     "data": {
      "text/html": [
       "<div>\n",
       "<style scoped>\n",
       "    .dataframe tbody tr th:only-of-type {\n",
       "        vertical-align: middle;\n",
       "    }\n",
       "\n",
       "    .dataframe tbody tr th {\n",
       "        vertical-align: top;\n",
       "    }\n",
       "\n",
       "    .dataframe thead th {\n",
       "        text-align: right;\n",
       "    }\n",
       "</style>\n",
       "<table border=\"1\" class=\"dataframe\">\n",
       "  <thead>\n",
       "    <tr style=\"text-align: right;\">\n",
       "      <th></th>\n",
       "      <th>x_1</th>\n",
       "      <th>x_2</th>\n",
       "      <th>x_3</th>\n",
       "      <th>x_4</th>\n",
       "      <th>x_5</th>\n",
       "      <th>x_6</th>\n",
       "      <th>y</th>\n",
       "    </tr>\n",
       "  </thead>\n",
       "  <tbody>\n",
       "    <tr>\n",
       "      <th>0</th>\n",
       "      <td>15.310142</td>\n",
       "      <td>0.951598</td>\n",
       "      <td>8.436759</td>\n",
       "      <td>3.723421</td>\n",
       "      <td>Dec</td>\n",
       "      <td>MB</td>\n",
       "      <td>21.408846</td>\n",
       "    </tr>\n",
       "    <tr>\n",
       "      <th>1</th>\n",
       "      <td>11.841750</td>\n",
       "      <td>1.558534</td>\n",
       "      <td>-4.776643</td>\n",
       "      <td>4.304625</td>\n",
       "      <td>Dec</td>\n",
       "      <td>MB</td>\n",
       "      <td>0.273072</td>\n",
       "    </tr>\n",
       "    <tr>\n",
       "      <th>2</th>\n",
       "      <td>4.343978</td>\n",
       "      <td>0.951598</td>\n",
       "      <td>-1.839878</td>\n",
       "      <td>4.540588</td>\n",
       "      <td>Dec</td>\n",
       "      <td>MM</td>\n",
       "      <td>19.010811</td>\n",
       "    </tr>\n",
       "    <tr>\n",
       "      <th>3</th>\n",
       "      <td>13.058047</td>\n",
       "      <td>2.428672</td>\n",
       "      <td>9.003936</td>\n",
       "      <td>4.456992</td>\n",
       "      <td>Dec</td>\n",
       "      <td>MA</td>\n",
       "      <td>13.564040</td>\n",
       "    </tr>\n",
       "    <tr>\n",
       "      <th>4</th>\n",
       "      <td>14.892188</td>\n",
       "      <td>0.951598</td>\n",
       "      <td>8.468824</td>\n",
       "      <td>1.070600</td>\n",
       "      <td>Dec</td>\n",
       "      <td>B</td>\n",
       "      <td>25.493163</td>\n",
       "    </tr>\n",
       "    <tr>\n",
       "      <th>...</th>\n",
       "      <td>...</td>\n",
       "      <td>...</td>\n",
       "      <td>...</td>\n",
       "      <td>...</td>\n",
       "      <td>...</td>\n",
       "      <td>...</td>\n",
       "      <td>...</td>\n",
       "    </tr>\n",
       "    <tr>\n",
       "      <th>523</th>\n",
       "      <td>10.844312</td>\n",
       "      <td>0.951598</td>\n",
       "      <td>1.653327</td>\n",
       "      <td>4.249280</td>\n",
       "      <td>Dec</td>\n",
       "      <td>MM</td>\n",
       "      <td>7.833448</td>\n",
       "    </tr>\n",
       "    <tr>\n",
       "      <th>524</th>\n",
       "      <td>12.346405</td>\n",
       "      <td>0.951598</td>\n",
       "      <td>1.041838</td>\n",
       "      <td>3.406081</td>\n",
       "      <td>Dec</td>\n",
       "      <td>MB</td>\n",
       "      <td>10.452970</td>\n",
       "    </tr>\n",
       "    <tr>\n",
       "      <th>525</th>\n",
       "      <td>1.496831</td>\n",
       "      <td>3.115300</td>\n",
       "      <td>9.288658</td>\n",
       "      <td>4.547431</td>\n",
       "      <td>App</td>\n",
       "      <td>MM</td>\n",
       "      <td>9.310863</td>\n",
       "    </tr>\n",
       "    <tr>\n",
       "      <th>526</th>\n",
       "      <td>10.962513</td>\n",
       "      <td>0.951598</td>\n",
       "      <td>12.267643</td>\n",
       "      <td>2.867885</td>\n",
       "      <td>App</td>\n",
       "      <td>MA</td>\n",
       "      <td>27.283751</td>\n",
       "    </tr>\n",
       "    <tr>\n",
       "      <th>527</th>\n",
       "      <td>4.694991</td>\n",
       "      <td>0.562793</td>\n",
       "      <td>0.644289</td>\n",
       "      <td>2.128851</td>\n",
       "      <td>App</td>\n",
       "      <td>MB</td>\n",
       "      <td>6.373201</td>\n",
       "    </tr>\n",
       "  </tbody>\n",
       "</table>\n",
       "<p>528 rows × 7 columns</p>\n",
       "</div>"
      ],
      "text/plain": [
       "           x_1       x_2        x_3       x_4  x_5 x_6          y\n",
       "0    15.310142  0.951598   8.436759  3.723421  Dec  MB  21.408846\n",
       "1    11.841750  1.558534  -4.776643  4.304625  Dec  MB   0.273072\n",
       "2     4.343978  0.951598  -1.839878  4.540588  Dec  MM  19.010811\n",
       "3    13.058047  2.428672   9.003936  4.456992  Dec  MA  13.564040\n",
       "4    14.892188  0.951598   8.468824  1.070600  Dec   B  25.493163\n",
       "..         ...       ...        ...       ...  ...  ..        ...\n",
       "523  10.844312  0.951598   1.653327  4.249280  Dec  MM   7.833448\n",
       "524  12.346405  0.951598   1.041838  3.406081  Dec  MB  10.452970\n",
       "525   1.496831  3.115300   9.288658  4.547431  App  MM   9.310863\n",
       "526  10.962513  0.951598  12.267643  2.867885  App  MA  27.283751\n",
       "527   4.694991  0.562793   0.644289  2.128851  App  MB   6.373201\n",
       "\n",
       "[528 rows x 7 columns]"
      ]
     },
     "execution_count": 19,
     "metadata": {},
     "output_type": "execute_result"
    }
   ],
   "source": [
    "df_clean_1"
   ]
  },
  {
   "attachments": {},
   "cell_type": "markdown",
   "metadata": {},
   "source": [
    "## Regresión Lineal"
   ]
  },
  {
   "cell_type": "code",
   "execution_count": 20,
   "metadata": {},
   "outputs": [],
   "source": [
    "lr = LinearRegression()"
   ]
  },
  {
   "cell_type": "code",
   "execution_count": 21,
   "metadata": {},
   "outputs": [
    {
     "data": {
      "text/plain": [
       "(           x_1        x_3       x_4\n",
       " 0    15.310142   8.436759  3.723421\n",
       " 1    11.841750  -4.776643  4.304625\n",
       " 2     4.343978  -1.839878  4.540588\n",
       " 3    13.058047   9.003936  4.456992\n",
       " 4    14.892188   8.468824  1.070600\n",
       " ..         ...        ...       ...\n",
       " 523  10.844312   1.653327  4.249280\n",
       " 524  12.346405   1.041838  3.406081\n",
       " 525   1.496831   9.288658  4.547431\n",
       " 526  10.962513  12.267643  2.867885\n",
       " 527   4.694991   0.644289  2.128851\n",
       " \n",
       " [528 rows x 3 columns],\n",
       "              y\n",
       " 0    21.408846\n",
       " 1     0.273072\n",
       " 2    19.010811\n",
       " 3    13.564040\n",
       " 4    25.493163\n",
       " ..         ...\n",
       " 523   7.833448\n",
       " 524  10.452970\n",
       " 525   9.310863\n",
       " 526  27.283751\n",
       " 527   6.373201\n",
       " \n",
       " [528 rows x 1 columns])"
      ]
     },
     "execution_count": 21,
     "metadata": {},
     "output_type": "execute_result"
    }
   ],
   "source": [
    "# df_clean_1['x_4_square'] = df_clean_1['x_4']**2\n",
    "x = df_clean_1[['x_1','x_3','x_4']]\n",
    "y = df_clean_1[['y']]\n",
    "x , y\n"
   ]
  },
  {
   "cell_type": "code",
   "execution_count": 22,
   "metadata": {},
   "outputs": [],
   "source": [
    "lr.fit(x,y)\n",
    "score = lr.score(x,y)"
   ]
  },
  {
   "cell_type": "code",
   "execution_count": 23,
   "metadata": {},
   "outputs": [
    {
     "name": "stdout",
     "output_type": "stream",
     "text": [
      "Score: 0.764512113354016. Coeficiente:[[ 0.70411837  1.09519892 -2.09577154]]. Intercepto:[7.49220731]\n"
     ]
    }
   ],
   "source": [
    "print(f\"Score: {score}. Coeficiente:{lr.coef_}. Intercepto:{lr.intercept_}\")"
   ]
  },
  {
   "cell_type": "code",
   "execution_count": 24,
   "metadata": {},
   "outputs": [
    {
     "data": {
      "text/plain": [
       "      fun: 28.058767874003166\n",
       " hess_inv: array([[ 2.73086984e+00, -5.80756300e-02, -3.79744129e-02,\n",
       "        -1.54228249e-01],\n",
       "       [-5.80756300e-02,  1.11380094e-02, -1.43942021e-04,\n",
       "         1.04680734e-03],\n",
       "       [-3.79744129e-02, -1.43942021e-04,  9.46170668e-03,\n",
       "        -4.55422574e-04],\n",
       "       [-1.54228249e-01,  1.04680734e-03, -4.55422574e-04,\n",
       "         1.29322628e-02]])\n",
       "      jac: array([-2.38418579e-07,  1.19209290e-06, -2.38418579e-07, -2.62260437e-06])\n",
       "  message: 'Optimization terminated successfully.'\n",
       "     nfev: 75\n",
       "      nit: 11\n",
       "     njev: 15\n",
       "   status: 0\n",
       "  success: True\n",
       "        x: array([ 4.63339272,  0.70359844,  1.0936542 , -0.34013618])"
      ]
     },
     "execution_count": 24,
     "metadata": {},
     "output_type": "execute_result"
    }
   ],
   "source": [
    "def fun(a,x,x1,x2,y):\n",
    "    f=a[0]+a[1]*x+a[2]*x1+a[3]*x2**2\n",
    "    return np.mean((f-y)**2)\n",
    "a0 = np.random.rand(4)\n",
    "sol = minimize(fun, a0, args=(x.x_1, x.x_3, x.x_4, y.y))\n",
    "sol"
   ]
  },
  {
   "attachments": {},
   "cell_type": "markdown",
   "metadata": {},
   "source": [
    "# La ecuación encontrada es: \n",
    "$$\n",
    "\\begin{align}\n",
    "x = 4.0248 + 0.7083x_1 + 1.0844x_3 - 0.36x_4^2\\\\\n",
    "mse = 26.934870612859484 && \\text{Error Cuadrático medio} \\\\\n",
    "\\end{align}\n",
    "$$"
   ]
  },
  {
   "cell_type": "code",
   "execution_count": 32,
   "metadata": {},
   "outputs": [
    {
     "data": {
      "image/png": "[encoded data removed]",
      "text/plain": [
       "<Figure size 1400x400 with 3 Axes>"
      ]
     },
     "metadata": {},
     "output_type": "display_data"
    }
   ],
   "source": [
    "fig, axs = plt.subplots(1,3)\n",
    "prediction = lr.predict(x)\n",
    "axs[0].scatter(x.x_1,y.y,label = 'Observaciones x_1')\n",
    "axs[0].scatter(x.x_1,prediction,label = 'Prediccion')\n",
    "axs[0].legend()\n",
    "\n",
    "#axs[0].plt.grid()\n",
    "axs[1].scatter(x.x_3,y.y,label = 'Observaciones x_2')\n",
    "axs[1].scatter(x.x_3,prediction,label = 'Prediccion')\n",
    "axs[1].legend()\n",
    "\n",
    "\n",
    "axs[2].scatter(x.x_4,y.y,label = 'Observaciones x_4')\n",
    "axs[2].scatter(x.x_4,prediction,label = 'Prediccion')\n",
    "axs[2].legend()\n",
    "\n",
    "fig.suptitle(' Proyecciones de las predicciones sobre las variables originales ', fontsize=18)\n",
    "plt.rcParams[\"figure.figsize\"] = (14,4)\n",
    "plt.show()"
   ]
  }
 ],
 "metadata": {
  "kernelspec": {
   "display_name": "Python 3",
   "language": "python",
   "name": "python3"
  },
  "language_info": {
   "codemirror_mode": {
    "name": "ipython",
    "version": 3
   },
   "file_extension": ".py",
   "mimetype": "text/x-python",
   "name": "python",
   "nbconvert_exporter": "python",
   "pygments_lexer": "ipython3",
   "version": "3.10.6"
  },
  "vscode": {
   "interpreter": {
    "hash": "a4372ccc39bc69d1344801f11643c555230a2a2a6720f2dc8a4ecd2e4b6111c2"
   }
  }
 },
 "nbformat": 4,
 "nbformat_minor": 0
}
