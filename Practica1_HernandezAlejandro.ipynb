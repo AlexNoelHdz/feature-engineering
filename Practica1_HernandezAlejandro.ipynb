{
 "cells": [
  {
   "cell_type": "code",
   "execution_count": 1,
   "metadata": {
    "collapsed": true
   },
   "outputs": [],
   "source": [
    "# importar las bibliotecas necesarias\n",
    "import pandas as pd\n",
    "import warnings\n",
    "import numpy as np\n",
    "warnings.filterwarnings(\"ignore\")"
   ]
  },
  {
   "cell_type": "code",
   "execution_count": 2,
   "metadata": {
    "collapsed": false
   },
   "outputs": [
    {
     "data": {
      "text/html": [
       "<div>\n",
       "<style scoped>\n",
       "    .dataframe tbody tr th:only-of-type {\n",
       "        vertical-align: middle;\n",
       "    }\n",
       "\n",
       "    .dataframe tbody tr th {\n",
       "        vertical-align: top;\n",
       "    }\n",
       "\n",
       "    .dataframe thead th {\n",
       "        text-align: right;\n",
       "    }\n",
       "</style>\n",
       "<table border=\"1\" class=\"dataframe\">\n",
       "  <thead>\n",
       "    <tr style=\"text-align: right;\">\n",
       "      <th></th>\n",
       "      <th>x_1</th>\n",
       "      <th>x_2</th>\n",
       "      <th>x_3</th>\n",
       "      <th>x_4</th>\n",
       "      <th>x_5</th>\n",
       "      <th>x_6</th>\n",
       "      <th>x_7</th>\n",
       "      <th>y</th>\n",
       "    </tr>\n",
       "  </thead>\n",
       "  <tbody>\n",
       "    <tr>\n",
       "      <th>0</th>\n",
       "      <td>15.310142</td>\n",
       "      <td>NaN</td>\n",
       "      <td>8.436759</td>\n",
       "      <td>3.723421</td>\n",
       "      <td>Dec</td>\n",
       "      <td>NaN</td>\n",
       "      <td>1.319733</td>\n",
       "      <td>21.408846</td>\n",
       "    </tr>\n",
       "    <tr>\n",
       "      <th>1</th>\n",
       "      <td>11.841750</td>\n",
       "      <td>1.558534</td>\n",
       "      <td>-4.776643</td>\n",
       "      <td>4.304625</td>\n",
       "      <td>Dec</td>\n",
       "      <td>MB</td>\n",
       "      <td>7.129585</td>\n",
       "      <td>0.273072</td>\n",
       "    </tr>\n",
       "    <tr>\n",
       "      <th>2</th>\n",
       "      <td>4.343978</td>\n",
       "      <td>NaN</td>\n",
       "      <td>NaN</td>\n",
       "      <td>4.540588</td>\n",
       "      <td>NaN</td>\n",
       "      <td>MM</td>\n",
       "      <td>NaN</td>\n",
       "      <td>19.010811</td>\n",
       "    </tr>\n",
       "    <tr>\n",
       "      <th>3</th>\n",
       "      <td>NaN</td>\n",
       "      <td>2.428672</td>\n",
       "      <td>9.003936</td>\n",
       "      <td>4.456992</td>\n",
       "      <td>NaN</td>\n",
       "      <td>MA</td>\n",
       "      <td>NaN</td>\n",
       "      <td>13.564040</td>\n",
       "    </tr>\n",
       "    <tr>\n",
       "      <th>4</th>\n",
       "      <td>14.892188</td>\n",
       "      <td>NaN</td>\n",
       "      <td>8.468824</td>\n",
       "      <td>1.070600</td>\n",
       "      <td>NaN</td>\n",
       "      <td>B</td>\n",
       "      <td>3.369261</td>\n",
       "      <td>25.493163</td>\n",
       "    </tr>\n",
       "    <tr>\n",
       "      <th>...</th>\n",
       "      <td>...</td>\n",
       "      <td>...</td>\n",
       "      <td>...</td>\n",
       "      <td>...</td>\n",
       "      <td>...</td>\n",
       "      <td>...</td>\n",
       "      <td>...</td>\n",
       "      <td>...</td>\n",
       "    </tr>\n",
       "    <tr>\n",
       "      <th>523</th>\n",
       "      <td>10.844312</td>\n",
       "      <td>NaN</td>\n",
       "      <td>1.653327</td>\n",
       "      <td>4.249280</td>\n",
       "      <td>Dec</td>\n",
       "      <td>MM</td>\n",
       "      <td>NaN</td>\n",
       "      <td>7.833448</td>\n",
       "    </tr>\n",
       "    <tr>\n",
       "      <th>524</th>\n",
       "      <td>12.346405</td>\n",
       "      <td>NaN</td>\n",
       "      <td>1.041838</td>\n",
       "      <td>3.406081</td>\n",
       "      <td>Dec</td>\n",
       "      <td>MB</td>\n",
       "      <td>NaN</td>\n",
       "      <td>10.452970</td>\n",
       "    </tr>\n",
       "    <tr>\n",
       "      <th>525</th>\n",
       "      <td>1.496831</td>\n",
       "      <td>3.115300</td>\n",
       "      <td>9.288658</td>\n",
       "      <td>4.547431</td>\n",
       "      <td>App</td>\n",
       "      <td>MM</td>\n",
       "      <td>NaN</td>\n",
       "      <td>9.310863</td>\n",
       "    </tr>\n",
       "    <tr>\n",
       "      <th>526</th>\n",
       "      <td>NaN</td>\n",
       "      <td>NaN</td>\n",
       "      <td>12.267643</td>\n",
       "      <td>2.867885</td>\n",
       "      <td>App</td>\n",
       "      <td>MA</td>\n",
       "      <td>-1.471284</td>\n",
       "      <td>27.283751</td>\n",
       "    </tr>\n",
       "    <tr>\n",
       "      <th>527</th>\n",
       "      <td>4.694991</td>\n",
       "      <td>0.562793</td>\n",
       "      <td>0.644289</td>\n",
       "      <td>2.128851</td>\n",
       "      <td>App</td>\n",
       "      <td>MB</td>\n",
       "      <td>NaN</td>\n",
       "      <td>6.373201</td>\n",
       "    </tr>\n",
       "  </tbody>\n",
       "</table>\n",
       "<p>528 rows × 8 columns</p>\n",
       "</div>"
      ],
      "text/plain": [
       "           x_1       x_2        x_3       x_4  x_5  x_6       x_7          y\n",
       "0    15.310142       NaN   8.436759  3.723421  Dec  NaN  1.319733  21.408846\n",
       "1    11.841750  1.558534  -4.776643  4.304625  Dec   MB  7.129585   0.273072\n",
       "2     4.343978       NaN        NaN  4.540588  NaN   MM       NaN  19.010811\n",
       "3          NaN  2.428672   9.003936  4.456992  NaN   MA       NaN  13.564040\n",
       "4    14.892188       NaN   8.468824  1.070600  NaN    B  3.369261  25.493163\n",
       "..         ...       ...        ...       ...  ...  ...       ...        ...\n",
       "523  10.844312       NaN   1.653327  4.249280  Dec   MM       NaN   7.833448\n",
       "524  12.346405       NaN   1.041838  3.406081  Dec   MB       NaN  10.452970\n",
       "525   1.496831  3.115300   9.288658  4.547431  App   MM       NaN   9.310863\n",
       "526        NaN       NaN  12.267643  2.867885  App   MA -1.471284  27.283751\n",
       "527   4.694991  0.562793   0.644289  2.128851  App   MB       NaN   6.373201\n",
       "\n",
       "[528 rows x 8 columns]"
      ]
     },
     "execution_count": 2,
     "metadata": {},
     "output_type": "execute_result"
    }
   ],
   "source": [
    "# Cargar el archivo CSV\n",
    "df = pd.read_csv(\"files/dist.data\")\n",
    "df"
   ]
  },
  {
   "cell_type": "markdown",
   "metadata": {
    "collapsed": false
   },
   "source": [
    "Del df inferimos:\n",
    "Numéricas: x_1, x_2, x_3, x_4, x_7\n",
    "Categóricas: x_5, x_6"
   ]
  },
  {
   "cell_type": "code",
   "execution_count": 3,
   "metadata": {
    "collapsed": false
   },
   "outputs": [
    {
     "name": "stdout",
     "output_type": "stream",
     "text": [
      "<class 'pandas.core.frame.DataFrame'>\n",
      "RangeIndex: 528 entries, 0 to 527\n",
      "Data columns (total 8 columns):\n",
      " #   Column  Non-Null Count  Dtype  \n",
      "---  ------  --------------  -----  \n",
      " 0   x_1     484 non-null    float64\n",
      " 1   x_2     265 non-null    float64\n",
      " 2   x_3     464 non-null    float64\n",
      " 3   x_4     507 non-null    float64\n",
      " 4   x_5     377 non-null    object \n",
      " 5   x_6     358 non-null    object \n",
      " 6   x_7     155 non-null    float64\n",
      " 7   y       518 non-null    float64\n",
      "dtypes: float64(6), object(2)\n",
      "memory usage: 33.1+ KB\n"
     ]
    }
   ],
   "source": [
    "df.info()"
   ]
  },
  {
   "cell_type": "markdown",
   "metadata": {
    "collapsed": false
   },
   "source": [
    "Si los datos faltantes superan el 60% de los datos por columna, elimine esa columna."
   ]
  },
  {
   "cell_type": "code",
   "execution_count": 4,
   "metadata": {
    "collapsed": false
   },
   "outputs": [
    {
     "data": {
      "text/plain": [
       "x_1     8.333333\n",
       "x_2    49.810606\n",
       "x_3    12.121212\n",
       "x_4     3.977273\n",
       "x_5    28.598485\n",
       "x_6    32.196970\n",
       "x_7    70.643939\n",
       "y       1.893939\n",
       "dtype: float64"
      ]
     },
     "execution_count": 4,
     "metadata": {},
     "output_type": "execute_result"
    }
   ],
   "source": [
    "df.isna().sum()/len(df) * 100"
   ]
  },
  {
   "cell_type": "markdown",
   "metadata": {
    "collapsed": false
   },
   "source": [
    "Se elimina la columna x_7 según el criterio establecido"
   ]
  },
  {
   "cell_type": "code",
   "execution_count": 5,
   "metadata": {
    "collapsed": false
   },
   "outputs": [
    {
     "data": {
      "text/html": [
       "<div>\n",
       "<style scoped>\n",
       "    .dataframe tbody tr th:only-of-type {\n",
       "        vertical-align: middle;\n",
       "    }\n",
       "\n",
       "    .dataframe tbody tr th {\n",
       "        vertical-align: top;\n",
       "    }\n",
       "\n",
       "    .dataframe thead th {\n",
       "        text-align: right;\n",
       "    }\n",
       "</style>\n",
       "<table border=\"1\" class=\"dataframe\">\n",
       "  <thead>\n",
       "    <tr style=\"text-align: right;\">\n",
       "      <th></th>\n",
       "      <th>x_1</th>\n",
       "      <th>x_2</th>\n",
       "      <th>x_3</th>\n",
       "      <th>x_4</th>\n",
       "      <th>x_5</th>\n",
       "      <th>x_6</th>\n",
       "      <th>y</th>\n",
       "    </tr>\n",
       "  </thead>\n",
       "  <tbody>\n",
       "    <tr>\n",
       "      <th>0</th>\n",
       "      <td>15.310142</td>\n",
       "      <td>NaN</td>\n",
       "      <td>8.436759</td>\n",
       "      <td>3.723421</td>\n",
       "      <td>Dec</td>\n",
       "      <td>NaN</td>\n",
       "      <td>21.408846</td>\n",
       "    </tr>\n",
       "    <tr>\n",
       "      <th>1</th>\n",
       "      <td>11.841750</td>\n",
       "      <td>1.558534</td>\n",
       "      <td>-4.776643</td>\n",
       "      <td>4.304625</td>\n",
       "      <td>Dec</td>\n",
       "      <td>MB</td>\n",
       "      <td>0.273072</td>\n",
       "    </tr>\n",
       "    <tr>\n",
       "      <th>2</th>\n",
       "      <td>4.343978</td>\n",
       "      <td>NaN</td>\n",
       "      <td>NaN</td>\n",
       "      <td>4.540588</td>\n",
       "      <td>NaN</td>\n",
       "      <td>MM</td>\n",
       "      <td>19.010811</td>\n",
       "    </tr>\n",
       "    <tr>\n",
       "      <th>3</th>\n",
       "      <td>NaN</td>\n",
       "      <td>2.428672</td>\n",
       "      <td>9.003936</td>\n",
       "      <td>4.456992</td>\n",
       "      <td>NaN</td>\n",
       "      <td>MA</td>\n",
       "      <td>13.564040</td>\n",
       "    </tr>\n",
       "    <tr>\n",
       "      <th>4</th>\n",
       "      <td>14.892188</td>\n",
       "      <td>NaN</td>\n",
       "      <td>8.468824</td>\n",
       "      <td>1.070600</td>\n",
       "      <td>NaN</td>\n",
       "      <td>B</td>\n",
       "      <td>25.493163</td>\n",
       "    </tr>\n",
       "    <tr>\n",
       "      <th>...</th>\n",
       "      <td>...</td>\n",
       "      <td>...</td>\n",
       "      <td>...</td>\n",
       "      <td>...</td>\n",
       "      <td>...</td>\n",
       "      <td>...</td>\n",
       "      <td>...</td>\n",
       "    </tr>\n",
       "    <tr>\n",
       "      <th>523</th>\n",
       "      <td>10.844312</td>\n",
       "      <td>NaN</td>\n",
       "      <td>1.653327</td>\n",
       "      <td>4.249280</td>\n",
       "      <td>Dec</td>\n",
       "      <td>MM</td>\n",
       "      <td>7.833448</td>\n",
       "    </tr>\n",
       "    <tr>\n",
       "      <th>524</th>\n",
       "      <td>12.346405</td>\n",
       "      <td>NaN</td>\n",
       "      <td>1.041838</td>\n",
       "      <td>3.406081</td>\n",
       "      <td>Dec</td>\n",
       "      <td>MB</td>\n",
       "      <td>10.452970</td>\n",
       "    </tr>\n",
       "    <tr>\n",
       "      <th>525</th>\n",
       "      <td>1.496831</td>\n",
       "      <td>3.115300</td>\n",
       "      <td>9.288658</td>\n",
       "      <td>4.547431</td>\n",
       "      <td>App</td>\n",
       "      <td>MM</td>\n",
       "      <td>9.310863</td>\n",
       "    </tr>\n",
       "    <tr>\n",
       "      <th>526</th>\n",
       "      <td>NaN</td>\n",
       "      <td>NaN</td>\n",
       "      <td>12.267643</td>\n",
       "      <td>2.867885</td>\n",
       "      <td>App</td>\n",
       "      <td>MA</td>\n",
       "      <td>27.283751</td>\n",
       "    </tr>\n",
       "    <tr>\n",
       "      <th>527</th>\n",
       "      <td>4.694991</td>\n",
       "      <td>0.562793</td>\n",
       "      <td>0.644289</td>\n",
       "      <td>2.128851</td>\n",
       "      <td>App</td>\n",
       "      <td>MB</td>\n",
       "      <td>6.373201</td>\n",
       "    </tr>\n",
       "  </tbody>\n",
       "</table>\n",
       "<p>528 rows × 7 columns</p>\n",
       "</div>"
      ],
      "text/plain": [
       "           x_1       x_2        x_3       x_4  x_5  x_6          y\n",
       "0    15.310142       NaN   8.436759  3.723421  Dec  NaN  21.408846\n",
       "1    11.841750  1.558534  -4.776643  4.304625  Dec   MB   0.273072\n",
       "2     4.343978       NaN        NaN  4.540588  NaN   MM  19.010811\n",
       "3          NaN  2.428672   9.003936  4.456992  NaN   MA  13.564040\n",
       "4    14.892188       NaN   8.468824  1.070600  NaN    B  25.493163\n",
       "..         ...       ...        ...       ...  ...  ...        ...\n",
       "523  10.844312       NaN   1.653327  4.249280  Dec   MM   7.833448\n",
       "524  12.346405       NaN   1.041838  3.406081  Dec   MB  10.452970\n",
       "525   1.496831  3.115300   9.288658  4.547431  App   MM   9.310863\n",
       "526        NaN       NaN  12.267643  2.867885  App   MA  27.283751\n",
       "527   4.694991  0.562793   0.644289  2.128851  App   MB   6.373201\n",
       "\n",
       "[528 rows x 7 columns]"
      ]
     },
     "execution_count": 5,
     "metadata": {},
     "output_type": "execute_result"
    }
   ],
   "source": [
    "df_clean_1 = df.drop(['x_7'], axis=1)\n",
    "df_clean_1"
   ]
  },
  {
   "cell_type": "markdown",
   "metadata": {
    "collapsed": false
   },
   "source": [
    "Sustituya el resto de los datos faltantes:\n",
    "- Si la variable es categórica sustituya por la moda.\n",
    "- Si la variable presenta distribución uniforme, sustituya de forma aleatoria (considere como distribución uniforme curtosis menor a -1.2).\n",
    "- Si la variable presenta una distribución diferente a la uniforme:\n",
    "-- Sustituya por la media aritmética si presenta un sesgo positivo.\n",
    "-- Sustituya por la mediana si presenta un sesgo negativo."
   ]
  },
  {
   "cell_type": "code",
   "execution_count": 6,
   "metadata": {
    "collapsed": false
   },
   "outputs": [
    {
     "data": {
      "text/plain": [
       "array([[<AxesSubplot: title={'center': 'x_1'}>,\n",
       "        <AxesSubplot: title={'center': 'x_2'}>],\n",
       "       [<AxesSubplot: title={'center': 'x_3'}>,\n",
       "        <AxesSubplot: title={'center': 'x_4'}>],\n",
       "       [<AxesSubplot: title={'center': 'y'}>, <AxesSubplot: >]],\n",
       "      dtype=object)"
      ]
     },
     "execution_count": 6,
     "metadata": {},
     "output_type": "execute_result"
    },
    {
     "data": {
      "image/png": "[encoded data removed]",
      "text/plain": [
       "<Figure size 640x480 with 6 Axes>"
      ]
     },
     "metadata": {},
     "output_type": "display_data"
    }
   ],
   "source": [
    "df_clean_1.hist()"
   ]
  },
  {
   "cell_type": "code",
   "execution_count": 7,
   "metadata": {
    "collapsed": false
   },
   "outputs": [
    {
     "name": "stderr",
     "output_type": "stream",
     "text": [
      "C:\\Users\\anhernan\\AppData\\Local\\Temp\\ipykernel_11480\\1612660917.py:3: FutureWarning: Dropping of nuisance columns in DataFrame reductions (with 'numeric_only=None') is deprecated; in a future version this will raise TypeError.  Select only valid columns before calling the reduction.\n",
      "  df_clean_1.kurt() < -1.2\n"
     ]
    },
    {
     "data": {
      "text/plain": [
       "x_1     True\n",
       "x_2    False\n",
       "x_3     True\n",
       "x_4    False\n",
       "y      False\n",
       "dtype: bool"
      ]
     },
     "execution_count": 7,
     "metadata": {},
     "output_type": "execute_result"
    }
   ],
   "source": [
    "# - Si la variable presenta distribución uniforme, sustituya de forma aleatoria (considere como distribución uniforme curtosis menor a -1.2).\n",
    "# Revisamos si la kurtosis es menor que -1.2 para decidir qué variables tienen distribuión uniforme (A parte del método gráfico)\n",
    "df_clean_1.kurt() < -1.2"
   ]
  },
  {
   "cell_type": "code",
   "execution_count": 8,
   "metadata": {
    "collapsed": false
   },
   "outputs": [
    {
     "name": "stderr",
     "output_type": "stream",
     "text": [
      "C:\\Users\\anhernan\\AppData\\Local\\Temp\\ipykernel_11480\\794827671.py:5: FutureWarning: Dropping of nuisance columns in DataFrame reductions (with 'numeric_only=None') is deprecated; in a future version this will raise TypeError.  Select only valid columns before calling the reduction.\n",
      "  df_clean_1.skew()\n"
     ]
    },
    {
     "data": {
      "text/plain": [
       "x_1    0.045977\n",
       "x_2    0.196266\n",
       "x_3    0.012478\n",
       "x_4   -0.478714\n",
       "y      0.130844\n",
       "dtype: float64"
      ]
     },
     "execution_count": 8,
     "metadata": {},
     "output_type": "execute_result"
    }
   ],
   "source": [
    "# - Si la variable presenta una distribución diferente a la uniforme:\n",
    "# -- Sustituya por la media aritmética si presenta un sesgo positivo.\n",
    "# -- Sustituya por la mediana si presenta un sesgo negativo.\n",
    "# Con la función skew podemos checar si el sesgo es postivo o negativo\n",
    "df_clean_1.skew()"
   ]
  },
  {
   "attachments": {},
   "cell_type": "markdown",
   "metadata": {},
   "source": [
    "## Sustitución de valores faltantes"
   ]
  },
  {
   "cell_type": "code",
   "execution_count": null,
   "metadata": {
    "collapsed": false
   },
   "outputs": [],
   "source": [
    "# Del df inferimos:\n",
    "# Numéricas: x_1, x_2, x_3, x_4, x_7\n",
    "# Categóricas: x_5, x_6\n",
    "# X_1 Dist Uniforme. Sustituir aleatoria\n",
    "df_no_nan = df.copy()\n",
    "df_no_nan.dropna(inplace=True)\n",
    "df_no_nan.reset_index(drop=True, inplace=True)\n",
    "random_index = np.random.randint(df_no_nan.shape[0],size=df.x3.isna().sum())\n",
    "df_clean_1.x3.loc[np.where(df.x3.isna())] = df_no_nan.x3.loc[random_index].values\n",
    "df_clean_1.x3.isna().sum()\n",
    "\n",
    "\n",
    "# X_2 Sesgo positivo. Media Aritmética\n",
    "# x_3 Dist Uniforme. Sustituir aleatoria\n",
    "# X_4 Sesgo negativo. Sustituir por mediana.\n",
    "# x_5 categorica. Sustituir por moda\n",
    "# x_6 categorica. Sustituir por moda\n",
    "# y Sesgo positivo. Media Aritmética"
   ]
  }
 ],
 "metadata": {
  "kernelspec": {
   "display_name": "Python 3",
   "language": "python",
   "name": "python3"
  },
  "language_info": {
   "codemirror_mode": {
    "name": "ipython",
    "version": 3
   },
   "file_extension": ".py",
   "mimetype": "text/x-python",
   "name": "python",
   "nbconvert_exporter": "python",
   "pygments_lexer": "ipython3",
   "version": "3.10.6"
  },
  "vscode": {
   "interpreter": {
    "hash": "a4372ccc39bc69d1344801f11643c555230a2a2a6720f2dc8a4ecd2e4b6111c2"
   }
  }
 },
 "nbformat": 4,
 "nbformat_minor": 0
}
