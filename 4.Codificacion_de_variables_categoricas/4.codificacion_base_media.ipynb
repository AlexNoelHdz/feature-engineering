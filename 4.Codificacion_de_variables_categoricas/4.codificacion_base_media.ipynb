{
 "cells": [
  {
   "attachments": {},
   "cell_type": "markdown",
   "metadata": {},
   "source": [
    "Codificación con base en la media"
   ]
  },
  {
   "cell_type": "code",
   "execution_count": 1,
   "metadata": {},
   "outputs": [
    {
     "data": {
      "text/html": [
       "<div>\n",
       "<style scoped>\n",
       "    .dataframe tbody tr th:only-of-type {\n",
       "        vertical-align: middle;\n",
       "    }\n",
       "\n",
       "    .dataframe tbody tr th {\n",
       "        vertical-align: top;\n",
       "    }\n",
       "\n",
       "    .dataframe thead th {\n",
       "        text-align: right;\n",
       "    }\n",
       "</style>\n",
       "<table border=\"1\" class=\"dataframe\">\n",
       "  <thead>\n",
       "    <tr style=\"text-align: right;\">\n",
       "      <th></th>\n",
       "      <th>Días</th>\n",
       "      <th>Pronóstico</th>\n",
       "      <th>Temperatura máxima</th>\n",
       "      <th>Temperatura mínima</th>\n",
       "    </tr>\n",
       "  </thead>\n",
       "  <tbody>\n",
       "    <tr>\n",
       "      <th>0</th>\n",
       "      <td>Sábado</td>\n",
       "      <td>Parcialmente nublado</td>\n",
       "      <td>28.2</td>\n",
       "      <td>11.2</td>\n",
       "    </tr>\n",
       "    <tr>\n",
       "      <th>1</th>\n",
       "      <td>Domingo</td>\n",
       "      <td>Parcialmente nublado</td>\n",
       "      <td>29.1</td>\n",
       "      <td>10.7</td>\n",
       "    </tr>\n",
       "    <tr>\n",
       "      <th>2</th>\n",
       "      <td>Lunes</td>\n",
       "      <td>Mayormente nublado</td>\n",
       "      <td>26.1</td>\n",
       "      <td>10.4</td>\n",
       "    </tr>\n",
       "    <tr>\n",
       "      <th>3</th>\n",
       "      <td>Martes</td>\n",
       "      <td>Mayormente soleado</td>\n",
       "      <td>29.4</td>\n",
       "      <td>11.1</td>\n",
       "    </tr>\n",
       "    <tr>\n",
       "      <th>4</th>\n",
       "      <td>Miércoles</td>\n",
       "      <td>Mayormente soleado</td>\n",
       "      <td>29.8</td>\n",
       "      <td>11.1</td>\n",
       "    </tr>\n",
       "  </tbody>\n",
       "</table>\n",
       "</div>"
      ],
      "text/plain": [
       "        Días            Pronóstico Temperatura máxima Temperatura mínima\n",
       "0     Sábado  Parcialmente nublado               28.2               11.2\n",
       "1    Domingo  Parcialmente nublado               29.1               10.7\n",
       "2      Lunes    Mayormente nublado               26.1               10.4\n",
       "3     Martes    Mayormente soleado               29.4               11.1\n",
       "4  Miércoles    Mayormente soleado               29.8               11.1"
      ]
     },
     "execution_count": 1,
     "metadata": {},
     "output_type": "execute_result"
    }
   ],
   "source": [
    "import pandas as pd\n",
    "import numpy as np\n",
    "ruta='data/'\n",
    "\n",
    "data=pd.read_csv(ruta+'temps.txt',sep='\\s+',header=None) # Fuente: http://astro.iam.udg.mx/Estacion/NOAAPRMO.TXT\n",
    "                                                         #         http://astro.iam.udg.mx/Estacion/NOAAMO.TXT\n",
    "data.columns=['Temperatura máxima','Temperatura mínima','HDD','CDD','Rain']\n",
    "d=['Sábado','Domingo','Lunes','Martes','Miércoles','Jueves','Viernes']\n",
    "dias=[d[i%7] for i in range(len(data))]\n",
    "catego=['Soleado','Mayormente soleado','Parcialmente nublado','Mayormente nublado','Nublado','Lluvioso']\n",
    "prono=[catego[-1] if data['Rain'][i]>0 else catego[int(round(1.2*(data['HDD'][i]-data['CDD'][i])+2))] for i in range(len(data))]\n",
    "df=pd.DataFrame(columns=['Días','Pronóstico','Temperatura máxima','Temperatura mínima'],index=range(len(data)))\n",
    "df.iloc[:,2:4]=data.iloc[:,0:2]\n",
    "df['Días']=dias\n",
    "df['Pronóstico']=prono\n",
    "df.head()"
   ]
  },
  {
   "cell_type": "code",
   "execution_count": 2,
   "metadata": {},
   "outputs": [
    {
     "data": {
      "text/plain": [
       "Pronóstico\n",
       "Lluvioso                27.250000\n",
       "Mayormente nublado      25.600000\n",
       "Mayormente soleado      28.228571\n",
       "Nublado                 25.650000\n",
       "Parcialmente nublado    27.022222\n",
       "Soleado                 28.900000\n",
       "Name: Temperatura máxima, dtype: float64"
      ]
     },
     "execution_count": 2,
     "metadata": {},
     "output_type": "execute_result"
    }
   ],
   "source": [
    "df.groupby('Pronóstico')['Temperatura máxima'].mean()"
   ]
  },
  {
   "attachments": {},
   "cell_type": "markdown",
   "metadata": {},
   "source": [
    "Forma 1, se usa media pero puede ser cualquier medida de tendencia central"
   ]
  },
  {
   "cell_type": "code",
   "execution_count": 3,
   "metadata": {},
   "outputs": [
    {
     "data": {
      "text/html": [
       "<div>\n",
       "<style scoped>\n",
       "    .dataframe tbody tr th:only-of-type {\n",
       "        vertical-align: middle;\n",
       "    }\n",
       "\n",
       "    .dataframe tbody tr th {\n",
       "        vertical-align: top;\n",
       "    }\n",
       "\n",
       "    .dataframe thead th {\n",
       "        text-align: right;\n",
       "    }\n",
       "</style>\n",
       "<table border=\"1\" class=\"dataframe\">\n",
       "  <thead>\n",
       "    <tr style=\"text-align: right;\">\n",
       "      <th></th>\n",
       "      <th>Días</th>\n",
       "      <th>Pronóstico</th>\n",
       "      <th>Temperatura máxima</th>\n",
       "      <th>Temperatura mínima</th>\n",
       "      <th>media</th>\n",
       "    </tr>\n",
       "  </thead>\n",
       "  <tbody>\n",
       "    <tr>\n",
       "      <th>0</th>\n",
       "      <td>Sábado</td>\n",
       "      <td>Parcialmente nublado</td>\n",
       "      <td>28.2</td>\n",
       "      <td>11.2</td>\n",
       "      <td>27.022222</td>\n",
       "    </tr>\n",
       "    <tr>\n",
       "      <th>1</th>\n",
       "      <td>Domingo</td>\n",
       "      <td>Parcialmente nublado</td>\n",
       "      <td>29.1</td>\n",
       "      <td>10.7</td>\n",
       "      <td>27.022222</td>\n",
       "    </tr>\n",
       "    <tr>\n",
       "      <th>2</th>\n",
       "      <td>Lunes</td>\n",
       "      <td>Mayormente nublado</td>\n",
       "      <td>26.1</td>\n",
       "      <td>10.4</td>\n",
       "      <td>25.600000</td>\n",
       "    </tr>\n",
       "    <tr>\n",
       "      <th>3</th>\n",
       "      <td>Martes</td>\n",
       "      <td>Mayormente soleado</td>\n",
       "      <td>29.4</td>\n",
       "      <td>11.1</td>\n",
       "      <td>28.228571</td>\n",
       "    </tr>\n",
       "    <tr>\n",
       "      <th>4</th>\n",
       "      <td>Miércoles</td>\n",
       "      <td>Mayormente soleado</td>\n",
       "      <td>29.8</td>\n",
       "      <td>11.1</td>\n",
       "      <td>28.228571</td>\n",
       "    </tr>\n",
       "  </tbody>\n",
       "</table>\n",
       "</div>"
      ],
      "text/plain": [
       "        Días            Pronóstico Temperatura máxima Temperatura mínima  \\\n",
       "0     Sábado  Parcialmente nublado               28.2               11.2   \n",
       "1    Domingo  Parcialmente nublado               29.1               10.7   \n",
       "2      Lunes    Mayormente nublado               26.1               10.4   \n",
       "3     Martes    Mayormente soleado               29.4               11.1   \n",
       "4  Miércoles    Mayormente soleado               29.8               11.1   \n",
       "\n",
       "       media  \n",
       "0  27.022222  \n",
       "1  27.022222  \n",
       "2  25.600000  \n",
       "3  28.228571  \n",
       "4  28.228571  "
      ]
     },
     "execution_count": 3,
     "metadata": {},
     "output_type": "execute_result"
    }
   ],
   "source": [
    "df['media']=df['Pronóstico'].map(_)\n",
    "df.head()"
   ]
  },
  {
   "attachments": {},
   "cell_type": "markdown",
   "metadata": {},
   "source": [
    "Usando los coeficientes de una regresión en una codificación de Efectos"
   ]
  },
  {
   "cell_type": "code",
   "execution_count": 5,
   "metadata": {},
   "outputs": [
    {
     "data": {
      "text/html": [
       "<div>\n",
       "<style scoped>\n",
       "    .dataframe tbody tr th:only-of-type {\n",
       "        vertical-align: middle;\n",
       "    }\n",
       "\n",
       "    .dataframe tbody tr th {\n",
       "        vertical-align: top;\n",
       "    }\n",
       "\n",
       "    .dataframe thead th {\n",
       "        text-align: right;\n",
       "    }\n",
       "</style>\n",
       "<table border=\"1\" class=\"dataframe\">\n",
       "  <thead>\n",
       "    <tr style=\"text-align: right;\">\n",
       "      <th></th>\n",
       "      <th>Días</th>\n",
       "      <th>Temperatura máxima</th>\n",
       "      <th>Temperatura mínima</th>\n",
       "      <th>media</th>\n",
       "      <th>Mayormente nublado</th>\n",
       "      <th>Mayormente soleado</th>\n",
       "      <th>Nublado</th>\n",
       "      <th>Parcialmente nublado</th>\n",
       "      <th>Soleado</th>\n",
       "    </tr>\n",
       "  </thead>\n",
       "  <tbody>\n",
       "    <tr>\n",
       "      <th>0</th>\n",
       "      <td>Sábado</td>\n",
       "      <td>28.2</td>\n",
       "      <td>11.2</td>\n",
       "      <td>27.022222</td>\n",
       "      <td>0</td>\n",
       "      <td>0</td>\n",
       "      <td>0</td>\n",
       "      <td>1</td>\n",
       "      <td>0</td>\n",
       "    </tr>\n",
       "    <tr>\n",
       "      <th>1</th>\n",
       "      <td>Domingo</td>\n",
       "      <td>29.1</td>\n",
       "      <td>10.7</td>\n",
       "      <td>27.022222</td>\n",
       "      <td>0</td>\n",
       "      <td>0</td>\n",
       "      <td>0</td>\n",
       "      <td>1</td>\n",
       "      <td>0</td>\n",
       "    </tr>\n",
       "    <tr>\n",
       "      <th>2</th>\n",
       "      <td>Lunes</td>\n",
       "      <td>26.1</td>\n",
       "      <td>10.4</td>\n",
       "      <td>25.600000</td>\n",
       "      <td>1</td>\n",
       "      <td>0</td>\n",
       "      <td>0</td>\n",
       "      <td>0</td>\n",
       "      <td>0</td>\n",
       "    </tr>\n",
       "    <tr>\n",
       "      <th>3</th>\n",
       "      <td>Martes</td>\n",
       "      <td>29.4</td>\n",
       "      <td>11.1</td>\n",
       "      <td>28.228571</td>\n",
       "      <td>0</td>\n",
       "      <td>1</td>\n",
       "      <td>0</td>\n",
       "      <td>0</td>\n",
       "      <td>0</td>\n",
       "    </tr>\n",
       "    <tr>\n",
       "      <th>4</th>\n",
       "      <td>Miércoles</td>\n",
       "      <td>29.8</td>\n",
       "      <td>11.1</td>\n",
       "      <td>28.228571</td>\n",
       "      <td>0</td>\n",
       "      <td>1</td>\n",
       "      <td>0</td>\n",
       "      <td>0</td>\n",
       "      <td>0</td>\n",
       "    </tr>\n",
       "  </tbody>\n",
       "</table>\n",
       "</div>"
      ],
      "text/plain": [
       "        Días Temperatura máxima Temperatura mínima      media  \\\n",
       "0     Sábado               28.2               11.2  27.022222   \n",
       "1    Domingo               29.1               10.7  27.022222   \n",
       "2      Lunes               26.1               10.4  25.600000   \n",
       "3     Martes               29.4               11.1  28.228571   \n",
       "4  Miércoles               29.8               11.1  28.228571   \n",
       "\n",
       "   Mayormente nublado  Mayormente soleado  Nublado  Parcialmente nublado  \\\n",
       "0                   0                   0        0                     1   \n",
       "1                   0                   0        0                     1   \n",
       "2                   1                   0        0                     0   \n",
       "3                   0                   1        0                     0   \n",
       "4                   0                   1        0                     0   \n",
       "\n",
       "   Soleado  \n",
       "0        0  \n",
       "1        0  \n",
       "2        0  \n",
       "3        0  \n",
       "4        0  "
      ]
     },
     "execution_count": 5,
     "metadata": {},
     "output_type": "execute_result"
    }
   ],
   "source": [
    "# Elimina primera categoría de Pronóstico\n",
    "E=pd.get_dummies(df,columns=['Pronóstico'], drop_first=True, prefix='', prefix_sep='')\n",
    "E.head()"
   ]
  },
  {
   "cell_type": "code",
   "execution_count": 6,
   "metadata": {},
   "outputs": [
    {
     "data": {
      "text/plain": [
       "'Lluvioso'"
      ]
     },
     "execution_count": 6,
     "metadata": {},
     "output_type": "execute_result"
    }
   ],
   "source": [
    "# regresa directamente el contenido\n",
    "CR,=set(df['Pronóstico'].unique())-set(E.columns)\n",
    "CR"
   ]
  },
  {
   "cell_type": "code",
   "execution_count": 7,
   "metadata": {},
   "outputs": [
    {
     "data": {
      "text/plain": [
       "array([17, 44], dtype=int64)"
      ]
     },
     "execution_count": 7,
     "metadata": {},
     "output_type": "execute_result"
    }
   ],
   "source": [
    "idx,=np.where(df['Pronóstico']==CR)\n",
    "idx"
   ]
  },
  {
   "cell_type": "code",
   "execution_count": 8,
   "metadata": {},
   "outputs": [
    {
     "name": "stderr",
     "output_type": "stream",
     "text": [
      "C:\\Users\\nhernand\\AppData\\Local\\Temp\\ipykernel_21132\\940766994.py:1: DeprecationWarning: In a future version, `df.iloc[:, i] = newvals` will attempt to set the values inplace instead of always setting a new array. To retain the old behavior, use either `df[df.columns[i]] = newvals` or, if columns are non-unique, `df.isetitem(i, newvals)`\n",
      "  E.iloc[:,4:]=E.iloc[:,4:].astype('int')\n"
     ]
    },
    {
     "data": {
      "text/plain": [
       "Días                     object\n",
       "Temperatura máxima       object\n",
       "Temperatura mínima       object\n",
       "media                   float64\n",
       "Mayormente nublado        int32\n",
       "Mayormente soleado        int32\n",
       "Nublado                   int32\n",
       "Parcialmente nublado      int32\n",
       "Soleado                   int32\n",
       "dtype: object"
      ]
     },
     "execution_count": 8,
     "metadata": {},
     "output_type": "execute_result"
    }
   ],
   "source": [
    "E.iloc[:,4:]=E.iloc[:,4:].astype('int')\n",
    "E.dtypes\n"
   ]
  },
  {
   "cell_type": "code",
   "execution_count": 9,
   "metadata": {},
   "outputs": [
    {
     "name": "stderr",
     "output_type": "stream",
     "text": [
      "C:\\Users\\nhernand\\AppData\\Local\\Temp\\ipykernel_21132\\2179449719.py:1: FutureWarning: Slicing a positional slice with .loc is not supported, and will raise TypeError in a future version.  Use .loc with labels or .iloc with positions instead.\n",
      "  E.loc[idx,4:]=-1\n"
     ]
    }
   ],
   "source": [
    "E.loc[idx,4:]=-1"
   ]
  },
  {
   "cell_type": "code",
   "execution_count": 10,
   "metadata": {},
   "outputs": [
    {
     "data": {
      "text/plain": [
       "Días                    Martes\n",
       "Temperatura máxima        27.9\n",
       "Temperatura mínima        11.5\n",
       "media                    27.25\n",
       "Mayormente nublado          -1\n",
       "Mayormente soleado          -1\n",
       "Nublado                     -1\n",
       "Parcialmente nublado        -1\n",
       "Soleado                     -1\n",
       "Name: 17, dtype: object"
      ]
     },
     "execution_count": 10,
     "metadata": {},
     "output_type": "execute_result"
    }
   ],
   "source": [
    "E.iloc[17]"
   ]
  },
  {
   "cell_type": "code",
   "execution_count": 11,
   "metadata": {},
   "outputs": [
    {
     "data": {
      "text/plain": [
       "array(['Parcialmente nublado', 'Mayormente nublado', 'Mayormente soleado',\n",
       "       'Soleado', 'Lluvioso', 'Nublado'], dtype=object)"
      ]
     },
     "execution_count": 11,
     "metadata": {},
     "output_type": "execute_result"
    }
   ],
   "source": [
    "df.Pronóstico.unique()"
   ]
  },
  {
   "cell_type": "code",
   "execution_count": 12,
   "metadata": {},
   "outputs": [
    {
     "data": {
      "text/plain": [
       "array(['Parcialmente nublado', 'Mayormente nublado', 'Mayormente soleado',\n",
       "       'Soleado', 'Nublado'], dtype=object)"
      ]
     },
     "execution_count": 12,
     "metadata": {},
     "output_type": "execute_result"
    }
   ],
   "source": [
    "df_reg = df[df['Pronóstico'] != 'Lluvioso']\n",
    "df_reg.Pronóstico.unique()"
   ]
  },
  {
   "cell_type": "code",
   "execution_count": 13,
   "metadata": {},
   "outputs": [
    {
     "data": {
      "text/html": [
       "<style>#sk-container-id-1 {color: black;background-color: white;}#sk-container-id-1 pre{padding: 0;}#sk-container-id-1 div.sk-toggleable {background-color: white;}#sk-container-id-1 label.sk-toggleable__label {cursor: pointer;display: block;width: 100%;margin-bottom: 0;padding: 0.3em;box-sizing: border-box;text-align: center;}#sk-container-id-1 label.sk-toggleable__label-arrow:before {content: \"▸\";float: left;margin-right: 0.25em;color: #696969;}#sk-container-id-1 label.sk-toggleable__label-arrow:hover:before {color: black;}#sk-container-id-1 div.sk-estimator:hover label.sk-toggleable__label-arrow:before {color: black;}#sk-container-id-1 div.sk-toggleable__content {max-height: 0;max-width: 0;overflow: hidden;text-align: left;background-color: #f0f8ff;}#sk-container-id-1 div.sk-toggleable__content pre {margin: 0.2em;color: black;border-radius: 0.25em;background-color: #f0f8ff;}#sk-container-id-1 input.sk-toggleable__control:checked~div.sk-toggleable__content {max-height: 200px;max-width: 100%;overflow: auto;}#sk-container-id-1 input.sk-toggleable__control:checked~label.sk-toggleable__label-arrow:before {content: \"▾\";}#sk-container-id-1 div.sk-estimator input.sk-toggleable__control:checked~label.sk-toggleable__label {background-color: #d4ebff;}#sk-container-id-1 div.sk-label input.sk-toggleable__control:checked~label.sk-toggleable__label {background-color: #d4ebff;}#sk-container-id-1 input.sk-hidden--visually {border: 0;clip: rect(1px 1px 1px 1px);clip: rect(1px, 1px, 1px, 1px);height: 1px;margin: -1px;overflow: hidden;padding: 0;position: absolute;width: 1px;}#sk-container-id-1 div.sk-estimator {font-family: monospace;background-color: #f0f8ff;border: 1px dotted black;border-radius: 0.25em;box-sizing: border-box;margin-bottom: 0.5em;}#sk-container-id-1 div.sk-estimator:hover {background-color: #d4ebff;}#sk-container-id-1 div.sk-parallel-item::after {content: \"\";width: 100%;border-bottom: 1px solid gray;flex-grow: 1;}#sk-container-id-1 div.sk-label:hover label.sk-toggleable__label {background-color: #d4ebff;}#sk-container-id-1 div.sk-serial::before {content: \"\";position: absolute;border-left: 1px solid gray;box-sizing: border-box;top: 0;bottom: 0;left: 50%;z-index: 0;}#sk-container-id-1 div.sk-serial {display: flex;flex-direction: column;align-items: center;background-color: white;padding-right: 0.2em;padding-left: 0.2em;position: relative;}#sk-container-id-1 div.sk-item {position: relative;z-index: 1;}#sk-container-id-1 div.sk-parallel {display: flex;align-items: stretch;justify-content: center;background-color: white;position: relative;}#sk-container-id-1 div.sk-item::before, #sk-container-id-1 div.sk-parallel-item::before {content: \"\";position: absolute;border-left: 1px solid gray;box-sizing: border-box;top: 0;bottom: 0;left: 50%;z-index: -1;}#sk-container-id-1 div.sk-parallel-item {display: flex;flex-direction: column;z-index: 1;position: relative;background-color: white;}#sk-container-id-1 div.sk-parallel-item:first-child::after {align-self: flex-end;width: 50%;}#sk-container-id-1 div.sk-parallel-item:last-child::after {align-self: flex-start;width: 50%;}#sk-container-id-1 div.sk-parallel-item:only-child::after {width: 0;}#sk-container-id-1 div.sk-dashed-wrapped {border: 1px dashed gray;margin: 0 0.4em 0.5em 0.4em;box-sizing: border-box;padding-bottom: 0.4em;background-color: white;}#sk-container-id-1 div.sk-label label {font-family: monospace;font-weight: bold;display: inline-block;line-height: 1.2em;}#sk-container-id-1 div.sk-label-container {text-align: center;}#sk-container-id-1 div.sk-container {/* jupyter's `normalize.less` sets `[hidden] { display: none; }` but bootstrap.min.css set `[hidden] { display: none !important; }` so we also need the `!important` here to be able to override the default hidden behavior on the sphinx rendered scikit-learn.org. See: https://github.com/scikit-learn/scikit-learn/issues/21755 */display: inline-block !important;position: relative;}#sk-container-id-1 div.sk-text-repr-fallback {display: none;}</style><div id=\"sk-container-id-1\" class=\"sk-top-container\"><div class=\"sk-text-repr-fallback\"><pre>LinearRegression()</pre><b>In a Jupyter environment, please rerun this cell to show the HTML representation or trust the notebook. <br />On GitHub, the HTML representation is unable to render, please try loading this page with nbviewer.org.</b></div><div class=\"sk-container\" hidden><div class=\"sk-item\"><div class=\"sk-estimator sk-toggleable\"><input class=\"sk-toggleable__control sk-hidden--visually\" id=\"sk-estimator-id-1\" type=\"checkbox\" checked><label for=\"sk-estimator-id-1\" class=\"sk-toggleable__label sk-toggleable__label-arrow\">LinearRegression</label><div class=\"sk-toggleable__content\"><pre>LinearRegression()</pre></div></div></div></div></div>"
      ],
      "text/plain": [
       "LinearRegression()"
      ]
     },
     "execution_count": 13,
     "metadata": {},
     "output_type": "execute_result"
    }
   ],
   "source": [
    "from sklearn.linear_model import LinearRegression\n",
    "\n",
    "\n",
    "lin=LinearRegression()\n",
    "lin.fit(E[['Parcialmente nublado', 'Mayormente nublado', 'Mayormente soleado',\n",
    "       'Soleado', 'Nublado']], E['Temperatura máxima'])\n",
    "lin"
   ]
  },
  {
   "cell_type": "code",
   "execution_count": 14,
   "metadata": {},
   "outputs": [
    {
     "data": {
      "text/plain": [
       "array([-0.08624339, -1.50846561,  1.12010582,  1.79153439, -1.45846561])"
      ]
     },
     "execution_count": 14,
     "metadata": {},
     "output_type": "execute_result"
    }
   ],
   "source": [
    "lin.coef_"
   ]
  },
  {
   "cell_type": "code",
   "execution_count": 15,
   "metadata": {},
   "outputs": [
    {
     "data": {
      "text/plain": [
       "{'Parcialmente nublado': -0.08624338624338683,\n",
       " 'Mayormente nublado': -1.5084656084656092,\n",
       " 'Mayormente soleado': 1.120105820105819,\n",
       " 'Soleado': 1.7915343915343904,\n",
       " 'Nublado': -1.4584656084656071}"
      ]
     },
     "execution_count": 15,
     "metadata": {},
     "output_type": "execute_result"
    }
   ],
   "source": [
    "orden=['Parcialmente nublado', 'Mayormente nublado', 'Mayormente soleado',\n",
    "       'Soleado', 'Nublado']\n",
    "d={catego:coef for catego,coef in zip(orden, lin.coef_)}\n",
    "d # Acá falta lluvioso"
   ]
  },
  {
   "cell_type": "code",
   "execution_count": 16,
   "metadata": {},
   "outputs": [
    {
     "data": {
      "text/plain": [
       "{'Parcialmente nublado': -0.08624338624338683,\n",
       " 'Mayormente nublado': -1.5084656084656092,\n",
       " 'Mayormente soleado': 1.120105820105819,\n",
       " 'Soleado': 1.7915343915343904,\n",
       " 'Nublado': -1.4584656084656071,\n",
       " 'Lluvioso': 27.10846560846561}"
      ]
     },
     "execution_count": 16,
     "metadata": {},
     "output_type": "execute_result"
    }
   ],
   "source": [
    "# Se agrega lluvioso\n",
    "d[CR]=lin.intercept_\n",
    "d"
   ]
  },
  {
   "cell_type": "code",
   "execution_count": 17,
   "metadata": {},
   "outputs": [
    {
     "data": {
      "text/html": [
       "<div>\n",
       "<style scoped>\n",
       "    .dataframe tbody tr th:only-of-type {\n",
       "        vertical-align: middle;\n",
       "    }\n",
       "\n",
       "    .dataframe tbody tr th {\n",
       "        vertical-align: top;\n",
       "    }\n",
       "\n",
       "    .dataframe thead th {\n",
       "        text-align: right;\n",
       "    }\n",
       "</style>\n",
       "<table border=\"1\" class=\"dataframe\">\n",
       "  <thead>\n",
       "    <tr style=\"text-align: right;\">\n",
       "      <th></th>\n",
       "      <th>Días</th>\n",
       "      <th>Pronóstico</th>\n",
       "      <th>Temperatura máxima</th>\n",
       "      <th>Temperatura mínima</th>\n",
       "      <th>media</th>\n",
       "      <th>efectos</th>\n",
       "    </tr>\n",
       "  </thead>\n",
       "  <tbody>\n",
       "    <tr>\n",
       "      <th>0</th>\n",
       "      <td>Sábado</td>\n",
       "      <td>Parcialmente nublado</td>\n",
       "      <td>28.2</td>\n",
       "      <td>11.2</td>\n",
       "      <td>27.022222</td>\n",
       "      <td>-0.086243</td>\n",
       "    </tr>\n",
       "    <tr>\n",
       "      <th>1</th>\n",
       "      <td>Domingo</td>\n",
       "      <td>Parcialmente nublado</td>\n",
       "      <td>29.1</td>\n",
       "      <td>10.7</td>\n",
       "      <td>27.022222</td>\n",
       "      <td>-0.086243</td>\n",
       "    </tr>\n",
       "    <tr>\n",
       "      <th>2</th>\n",
       "      <td>Lunes</td>\n",
       "      <td>Mayormente nublado</td>\n",
       "      <td>26.1</td>\n",
       "      <td>10.4</td>\n",
       "      <td>25.600000</td>\n",
       "      <td>-1.508466</td>\n",
       "    </tr>\n",
       "    <tr>\n",
       "      <th>3</th>\n",
       "      <td>Martes</td>\n",
       "      <td>Mayormente soleado</td>\n",
       "      <td>29.4</td>\n",
       "      <td>11.1</td>\n",
       "      <td>28.228571</td>\n",
       "      <td>1.120106</td>\n",
       "    </tr>\n",
       "    <tr>\n",
       "      <th>4</th>\n",
       "      <td>Miércoles</td>\n",
       "      <td>Mayormente soleado</td>\n",
       "      <td>29.8</td>\n",
       "      <td>11.1</td>\n",
       "      <td>28.228571</td>\n",
       "      <td>1.120106</td>\n",
       "    </tr>\n",
       "  </tbody>\n",
       "</table>\n",
       "</div>"
      ],
      "text/plain": [
       "        Días            Pronóstico Temperatura máxima Temperatura mínima  \\\n",
       "0     Sábado  Parcialmente nublado               28.2               11.2   \n",
       "1    Domingo  Parcialmente nublado               29.1               10.7   \n",
       "2      Lunes    Mayormente nublado               26.1               10.4   \n",
       "3     Martes    Mayormente soleado               29.4               11.1   \n",
       "4  Miércoles    Mayormente soleado               29.8               11.1   \n",
       "\n",
       "       media   efectos  \n",
       "0  27.022222 -0.086243  \n",
       "1  27.022222 -0.086243  \n",
       "2  25.600000 -1.508466  \n",
       "3  28.228571  1.120106  \n",
       "4  28.228571  1.120106  "
      ]
     },
     "execution_count": 17,
     "metadata": {},
     "output_type": "execute_result"
    }
   ],
   "source": [
    "# se agrega mappeo\n",
    "# se decide usar el nombre 'efectos' la codificación de estas variables tiene el efecto\n",
    "# de que el promedio de las categorias es la sumatoria entre la intersección y los coeficientes\n",
    "# de cada categoría \n",
    "\n",
    "df['efectos']=df.Pronóstico.map(d)\n",
    "df.head()"
   ]
  },
  {
   "cell_type": "code",
   "execution_count": null,
   "metadata": {},
   "outputs": [],
   "source": [
    "# reducción de categorías\n",
    "# englobar categorías en una sola (feature hashing)\n"
   ]
  }
 ],
 "metadata": {
  "kernelspec": {
   "display_name": "Python 3",
   "language": "python",
   "name": "python3"
  },
  "language_info": {
   "codemirror_mode": {
    "name": "ipython",
    "version": 3
   },
   "file_extension": ".py",
   "mimetype": "text/x-python",
   "name": "python",
   "nbconvert_exporter": "python",
   "pygments_lexer": "ipython3",
   "version": "3.11.2"
  },
  "orig_nbformat": 4
 },
 "nbformat": 4,
 "nbformat_minor": 2
}
