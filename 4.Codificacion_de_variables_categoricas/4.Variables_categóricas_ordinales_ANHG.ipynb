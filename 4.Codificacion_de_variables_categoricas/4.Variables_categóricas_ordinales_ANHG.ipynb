{
  "cells": [
    {
      "attachments": {},
      "cell_type": "markdown",
      "metadata": {
        "id": "GH5xsY1z5PPO"
      },
      "source": [
        "### Variables categoricas ordinales"
      ]
    },
    {
      "attachments": {},
      "cell_type": "markdown",
      "metadata": {
        "id": "riryAbYv_F79"
      },
      "source": [
        "1. Importe los datos del archivo `data.csv`"
      ]
    },
    {
      "cell_type": "code",
      "execution_count": 34,
      "metadata": {
        "id": "wxNb8itH5PPp"
      },
      "outputs": [
        {
          "data": {
            "text/html": [
              "<div>\n",
              "<style scoped>\n",
              "    .dataframe tbody tr th:only-of-type {\n",
              "        vertical-align: middle;\n",
              "    }\n",
              "\n",
              "    .dataframe tbody tr th {\n",
              "        vertical-align: top;\n",
              "    }\n",
              "\n",
              "    .dataframe thead th {\n",
              "        text-align: right;\n",
              "    }\n",
              "</style>\n",
              "<table border=\"1\" class=\"dataframe\">\n",
              "  <thead>\n",
              "    <tr style=\"text-align: right;\">\n",
              "      <th></th>\n",
              "      <th>Escolaridad</th>\n",
              "      <th>No. de hijos</th>\n",
              "    </tr>\n",
              "  </thead>\n",
              "  <tbody>\n",
              "    <tr>\n",
              "      <th>0</th>\n",
              "      <td>Primaria trunca</td>\n",
              "      <td>9</td>\n",
              "    </tr>\n",
              "    <tr>\n",
              "      <th>1</th>\n",
              "      <td>Secundaria</td>\n",
              "      <td>3</td>\n",
              "    </tr>\n",
              "    <tr>\n",
              "      <th>2</th>\n",
              "      <td>Preparatoria</td>\n",
              "      <td>2</td>\n",
              "    </tr>\n",
              "    <tr>\n",
              "      <th>3</th>\n",
              "      <td>Sin escolaridad</td>\n",
              "      <td>3</td>\n",
              "    </tr>\n",
              "    <tr>\n",
              "      <th>4</th>\n",
              "      <td>Primaria</td>\n",
              "      <td>2</td>\n",
              "    </tr>\n",
              "    <tr>\n",
              "      <th>5</th>\n",
              "      <td>Preparatoria</td>\n",
              "      <td>3</td>\n",
              "    </tr>\n",
              "    <tr>\n",
              "      <th>6</th>\n",
              "      <td>Secundaria</td>\n",
              "      <td>0</td>\n",
              "    </tr>\n",
              "    <tr>\n",
              "      <th>7</th>\n",
              "      <td>Primaria</td>\n",
              "      <td>2</td>\n",
              "    </tr>\n",
              "    <tr>\n",
              "      <th>8</th>\n",
              "      <td>Sin escolaridad</td>\n",
              "      <td>8</td>\n",
              "    </tr>\n",
              "    <tr>\n",
              "      <th>9</th>\n",
              "      <td>Preparatoria</td>\n",
              "      <td>3</td>\n",
              "    </tr>\n",
              "  </tbody>\n",
              "</table>\n",
              "</div>"
            ],
            "text/plain": [
              "       Escolaridad  No. de hijos\n",
              "0  Primaria trunca             9\n",
              "1       Secundaria             3\n",
              "2     Preparatoria             2\n",
              "3  Sin escolaridad             3\n",
              "4         Primaria             2\n",
              "5     Preparatoria             3\n",
              "6       Secundaria             0\n",
              "7         Primaria             2\n",
              "8  Sin escolaridad             8\n",
              "9     Preparatoria             3"
            ]
          },
          "execution_count": 34,
          "metadata": {},
          "output_type": "execute_result"
        }
      ],
      "source": [
        "import pandas as pd\n",
        "import numpy as np\n",
        "from sklearn.linear_model import LinearRegression\n",
        "import matplotlib.pyplot as plt\n",
        "\n",
        "data = pd.read_csv(\"data/data.csv\")\n",
        "data.head(10)\n"
      ]
    },
    {
      "attachments": {},
      "cell_type": "markdown",
      "metadata": {
        "id": "hvSpkVgh5PPq"
      },
      "source": [
        "2. Sustituya ahora la variable categórica por valores resultantes de un polinomio cuadrático estrictamente decreciente."
      ]
    },
    {
      "cell_type": "code",
      "execution_count": 35,
      "metadata": {
        "id": "OX7L_GzY_1eH"
      },
      "outputs": [
        {
          "data": {
            "text/plain": [
              "{'Sin escolaridad': 1,\n",
              " 'Primaria trunca': 2,\n",
              " 'Primaria': 3,\n",
              " 'Secundaria': 4,\n",
              " 'Preparatoria': 5}"
            ]
          },
          "execution_count": 35,
          "metadata": {},
          "output_type": "execute_result"
        }
      ],
      "source": [
        "# Asignar a cada categoría un orden lógico para después aplicarle el polinomio cuadrático: \n",
        "escolaridad_ordered = {\n",
        "    'Sin escolaridad': 1,\n",
        "    'Primaria trunca': 2,\n",
        "    'Primaria': 3,\n",
        "    'Secundaria': 4,\n",
        "    'Preparatoria': 5\n",
        "}\n",
        "escolaridad_ordered"
      ]
    },
    {
      "cell_type": "code",
      "execution_count": 36,
      "metadata": {},
      "outputs": [
        {
          "data": {
            "text/html": [
              "<div>\n",
              "<style scoped>\n",
              "    .dataframe tbody tr th:only-of-type {\n",
              "        vertical-align: middle;\n",
              "    }\n",
              "\n",
              "    .dataframe tbody tr th {\n",
              "        vertical-align: top;\n",
              "    }\n",
              "\n",
              "    .dataframe thead th {\n",
              "        text-align: right;\n",
              "    }\n",
              "</style>\n",
              "<table border=\"1\" class=\"dataframe\">\n",
              "  <thead>\n",
              "    <tr style=\"text-align: right;\">\n",
              "      <th></th>\n",
              "      <th>Escolaridad</th>\n",
              "      <th>No. de hijos</th>\n",
              "      <th>escolaridad_index</th>\n",
              "    </tr>\n",
              "  </thead>\n",
              "  <tbody>\n",
              "    <tr>\n",
              "      <th>0</th>\n",
              "      <td>Primaria trunca</td>\n",
              "      <td>9</td>\n",
              "      <td>2</td>\n",
              "    </tr>\n",
              "    <tr>\n",
              "      <th>1</th>\n",
              "      <td>Secundaria</td>\n",
              "      <td>3</td>\n",
              "      <td>4</td>\n",
              "    </tr>\n",
              "    <tr>\n",
              "      <th>2</th>\n",
              "      <td>Preparatoria</td>\n",
              "      <td>2</td>\n",
              "      <td>5</td>\n",
              "    </tr>\n",
              "    <tr>\n",
              "      <th>3</th>\n",
              "      <td>Sin escolaridad</td>\n",
              "      <td>3</td>\n",
              "      <td>1</td>\n",
              "    </tr>\n",
              "    <tr>\n",
              "      <th>4</th>\n",
              "      <td>Primaria</td>\n",
              "      <td>2</td>\n",
              "      <td>3</td>\n",
              "    </tr>\n",
              "  </tbody>\n",
              "</table>\n",
              "</div>"
            ],
            "text/plain": [
              "       Escolaridad  No. de hijos  escolaridad_index\n",
              "0  Primaria trunca             9                  2\n",
              "1       Secundaria             3                  4\n",
              "2     Preparatoria             2                  5\n",
              "3  Sin escolaridad             3                  1\n",
              "4         Primaria             2                  3"
            ]
          },
          "execution_count": 36,
          "metadata": {},
          "output_type": "execute_result"
        }
      ],
      "source": [
        "# Mappear el dataset con el orden adecuado\n",
        "data['escolaridad_index'] = data['Escolaridad'].map(escolaridad_ordered)\n",
        "data.head()"
      ]
    },
    {
      "cell_type": "code",
      "execution_count": 37,
      "metadata": {},
      "outputs": [
        {
          "data": {
            "text/html": [
              "<div>\n",
              "<style scoped>\n",
              "    .dataframe tbody tr th:only-of-type {\n",
              "        vertical-align: middle;\n",
              "    }\n",
              "\n",
              "    .dataframe tbody tr th {\n",
              "        vertical-align: top;\n",
              "    }\n",
              "\n",
              "    .dataframe thead th {\n",
              "        text-align: right;\n",
              "    }\n",
              "</style>\n",
              "<table border=\"1\" class=\"dataframe\">\n",
              "  <thead>\n",
              "    <tr style=\"text-align: right;\">\n",
              "      <th></th>\n",
              "      <th>Escolaridad</th>\n",
              "      <th>No. de hijos</th>\n",
              "      <th>escolaridad_index</th>\n",
              "      <th>Polinomio Cuadrático</th>\n",
              "    </tr>\n",
              "  </thead>\n",
              "  <tbody>\n",
              "    <tr>\n",
              "      <th>0</th>\n",
              "      <td>Primaria trunca</td>\n",
              "      <td>9</td>\n",
              "      <td>2</td>\n",
              "      <td>-4</td>\n",
              "    </tr>\n",
              "    <tr>\n",
              "      <th>1</th>\n",
              "      <td>Secundaria</td>\n",
              "      <td>3</td>\n",
              "      <td>4</td>\n",
              "      <td>-16</td>\n",
              "    </tr>\n",
              "    <tr>\n",
              "      <th>2</th>\n",
              "      <td>Preparatoria</td>\n",
              "      <td>2</td>\n",
              "      <td>5</td>\n",
              "      <td>-25</td>\n",
              "    </tr>\n",
              "    <tr>\n",
              "      <th>3</th>\n",
              "      <td>Sin escolaridad</td>\n",
              "      <td>3</td>\n",
              "      <td>1</td>\n",
              "      <td>-1</td>\n",
              "    </tr>\n",
              "    <tr>\n",
              "      <th>4</th>\n",
              "      <td>Primaria</td>\n",
              "      <td>2</td>\n",
              "      <td>3</td>\n",
              "      <td>-9</td>\n",
              "    </tr>\n",
              "    <tr>\n",
              "      <th>...</th>\n",
              "      <td>...</td>\n",
              "      <td>...</td>\n",
              "      <td>...</td>\n",
              "      <td>...</td>\n",
              "    </tr>\n",
              "    <tr>\n",
              "      <th>5055</th>\n",
              "      <td>Secundaria</td>\n",
              "      <td>1</td>\n",
              "      <td>4</td>\n",
              "      <td>-16</td>\n",
              "    </tr>\n",
              "    <tr>\n",
              "      <th>5056</th>\n",
              "      <td>Preparatoria</td>\n",
              "      <td>3</td>\n",
              "      <td>5</td>\n",
              "      <td>-25</td>\n",
              "    </tr>\n",
              "    <tr>\n",
              "      <th>5057</th>\n",
              "      <td>Primaria</td>\n",
              "      <td>1</td>\n",
              "      <td>3</td>\n",
              "      <td>-9</td>\n",
              "    </tr>\n",
              "    <tr>\n",
              "      <th>5058</th>\n",
              "      <td>Secundaria</td>\n",
              "      <td>3</td>\n",
              "      <td>4</td>\n",
              "      <td>-16</td>\n",
              "    </tr>\n",
              "    <tr>\n",
              "      <th>5059</th>\n",
              "      <td>Secundaria</td>\n",
              "      <td>3</td>\n",
              "      <td>4</td>\n",
              "      <td>-16</td>\n",
              "    </tr>\n",
              "  </tbody>\n",
              "</table>\n",
              "<p>5060 rows × 4 columns</p>\n",
              "</div>"
            ],
            "text/plain": [
              "          Escolaridad  No. de hijos  escolaridad_index  Polinomio Cuadrático\n",
              "0     Primaria trunca             9                  2                    -4\n",
              "1          Secundaria             3                  4                   -16\n",
              "2        Preparatoria             2                  5                   -25\n",
              "3     Sin escolaridad             3                  1                    -1\n",
              "4            Primaria             2                  3                    -9\n",
              "...               ...           ...                ...                   ...\n",
              "5055       Secundaria             1                  4                   -16\n",
              "5056     Preparatoria             3                  5                   -25\n",
              "5057         Primaria             1                  3                    -9\n",
              "5058       Secundaria             3                  4                   -16\n",
              "5059       Secundaria             3                  4                   -16\n",
              "\n",
              "[5060 rows x 4 columns]"
            ]
          },
          "execution_count": 37,
          "metadata": {},
          "output_type": "execute_result"
        }
      ],
      "source": [
        "# y = -1 * x^2 -> Polinómio cuadrático estrictamente descendiente\n",
        "data['Polinomio Cuadrático'] = -1 * ( data['escolaridad_index'] ** 2)\n",
        "data"
      ]
    },
    {
      "cell_type": "code",
      "execution_count": 38,
      "metadata": {},
      "outputs": [
        {
          "data": {
            "text/plain": [
              "<Axes: >"
            ]
          },
          "execution_count": 38,
          "metadata": {},
          "output_type": "execute_result"
        },
        {
          "data": {
            "image/png": "[encoded data removed]",
            "text/plain": [
              "<Figure size 640x480 with 1 Axes>"
            ]
          },
          "metadata": {},
          "output_type": "display_data"
        }
      ],
      "source": [
        "# Polinómio cuadrático estrictamente decreciente\n",
        "data['Polinomio Cuadrático'].hist()"
      ]
    },
    {
      "attachments": {},
      "cell_type": "markdown",
      "metadata": {
        "id": "PjjnPG3B5PPy"
      },
      "source": [
        "3. Obtenga una relación lineal usando la clase *LinearRegression* del paquete *sklearn.linear_model*, para la codificacón obtenida y la variable `No. de hijos` y grafique."
      ]
    },
    {
      "cell_type": "code",
      "execution_count": 42,
      "metadata": {
        "id": "NdF1fUBA-k4S"
      },
      "outputs": [],
      "source": [
        "# Se define X e Y\n",
        "X = data[['Polinomio Cuadrático']]\n",
        "y = data[['No. de hijos']]\n",
        "\n",
        "# Separación en test y train \n",
        "from sklearn.model_selection import train_test_split\n",
        "X_train, X_test, y_train, y_test = train_test_split(X, y, test_size=0.3, random_state=42)"
      ]
    },
    {
      "cell_type": "code",
      "execution_count": 43,
      "metadata": {},
      "outputs": [
        {
          "name": "stdout",
          "output_type": "stream",
          "text": [
            "Coeficiente: 0.06701498302099665\n",
            "Intercepto: 3.743769850928288\n"
          ]
        }
      ],
      "source": [
        "# Instancia Linear Regression\n",
        "reg = LinearRegression()\n",
        "# Ajuste del modelo \n",
        "reg.fit(X_train, y_train)\n",
        "# Coeficientes\n",
        "print('Coeficiente:', reg.coef_[0][0])\n",
        "print('Intercepto:', reg.intercept_[0])\n"
      ]
    },
    {
      "cell_type": "code",
      "execution_count": 47,
      "metadata": {},
      "outputs": [
        {
          "data": {
            "text/plain": [
              "array([[3.140635  ],\n",
              "       [2.06839528],\n",
              "       [2.06839528],\n",
              "       ...,\n",
              "       [3.140635  ],\n",
              "       [2.06839528],\n",
              "       [2.67153012]])"
            ]
          },
          "execution_count": 47,
          "metadata": {},
          "output_type": "execute_result"
        }
      ],
      "source": [
        "# Predicción\n",
        "y_pred = reg.predict(X_test)\n",
        "y_pred"
      ]
    },
    {
      "cell_type": "code",
      "execution_count": 49,
      "metadata": {},
      "outputs": [
        {
          "data": {
            "image/png": "[encoded data removed]",
            "text/plain": [
              "<Figure size 640x480 with 1 Axes>"
            ]
          },
          "metadata": {},
          "output_type": "display_data"
        }
      ],
      "source": [
        "# Relación lineal entre la escolaridad y el número de hijos\n",
        "plt.scatter(X_train, y_train, color='blue', label='Entrenamiento')\n",
        "plt.scatter(X_test, y_test, color='green', label='Prueba')\n",
        "plt.plot(X_train, reg.predict(X_train), color='red', linewidth=3)\n",
        "plt.title('Relación entre la escolaridad y el número de hijos')\n",
        "plt.xlabel('Escolaridad transformada con Polinómio Cuadrático')\n",
        "plt.ylabel('Número de hijos')\n",
        "plt.legend()\n",
        "plt.show()"
      ]
    }
  ],
  "metadata": {
    "colab": {
      "provenance": []
    },
    "kernelspec": {
      "display_name": "Python 3",
      "language": "python",
      "name": "python3"
    },
    "language_info": {
      "codemirror_mode": {
        "name": "ipython",
        "version": 3
      },
      "file_extension": ".py",
      "mimetype": "text/x-python",
      "name": "python",
      "nbconvert_exporter": "python",
      "pygments_lexer": "ipython3",
      "version": "3.11.2"
    }
  },
  "nbformat": 4,
  "nbformat_minor": 0
}
