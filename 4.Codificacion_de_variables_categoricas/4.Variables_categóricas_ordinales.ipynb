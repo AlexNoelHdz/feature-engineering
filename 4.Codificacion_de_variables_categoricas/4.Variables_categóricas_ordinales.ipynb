{
  "cells": [
    {
      "cell_type": "code",
      "execution_count": 2,
      "metadata": {
        "colab": {
          "base_uri": "https://localhost:8080/",
          "height": 206
        },
        "id": "xm8t5EX4TgeP",
        "outputId": "7ddad32a-e0c7-4662-b948-39bc4cccfb54"
      },
      "outputs": [
        {
          "data": {
            "text/html": [
              "<div>\n",
              "<style scoped>\n",
              "    .dataframe tbody tr th:only-of-type {\n",
              "        vertical-align: middle;\n",
              "    }\n",
              "\n",
              "    .dataframe tbody tr th {\n",
              "        vertical-align: top;\n",
              "    }\n",
              "\n",
              "    .dataframe thead th {\n",
              "        text-align: right;\n",
              "    }\n",
              "</style>\n",
              "<table border=\"1\" class=\"dataframe\">\n",
              "  <thead>\n",
              "    <tr style=\"text-align: right;\">\n",
              "      <th></th>\n",
              "      <th>Días</th>\n",
              "      <th>Pronóstico</th>\n",
              "      <th>Temperatura máxima</th>\n",
              "      <th>Temperatura mínima</th>\n",
              "    </tr>\n",
              "  </thead>\n",
              "  <tbody>\n",
              "    <tr>\n",
              "      <th>0</th>\n",
              "      <td>Sábado</td>\n",
              "      <td>Parcialmente nublado</td>\n",
              "      <td>28.2</td>\n",
              "      <td>11.2</td>\n",
              "    </tr>\n",
              "    <tr>\n",
              "      <th>1</th>\n",
              "      <td>Domingo</td>\n",
              "      <td>Parcialmente nublado</td>\n",
              "      <td>29.1</td>\n",
              "      <td>10.7</td>\n",
              "    </tr>\n",
              "    <tr>\n",
              "      <th>2</th>\n",
              "      <td>Lunes</td>\n",
              "      <td>Mayormente nublado</td>\n",
              "      <td>26.1</td>\n",
              "      <td>10.4</td>\n",
              "    </tr>\n",
              "    <tr>\n",
              "      <th>3</th>\n",
              "      <td>Martes</td>\n",
              "      <td>Mayormente soleado</td>\n",
              "      <td>29.4</td>\n",
              "      <td>11.1</td>\n",
              "    </tr>\n",
              "    <tr>\n",
              "      <th>4</th>\n",
              "      <td>Miércoles</td>\n",
              "      <td>Mayormente soleado</td>\n",
              "      <td>29.8</td>\n",
              "      <td>11.1</td>\n",
              "    </tr>\n",
              "  </tbody>\n",
              "</table>\n",
              "</div>"
            ],
            "text/plain": [
              "        Días            Pronóstico Temperatura máxima Temperatura mínima\n",
              "0     Sábado  Parcialmente nublado               28.2               11.2\n",
              "1    Domingo  Parcialmente nublado               29.1               10.7\n",
              "2      Lunes    Mayormente nublado               26.1               10.4\n",
              "3     Martes    Mayormente soleado               29.4               11.1\n",
              "4  Miércoles    Mayormente soleado               29.8               11.1"
            ]
          },
          "execution_count": 2,
          "metadata": {},
          "output_type": "execute_result"
        }
      ],
      "source": [
        "import pandas as pd\n",
        "import numpy as np\n",
        "ruta='files/'\n",
        "\n",
        "data=pd.read_csv(ruta+'temps.txt',sep='\\s+',header=None) # Fuente: http://astro.iam.udg.mx/Estacion/NOAAPRMO.TXT\n",
        "                                                         #         http://astro.iam.udg.mx/Estacion/NOAAMO.TXT\n",
        "data.columns=['Temperatura máxima','Temperatura mínima','HDD','CDD','Rain']\n",
        "d=['Sábado','Domingo','Lunes','Martes','Miércoles','Jueves','Viernes']\n",
        "dias=[d[i%7] for i in range(len(data))]\n",
        "catego=['Soleado','Mayormente soleado','Parcialmente nublado','Mayormente nublado','Nublado','Lluvioso']\n",
        "prono=[catego[-1] if data['Rain'][i]>0 else catego[int(round(1.2*(data['HDD'][i]-data['CDD'][i])+2))] for i in range(len(data))]\n",
        "df=pd.DataFrame(columns=['Días','Pronóstico','Temperatura máxima','Temperatura mínima'],index=range(len(data)))\n",
        "df.iloc[:,2:4]=data.iloc[:,0:2]\n",
        "df['Días']=dias\n",
        "df['Pronóstico']=prono\n",
        "df.head()"
      ]
    },
    {
      "cell_type": "markdown",
      "metadata": {
        "id": "lIck10BZXAKb"
      },
      "source": [
        "# Codificación lineal"
      ]
    },
    {
      "attachments": {},
      "cell_type": "markdown",
      "metadata": {},
      "source": [
        "## Variable días"
      ]
    },
    {
      "cell_type": "code",
      "execution_count": 3,
      "metadata": {
        "colab": {
          "base_uri": "https://localhost:8080/"
        },
        "id": "a5aeGPBAW-RX",
        "outputId": "66578c4d-6d38-45a1-bd6c-d998143419e4"
      },
      "outputs": [
        {
          "name": "stdout",
          "output_type": "stream",
          "text": [
            "n: 7\n"
          ]
        },
        {
          "data": {
            "text/plain": [
              "array(['Sábado', 'Domingo', 'Lunes', 'Martes', 'Miércoles', 'Jueves',\n",
              "       'Viernes'], dtype=object)"
            ]
          },
          "execution_count": 3,
          "metadata": {},
          "output_type": "execute_result"
        }
      ],
      "source": [
        "#@title variable Días\n",
        "n=len(df['Días'].unique()) # Cardinalidad\n",
        "print('n:',n)\n",
        "df['Días'].unique()"
      ]
    },
    {
      "cell_type": "code",
      "execution_count": 4,
      "metadata": {
        "colab": {
          "base_uri": "https://localhost:8080/"
        },
        "id": "zXzTbFpAqiIT",
        "outputId": "72332349-c334-4267-ce47-22b283f8e5d2"
      },
      "outputs": [
        {
          "data": {
            "text/plain": [
              "array(['Domingo', 'Lunes', 'Martes', 'Miércoles', 'Jueves', 'Viernes',\n",
              "       'Sábado'], dtype=object)"
            ]
          },
          "execution_count": 4,
          "metadata": {},
          "output_type": "execute_result"
        }
      ],
      "source": [
        "D=df['Días'].unique()\n",
        "Días_ord=np.concatenate([D[1:],D[:1]])\n",
        "Días_ord"
      ]
    },
    {
      "cell_type": "code",
      "execution_count": 5,
      "metadata": {
        "colab": {
          "base_uri": "https://localhost:8080/"
        },
        "id": "KBrdVr1Uq586",
        "outputId": "081fda68-6396-477e-dffc-f51c1819d8a6"
      },
      "outputs": [
        {
          "data": {
            "text/plain": [
              "[-3, -2, -1, 0, 1, 2, 3]"
            ]
          },
          "execution_count": 5,
          "metadata": {},
          "output_type": "execute_result"
        }
      ],
      "source": [
        "L=n-1 if n%2==0 else int((n-1)/2)\n",
        "step=2 if n%2==0 else 1\n",
        "x=range(-L,L+1,step)\n",
        "list(x)"
      ]
    },
    {
      "cell_type": "code",
      "execution_count": 6,
      "metadata": {
        "colab": {
          "base_uri": "https://localhost:8080/"
        },
        "id": "GWO9MNrirlpi",
        "outputId": "2ddbfc71-fa5a-41a3-e862-3a742d767cc6"
      },
      "outputs": [
        {
          "data": {
            "text/plain": [
              "{'Domingo': -3,\n",
              " 'Lunes': -2,\n",
              " 'Martes': -1,\n",
              " 'Miércoles': 0,\n",
              " 'Jueves': 1,\n",
              " 'Viernes': 2,\n",
              " 'Sábado': 3}"
            ]
          },
          "execution_count": 6,
          "metadata": {},
          "output_type": "execute_result"
        }
      ],
      "source": [
        "a1=1\n",
        "Días_lin={catego:a1*i for catego,i in zip(Días_ord,x)}\n",
        "Días_lin"
      ]
    },
    {
      "cell_type": "code",
      "execution_count": 7,
      "metadata": {
        "colab": {
          "base_uri": "https://localhost:8080/",
          "height": 206
        },
        "id": "-60E--spsCEI",
        "outputId": "f64c8084-544b-448e-b678-9dd64a0c8eb8"
      },
      "outputs": [
        {
          "data": {
            "text/html": [
              "<div>\n",
              "<style scoped>\n",
              "    .dataframe tbody tr th:only-of-type {\n",
              "        vertical-align: middle;\n",
              "    }\n",
              "\n",
              "    .dataframe tbody tr th {\n",
              "        vertical-align: top;\n",
              "    }\n",
              "\n",
              "    .dataframe thead th {\n",
              "        text-align: right;\n",
              "    }\n",
              "</style>\n",
              "<table border=\"1\" class=\"dataframe\">\n",
              "  <thead>\n",
              "    <tr style=\"text-align: right;\">\n",
              "      <th></th>\n",
              "      <th>Días</th>\n",
              "      <th>Pronóstico</th>\n",
              "      <th>Temperatura máxima</th>\n",
              "      <th>Temperatura mínima</th>\n",
              "      <th>Días_lin</th>\n",
              "    </tr>\n",
              "  </thead>\n",
              "  <tbody>\n",
              "    <tr>\n",
              "      <th>0</th>\n",
              "      <td>Sábado</td>\n",
              "      <td>Parcialmente nublado</td>\n",
              "      <td>28.2</td>\n",
              "      <td>11.2</td>\n",
              "      <td>3</td>\n",
              "    </tr>\n",
              "    <tr>\n",
              "      <th>1</th>\n",
              "      <td>Domingo</td>\n",
              "      <td>Parcialmente nublado</td>\n",
              "      <td>29.1</td>\n",
              "      <td>10.7</td>\n",
              "      <td>-3</td>\n",
              "    </tr>\n",
              "    <tr>\n",
              "      <th>2</th>\n",
              "      <td>Lunes</td>\n",
              "      <td>Mayormente nublado</td>\n",
              "      <td>26.1</td>\n",
              "      <td>10.4</td>\n",
              "      <td>-2</td>\n",
              "    </tr>\n",
              "    <tr>\n",
              "      <th>3</th>\n",
              "      <td>Martes</td>\n",
              "      <td>Mayormente soleado</td>\n",
              "      <td>29.4</td>\n",
              "      <td>11.1</td>\n",
              "      <td>-1</td>\n",
              "    </tr>\n",
              "    <tr>\n",
              "      <th>4</th>\n",
              "      <td>Miércoles</td>\n",
              "      <td>Mayormente soleado</td>\n",
              "      <td>29.8</td>\n",
              "      <td>11.1</td>\n",
              "      <td>0</td>\n",
              "    </tr>\n",
              "  </tbody>\n",
              "</table>\n",
              "</div>"
            ],
            "text/plain": [
              "        Días            Pronóstico Temperatura máxima Temperatura mínima  \\\n",
              "0     Sábado  Parcialmente nublado               28.2               11.2   \n",
              "1    Domingo  Parcialmente nublado               29.1               10.7   \n",
              "2      Lunes    Mayormente nublado               26.1               10.4   \n",
              "3     Martes    Mayormente soleado               29.4               11.1   \n",
              "4  Miércoles    Mayormente soleado               29.8               11.1   \n",
              "\n",
              "   Días_lin  \n",
              "0         3  \n",
              "1        -3  \n",
              "2        -2  \n",
              "3        -1  \n",
              "4         0  "
            ]
          },
          "execution_count": 7,
          "metadata": {},
          "output_type": "execute_result"
        }
      ],
      "source": [
        "df['Días_lin']=df['Días'].map(Días_lin)\n",
        "df.head()"
      ]
    },
    {
      "cell_type": "code",
      "execution_count": 8,
      "metadata": {
        "colab": {
          "base_uri": "https://localhost:8080/"
        },
        "id": "RnCmYf1QsXkd",
        "outputId": "7c2f303c-cb9f-405c-d510-12ab1984be26"
      },
      "outputs": [
        {
          "data": {
            "text/plain": [
              "[-5, -3, -1, 1, 3, 5]"
            ]
          },
          "execution_count": 8,
          "metadata": {},
          "output_type": "execute_result"
        }
      ],
      "source": [
        "#@title Variable Pronóstico\n",
        "n=len(df['Pronóstico'].unique())\n",
        "L=n-1 if n%2==0 else int((n-1)/2)\n",
        "step=2 if n%2==0 else 1\n",
        "x=range(-L,L+1,step)\n",
        "list(x)"
      ]
    },
    {
      "cell_type": "code",
      "execution_count": 9,
      "metadata": {
        "colab": {
          "base_uri": "https://localhost:8080/"
        },
        "id": "RmZC_VYms0qN",
        "outputId": "3e3671b6-cbae-458d-9152-29f38fa73858"
      },
      "outputs": [
        {
          "data": {
            "text/plain": [
              "array(['Parcialmente nublado', 'Mayormente nublado', 'Mayormente soleado',\n",
              "       'Soleado', 'Lluvioso', 'Nublado'], dtype=object)"
            ]
          },
          "execution_count": 9,
          "metadata": {},
          "output_type": "execute_result"
        }
      ],
      "source": [
        "p=df['Pronóstico'].unique()\n",
        "p"
      ]
    },
    {
      "cell_type": "code",
      "execution_count": 10,
      "metadata": {
        "colab": {
          "base_uri": "https://localhost:8080/"
        },
        "id": "tnl7UeMMs8PN",
        "outputId": "29118598-7e75-470f-fd0b-2156c400b588"
      },
      "outputs": [
        {
          "data": {
            "text/plain": [
              "array(['Lluvioso', 'Mayormente nublado', 'Nublado',\n",
              "       'Parcialmente nublado', 'Mayormente soleado', 'Soleado'],\n",
              "      dtype=object)"
            ]
          },
          "execution_count": 10,
          "metadata": {},
          "output_type": "execute_result"
        }
      ],
      "source": [
        "Pronóstico_ord=np.concatenate([np.array([p[-2],p[1],p[-1],p[0]]),p[2:4]])\n",
        "Pronóstico_ord"
      ]
    },
    {
      "cell_type": "code",
      "execution_count": 11,
      "metadata": {
        "colab": {
          "base_uri": "https://localhost:8080/"
        },
        "id": "NrPHINi2t8kL",
        "outputId": "d221accd-9b99-4647-d484-de329cd2221f"
      },
      "outputs": [
        {
          "data": {
            "text/plain": [
              "{'Lluvioso': -5,\n",
              " 'Mayormente nublado': -3,\n",
              " 'Nublado': -1,\n",
              " 'Parcialmente nublado': 1,\n",
              " 'Mayormente soleado': 3,\n",
              " 'Soleado': 5}"
            ]
          },
          "execution_count": 11,
          "metadata": {},
          "output_type": "execute_result"
        }
      ],
      "source": [
        "Pronóstico_lin={catego:a1*i for catego,i in zip(Pronóstico_ord,x)}\n",
        "Pronóstico_lin"
      ]
    },
    {
      "cell_type": "code",
      "execution_count": 12,
      "metadata": {
        "colab": {
          "base_uri": "https://localhost:8080/",
          "height": 206
        },
        "id": "DA3jq8sAuKQb",
        "outputId": "98059b1b-93c4-4744-a559-e9a764b32c42"
      },
      "outputs": [
        {
          "data": {
            "text/html": [
              "<div>\n",
              "<style scoped>\n",
              "    .dataframe tbody tr th:only-of-type {\n",
              "        vertical-align: middle;\n",
              "    }\n",
              "\n",
              "    .dataframe tbody tr th {\n",
              "        vertical-align: top;\n",
              "    }\n",
              "\n",
              "    .dataframe thead th {\n",
              "        text-align: right;\n",
              "    }\n",
              "</style>\n",
              "<table border=\"1\" class=\"dataframe\">\n",
              "  <thead>\n",
              "    <tr style=\"text-align: right;\">\n",
              "      <th></th>\n",
              "      <th>Días</th>\n",
              "      <th>Pronóstico</th>\n",
              "      <th>Temperatura máxima</th>\n",
              "      <th>Temperatura mínima</th>\n",
              "      <th>Días_lin</th>\n",
              "      <th>Pronóstico_lin</th>\n",
              "    </tr>\n",
              "  </thead>\n",
              "  <tbody>\n",
              "    <tr>\n",
              "      <th>0</th>\n",
              "      <td>Sábado</td>\n",
              "      <td>Parcialmente nublado</td>\n",
              "      <td>28.2</td>\n",
              "      <td>11.2</td>\n",
              "      <td>3</td>\n",
              "      <td>1</td>\n",
              "    </tr>\n",
              "    <tr>\n",
              "      <th>1</th>\n",
              "      <td>Domingo</td>\n",
              "      <td>Parcialmente nublado</td>\n",
              "      <td>29.1</td>\n",
              "      <td>10.7</td>\n",
              "      <td>-3</td>\n",
              "      <td>1</td>\n",
              "    </tr>\n",
              "    <tr>\n",
              "      <th>2</th>\n",
              "      <td>Lunes</td>\n",
              "      <td>Mayormente nublado</td>\n",
              "      <td>26.1</td>\n",
              "      <td>10.4</td>\n",
              "      <td>-2</td>\n",
              "      <td>-3</td>\n",
              "    </tr>\n",
              "    <tr>\n",
              "      <th>3</th>\n",
              "      <td>Martes</td>\n",
              "      <td>Mayormente soleado</td>\n",
              "      <td>29.4</td>\n",
              "      <td>11.1</td>\n",
              "      <td>-1</td>\n",
              "      <td>3</td>\n",
              "    </tr>\n",
              "    <tr>\n",
              "      <th>4</th>\n",
              "      <td>Miércoles</td>\n",
              "      <td>Mayormente soleado</td>\n",
              "      <td>29.8</td>\n",
              "      <td>11.1</td>\n",
              "      <td>0</td>\n",
              "      <td>3</td>\n",
              "    </tr>\n",
              "  </tbody>\n",
              "</table>\n",
              "</div>"
            ],
            "text/plain": [
              "        Días            Pronóstico Temperatura máxima Temperatura mínima  \\\n",
              "0     Sábado  Parcialmente nublado               28.2               11.2   \n",
              "1    Domingo  Parcialmente nublado               29.1               10.7   \n",
              "2      Lunes    Mayormente nublado               26.1               10.4   \n",
              "3     Martes    Mayormente soleado               29.4               11.1   \n",
              "4  Miércoles    Mayormente soleado               29.8               11.1   \n",
              "\n",
              "   Días_lin  Pronóstico_lin  \n",
              "0         3               1  \n",
              "1        -3               1  \n",
              "2        -2              -3  \n",
              "3        -1               3  \n",
              "4         0               3  "
            ]
          },
          "execution_count": 12,
          "metadata": {},
          "output_type": "execute_result"
        }
      ],
      "source": [
        "df['Pronóstico_lin']=df['Pronóstico'].map(Pronóstico_lin)\n",
        "df.head()"
      ]
    },
    {
      "cell_type": "markdown",
      "metadata": {
        "id": "5eqnfVrJXMlU"
      },
      "source": [
        "# Codificación cuadrática"
      ]
    },
    {
      "cell_type": "code",
      "execution_count": 13,
      "metadata": {
        "id": "PajCRiVzXSGE"
      },
      "outputs": [],
      "source": [
        "def cuad(var_ord,a2=1):\n",
        "  n=len(var_ord)\n",
        "  L=n-1 if n%2==0 else (n-1)//2\n",
        "  S=2 if n%2==0 else 1\n",
        "  x=range(-L,L+1,S)\n",
        "  a1=0\n",
        "  a0=-a2/n*np.sum([i**2 for i in x])\n",
        "  return {catego:a0+a1*i+a2*i**2 for catego,i in zip(var_ord,x)}"
      ]
    },
    {
      "cell_type": "code",
      "execution_count": 14,
      "metadata": {
        "colab": {
          "base_uri": "https://localhost:8080/"
        },
        "id": "wRikq8-SHX4G",
        "outputId": "fcc6ddfd-1a42-4f33-d4b0-7709b991f02b"
      },
      "outputs": [
        {
          "data": {
            "text/plain": [
              "array(['Domingo', 'Lunes', 'Martes', 'Miércoles', 'Jueves', 'Viernes',\n",
              "       'Sábado'], dtype=object)"
            ]
          },
          "execution_count": 14,
          "metadata": {},
          "output_type": "execute_result"
        }
      ],
      "source": [
        "Días_ord"
      ]
    },
    {
      "cell_type": "code",
      "execution_count": 15,
      "metadata": {
        "colab": {
          "base_uri": "https://localhost:8080/"
        },
        "id": "nbEQf0RmHaDs",
        "outputId": "5ca69255-e108-4ffc-de8f-d9ceb77ea97b"
      },
      "outputs": [
        {
          "data": {
            "text/plain": [
              "array(['Lluvioso', 'Mayormente nublado', 'Nublado',\n",
              "       'Parcialmente nublado', 'Mayormente soleado', 'Soleado'],\n",
              "      dtype=object)"
            ]
          },
          "execution_count": 15,
          "metadata": {},
          "output_type": "execute_result"
        }
      ],
      "source": [
        "Pronóstico_ord"
      ]
    },
    {
      "cell_type": "code",
      "execution_count": 16,
      "metadata": {
        "colab": {
          "base_uri": "https://localhost:8080/",
          "height": 363
        },
        "id": "Ly15npqIHi1H",
        "outputId": "4ec3cc15-7902-47d2-fc25-2cbedef186ec"
      },
      "outputs": [
        {
          "data": {
            "text/html": [
              "<div>\n",
              "<style scoped>\n",
              "    .dataframe tbody tr th:only-of-type {\n",
              "        vertical-align: middle;\n",
              "    }\n",
              "\n",
              "    .dataframe tbody tr th {\n",
              "        vertical-align: top;\n",
              "    }\n",
              "\n",
              "    .dataframe thead th {\n",
              "        text-align: right;\n",
              "    }\n",
              "</style>\n",
              "<table border=\"1\" class=\"dataframe\">\n",
              "  <thead>\n",
              "    <tr style=\"text-align: right;\">\n",
              "      <th></th>\n",
              "      <th>Días</th>\n",
              "      <th>Pronóstico</th>\n",
              "      <th>Temperatura máxima</th>\n",
              "      <th>Temperatura mínima</th>\n",
              "      <th>Días_lin</th>\n",
              "      <th>Pronóstico_lin</th>\n",
              "      <th>Días_cuad</th>\n",
              "    </tr>\n",
              "  </thead>\n",
              "  <tbody>\n",
              "    <tr>\n",
              "      <th>0</th>\n",
              "      <td>Sábado</td>\n",
              "      <td>Parcialmente nublado</td>\n",
              "      <td>28.2</td>\n",
              "      <td>11.2</td>\n",
              "      <td>3</td>\n",
              "      <td>1</td>\n",
              "      <td>5.0</td>\n",
              "    </tr>\n",
              "    <tr>\n",
              "      <th>1</th>\n",
              "      <td>Domingo</td>\n",
              "      <td>Parcialmente nublado</td>\n",
              "      <td>29.1</td>\n",
              "      <td>10.7</td>\n",
              "      <td>-3</td>\n",
              "      <td>1</td>\n",
              "      <td>5.0</td>\n",
              "    </tr>\n",
              "    <tr>\n",
              "      <th>2</th>\n",
              "      <td>Lunes</td>\n",
              "      <td>Mayormente nublado</td>\n",
              "      <td>26.1</td>\n",
              "      <td>10.4</td>\n",
              "      <td>-2</td>\n",
              "      <td>-3</td>\n",
              "      <td>0.0</td>\n",
              "    </tr>\n",
              "    <tr>\n",
              "      <th>3</th>\n",
              "      <td>Martes</td>\n",
              "      <td>Mayormente soleado</td>\n",
              "      <td>29.4</td>\n",
              "      <td>11.1</td>\n",
              "      <td>-1</td>\n",
              "      <td>3</td>\n",
              "      <td>-3.0</td>\n",
              "    </tr>\n",
              "    <tr>\n",
              "      <th>4</th>\n",
              "      <td>Miércoles</td>\n",
              "      <td>Mayormente soleado</td>\n",
              "      <td>29.8</td>\n",
              "      <td>11.1</td>\n",
              "      <td>0</td>\n",
              "      <td>3</td>\n",
              "      <td>-4.0</td>\n",
              "    </tr>\n",
              "    <tr>\n",
              "      <th>5</th>\n",
              "      <td>Jueves</td>\n",
              "      <td>Mayormente soleado</td>\n",
              "      <td>30.2</td>\n",
              "      <td>10.2</td>\n",
              "      <td>1</td>\n",
              "      <td>3</td>\n",
              "      <td>-3.0</td>\n",
              "    </tr>\n",
              "    <tr>\n",
              "      <th>6</th>\n",
              "      <td>Viernes</td>\n",
              "      <td>Mayormente soleado</td>\n",
              "      <td>29.3</td>\n",
              "      <td>10.3</td>\n",
              "      <td>2</td>\n",
              "      <td>3</td>\n",
              "      <td>0.0</td>\n",
              "    </tr>\n",
              "    <tr>\n",
              "      <th>7</th>\n",
              "      <td>Sábado</td>\n",
              "      <td>Mayormente soleado</td>\n",
              "      <td>28.6</td>\n",
              "      <td>10.9</td>\n",
              "      <td>3</td>\n",
              "      <td>3</td>\n",
              "      <td>5.0</td>\n",
              "    </tr>\n",
              "    <tr>\n",
              "      <th>8</th>\n",
              "      <td>Domingo</td>\n",
              "      <td>Parcialmente nublado</td>\n",
              "      <td>29.0</td>\n",
              "      <td>9.8</td>\n",
              "      <td>-3</td>\n",
              "      <td>1</td>\n",
              "      <td>5.0</td>\n",
              "    </tr>\n",
              "    <tr>\n",
              "      <th>9</th>\n",
              "      <td>Lunes</td>\n",
              "      <td>Mayormente soleado</td>\n",
              "      <td>27.2</td>\n",
              "      <td>11.2</td>\n",
              "      <td>-2</td>\n",
              "      <td>3</td>\n",
              "      <td>0.0</td>\n",
              "    </tr>\n",
              "  </tbody>\n",
              "</table>\n",
              "</div>"
            ],
            "text/plain": [
              "        Días            Pronóstico Temperatura máxima Temperatura mínima  \\\n",
              "0     Sábado  Parcialmente nublado               28.2               11.2   \n",
              "1    Domingo  Parcialmente nublado               29.1               10.7   \n",
              "2      Lunes    Mayormente nublado               26.1               10.4   \n",
              "3     Martes    Mayormente soleado               29.4               11.1   \n",
              "4  Miércoles    Mayormente soleado               29.8               11.1   \n",
              "5     Jueves    Mayormente soleado               30.2               10.2   \n",
              "6    Viernes    Mayormente soleado               29.3               10.3   \n",
              "7     Sábado    Mayormente soleado               28.6               10.9   \n",
              "8    Domingo  Parcialmente nublado               29.0                9.8   \n",
              "9      Lunes    Mayormente soleado               27.2               11.2   \n",
              "\n",
              "   Días_lin  Pronóstico_lin  Días_cuad  \n",
              "0         3               1        5.0  \n",
              "1        -3               1        5.0  \n",
              "2        -2              -3        0.0  \n",
              "3        -1               3       -3.0  \n",
              "4         0               3       -4.0  \n",
              "5         1               3       -3.0  \n",
              "6         2               3        0.0  \n",
              "7         3               3        5.0  \n",
              "8        -3               1        5.0  \n",
              "9        -2               3        0.0  "
            ]
          },
          "execution_count": 16,
          "metadata": {},
          "output_type": "execute_result"
        }
      ],
      "source": [
        "df['Días_cuad']=df['Días'].map(cuad(Días_ord))\n",
        "df.head(10)"
      ]
    },
    {
      "cell_type": "code",
      "execution_count": 20,
      "metadata": {
        "id": "5ssEX1OqH0t0"
      },
      "outputs": [
        {
          "data": {
            "text/html": [
              "<div>\n",
              "<style scoped>\n",
              "    .dataframe tbody tr th:only-of-type {\n",
              "        vertical-align: middle;\n",
              "    }\n",
              "\n",
              "    .dataframe tbody tr th {\n",
              "        vertical-align: top;\n",
              "    }\n",
              "\n",
              "    .dataframe thead th {\n",
              "        text-align: right;\n",
              "    }\n",
              "</style>\n",
              "<table border=\"1\" class=\"dataframe\">\n",
              "  <thead>\n",
              "    <tr style=\"text-align: right;\">\n",
              "      <th></th>\n",
              "      <th>Días</th>\n",
              "      <th>Pronóstico</th>\n",
              "      <th>Temperatura máxima</th>\n",
              "      <th>Temperatura mínima</th>\n",
              "      <th>Días_lin</th>\n",
              "      <th>Pronóstico_lin</th>\n",
              "      <th>Días_cuad</th>\n",
              "      <th>Pronóstico_cuad</th>\n",
              "    </tr>\n",
              "  </thead>\n",
              "  <tbody>\n",
              "    <tr>\n",
              "      <th>0</th>\n",
              "      <td>Sábado</td>\n",
              "      <td>Parcialmente nublado</td>\n",
              "      <td>28.2</td>\n",
              "      <td>11.2</td>\n",
              "      <td>3</td>\n",
              "      <td>1</td>\n",
              "      <td>5.0</td>\n",
              "      <td>-10.666667</td>\n",
              "    </tr>\n",
              "    <tr>\n",
              "      <th>1</th>\n",
              "      <td>Domingo</td>\n",
              "      <td>Parcialmente nublado</td>\n",
              "      <td>29.1</td>\n",
              "      <td>10.7</td>\n",
              "      <td>-3</td>\n",
              "      <td>1</td>\n",
              "      <td>5.0</td>\n",
              "      <td>-10.666667</td>\n",
              "    </tr>\n",
              "    <tr>\n",
              "      <th>2</th>\n",
              "      <td>Lunes</td>\n",
              "      <td>Mayormente nublado</td>\n",
              "      <td>26.1</td>\n",
              "      <td>10.4</td>\n",
              "      <td>-2</td>\n",
              "      <td>-3</td>\n",
              "      <td>0.0</td>\n",
              "      <td>-2.666667</td>\n",
              "    </tr>\n",
              "    <tr>\n",
              "      <th>3</th>\n",
              "      <td>Martes</td>\n",
              "      <td>Mayormente soleado</td>\n",
              "      <td>29.4</td>\n",
              "      <td>11.1</td>\n",
              "      <td>-1</td>\n",
              "      <td>3</td>\n",
              "      <td>-3.0</td>\n",
              "      <td>-2.666667</td>\n",
              "    </tr>\n",
              "    <tr>\n",
              "      <th>4</th>\n",
              "      <td>Miércoles</td>\n",
              "      <td>Mayormente soleado</td>\n",
              "      <td>29.8</td>\n",
              "      <td>11.1</td>\n",
              "      <td>0</td>\n",
              "      <td>3</td>\n",
              "      <td>-4.0</td>\n",
              "      <td>-2.666667</td>\n",
              "    </tr>\n",
              "  </tbody>\n",
              "</table>\n",
              "</div>"
            ],
            "text/plain": [
              "        Días            Pronóstico Temperatura máxima Temperatura mínima  \\\n",
              "0     Sábado  Parcialmente nublado               28.2               11.2   \n",
              "1    Domingo  Parcialmente nublado               29.1               10.7   \n",
              "2      Lunes    Mayormente nublado               26.1               10.4   \n",
              "3     Martes    Mayormente soleado               29.4               11.1   \n",
              "4  Miércoles    Mayormente soleado               29.8               11.1   \n",
              "\n",
              "   Días_lin  Pronóstico_lin  Días_cuad  Pronóstico_cuad  \n",
              "0         3               1        5.0       -10.666667  \n",
              "1        -3               1        5.0       -10.666667  \n",
              "2        -2              -3        0.0        -2.666667  \n",
              "3        -1               3       -3.0        -2.666667  \n",
              "4         0               3       -4.0        -2.666667  "
            ]
          },
          "execution_count": 20,
          "metadata": {},
          "output_type": "execute_result"
        }
      ],
      "source": [
        "df['Pronóstico_cuad']=df['Pronóstico'].map(cuad(Pronóstico_ord))\n",
        "df.head()"
      ]
    },
    {
      "attachments": {},
      "cell_type": "markdown",
      "metadata": {},
      "source": [
        "# Normalización"
      ]
    },
    {
      "cell_type": "code",
      "execution_count": 21,
      "metadata": {},
      "outputs": [
        {
          "data": {
            "text/plain": [
              "{'Domingo': 5.0,\n",
              " 'Lunes': 0.0,\n",
              " 'Martes': -3.0,\n",
              " 'Miércoles': -4.0,\n",
              " 'Jueves': -3.0,\n",
              " 'Viernes': 0.0,\n",
              " 'Sábado': 5.0}"
            ]
          },
          "execution_count": 21,
          "metadata": {},
          "output_type": "execute_result"
        }
      ],
      "source": [
        "Días_cuad=cuad(Días_ord)\n",
        "Días_cuad"
      ]
    },
    {
      "cell_type": "code",
      "execution_count": 22,
      "metadata": {},
      "outputs": [
        {
          "data": {
            "text/plain": [
              "{'Lluvioso': 13.333333333333334,\n",
              " 'Mayormente nublado': -2.666666666666666,\n",
              " 'Nublado': -10.666666666666666,\n",
              " 'Parcialmente nublado': -10.666666666666666,\n",
              " 'Mayormente soleado': -2.666666666666666,\n",
              " 'Soleado': 13.333333333333334}"
            ]
          },
          "execution_count": 22,
          "metadata": {},
          "output_type": "execute_result"
        }
      ],
      "source": [
        "Pronóstico_cuad=cuad(Pronóstico_ord)\n",
        "Pronóstico_cuad"
      ]
    },
    {
      "cell_type": "code",
      "execution_count": 23,
      "metadata": {},
      "outputs": [
        {
          "data": {
            "text/plain": [
              "9.16515138991168"
            ]
          },
          "execution_count": 23,
          "metadata": {},
          "output_type": "execute_result"
        }
      ],
      "source": [
        "# Calcular la Norma euclideana de 'Días'\n",
        "n_Días=np.sqrt(np.sum([i**2 for i in Días_cuad.values()]))\n",
        "n_Días"
      ]
    },
    {
      "cell_type": "code",
      "execution_count": 26,
      "metadata": {},
      "outputs": [
        {
          "data": {
            "text/plain": [
              "24.440403706431148"
            ]
          },
          "execution_count": 26,
          "metadata": {},
          "output_type": "execute_result"
        }
      ],
      "source": [
        "# Calcular la Norma euclideana de 'Pronóstico'\n",
        "n_Pronóstico=np.sqrt(np.sum([i**2 for i in Pronóstico_cuad.values()]))\n",
        "n_Pronóstico"
      ]
    },
    {
      "cell_type": "code",
      "execution_count": 32,
      "metadata": {},
      "outputs": [
        {
          "data": {
            "text/plain": [
              "(0.9999999999999998, 1.0000000000000002)"
            ]
          },
          "execution_count": 32,
          "metadata": {},
          "output_type": "execute_result"
        }
      ],
      "source": [
        "# Para normalizar hay que dividir entre la norma\n",
        "# Creamos copia del diccionario\n",
        "p_cuad=Pronóstico_cuad.copy()\n",
        "d_cuad=Días_cuad.copy()\n",
        "\n",
        "# Iterar los keys de los diciconarios para asignarlo \n",
        "\n",
        "for k, value in Pronóstico_cuad.items():\n",
        "    p_cuad[k]=value/n_Pronóstico\n",
        "\n",
        "for k, value in Días_cuad.items():\n",
        "    d_cuad[k]=value/n_Días\n",
        "np.sum([i**2 for i in p_cuad.values()]), np.sum([i**2 for i in d_cuad.values()])\n"
      ]
    },
    {
      "cell_type": "code",
      "execution_count": 33,
      "metadata": {},
      "outputs": [
        {
          "data": {
            "text/html": [
              "<div>\n",
              "<style scoped>\n",
              "    .dataframe tbody tr th:only-of-type {\n",
              "        vertical-align: middle;\n",
              "    }\n",
              "\n",
              "    .dataframe tbody tr th {\n",
              "        vertical-align: top;\n",
              "    }\n",
              "\n",
              "    .dataframe thead th {\n",
              "        text-align: right;\n",
              "    }\n",
              "</style>\n",
              "<table border=\"1\" class=\"dataframe\">\n",
              "  <thead>\n",
              "    <tr style=\"text-align: right;\">\n",
              "      <th></th>\n",
              "      <th>Días</th>\n",
              "      <th>Pronóstico</th>\n",
              "      <th>Temperatura máxima</th>\n",
              "      <th>Temperatura mínima</th>\n",
              "      <th>Días_lin</th>\n",
              "      <th>Pronóstico_lin</th>\n",
              "      <th>Días_cuad</th>\n",
              "      <th>Pronóstico_cuad</th>\n",
              "    </tr>\n",
              "  </thead>\n",
              "  <tbody>\n",
              "    <tr>\n",
              "      <th>0</th>\n",
              "      <td>Sábado</td>\n",
              "      <td>Parcialmente nublado</td>\n",
              "      <td>28.2</td>\n",
              "      <td>11.2</td>\n",
              "      <td>3</td>\n",
              "      <td>1</td>\n",
              "      <td>0.545545</td>\n",
              "      <td>-0.436436</td>\n",
              "    </tr>\n",
              "    <tr>\n",
              "      <th>1</th>\n",
              "      <td>Domingo</td>\n",
              "      <td>Parcialmente nublado</td>\n",
              "      <td>29.1</td>\n",
              "      <td>10.7</td>\n",
              "      <td>-3</td>\n",
              "      <td>1</td>\n",
              "      <td>0.545545</td>\n",
              "      <td>-0.436436</td>\n",
              "    </tr>\n",
              "    <tr>\n",
              "      <th>2</th>\n",
              "      <td>Lunes</td>\n",
              "      <td>Mayormente nublado</td>\n",
              "      <td>26.1</td>\n",
              "      <td>10.4</td>\n",
              "      <td>-2</td>\n",
              "      <td>-3</td>\n",
              "      <td>0.000000</td>\n",
              "      <td>-0.109109</td>\n",
              "    </tr>\n",
              "    <tr>\n",
              "      <th>3</th>\n",
              "      <td>Martes</td>\n",
              "      <td>Mayormente soleado</td>\n",
              "      <td>29.4</td>\n",
              "      <td>11.1</td>\n",
              "      <td>-1</td>\n",
              "      <td>3</td>\n",
              "      <td>-0.327327</td>\n",
              "      <td>-0.109109</td>\n",
              "    </tr>\n",
              "    <tr>\n",
              "      <th>4</th>\n",
              "      <td>Miércoles</td>\n",
              "      <td>Mayormente soleado</td>\n",
              "      <td>29.8</td>\n",
              "      <td>11.1</td>\n",
              "      <td>0</td>\n",
              "      <td>3</td>\n",
              "      <td>-0.436436</td>\n",
              "      <td>-0.109109</td>\n",
              "    </tr>\n",
              "  </tbody>\n",
              "</table>\n",
              "</div>"
            ],
            "text/plain": [
              "        Días            Pronóstico Temperatura máxima Temperatura mínima  \\\n",
              "0     Sábado  Parcialmente nublado               28.2               11.2   \n",
              "1    Domingo  Parcialmente nublado               29.1               10.7   \n",
              "2      Lunes    Mayormente nublado               26.1               10.4   \n",
              "3     Martes    Mayormente soleado               29.4               11.1   \n",
              "4  Miércoles    Mayormente soleado               29.8               11.1   \n",
              "\n",
              "   Días_lin  Pronóstico_lin  Días_cuad  Pronóstico_cuad  \n",
              "0         3               1   0.545545        -0.436436  \n",
              "1        -3               1   0.545545        -0.436436  \n",
              "2        -2              -3   0.000000        -0.109109  \n",
              "3        -1               3  -0.327327        -0.109109  \n",
              "4         0               3  -0.436436        -0.109109  "
            ]
          },
          "execution_count": 33,
          "metadata": {},
          "output_type": "execute_result"
        }
      ],
      "source": [
        "df['Pronóstico_cuad']=df['Pronóstico'].map(p_cuad)\n",
        "df['Días_cuad']=df['Días'].map(d_cuad)\n",
        "df.head()"
      ]
    },
    {
      "cell_type": "markdown",
      "metadata": {
        "id": "kZPtDgc0XVdD"
      },
      "source": [
        "# Regresón lineal"
      ]
    },
    {
      "cell_type": "code",
      "execution_count": 18,
      "metadata": {
        "id": "MBg9YOoYXaNi"
      },
      "outputs": [],
      "source": [
        "from sklearn.linear_model import LinearRegression"
      ]
    },
    {
      "cell_type": "code",
      "execution_count": 36,
      "metadata": {
        "id": "YQHeNPblXlVx"
      },
      "outputs": [
        {
          "data": {
            "text/plain": [
              "8.366600265340756"
            ]
          },
          "execution_count": 36,
          "metadata": {},
          "output_type": "execute_result"
        }
      ],
      "source": [
        "#Oops\n",
        "n_lin = np.sqrt(np.sum([i**2 for i in Pronóstico_lin.values()]))\n",
        "n_lin"
      ]
    },
    {
      "cell_type": "code",
      "execution_count": 37,
      "metadata": {},
      "outputs": [
        {
          "data": {
            "text/plain": [
              "0.9999999999999999"
            ]
          },
          "execution_count": 37,
          "metadata": {},
          "output_type": "execute_result"
        }
      ],
      "source": [
        "# Normalización de Pronóstico_lin\n",
        "p_lin=Pronóstico_lin.copy()\n",
        "for k, value in Pronóstico_lin.items():\n",
        "    p_lin[k]=value/n_lin\n",
        "np.sum([i**2 for i in p_lin.values()])"
      ]
    },
    {
      "cell_type": "code",
      "execution_count": 38,
      "metadata": {},
      "outputs": [
        {
          "data": {
            "text/html": [
              "<div>\n",
              "<style scoped>\n",
              "    .dataframe tbody tr th:only-of-type {\n",
              "        vertical-align: middle;\n",
              "    }\n",
              "\n",
              "    .dataframe tbody tr th {\n",
              "        vertical-align: top;\n",
              "    }\n",
              "\n",
              "    .dataframe thead th {\n",
              "        text-align: right;\n",
              "    }\n",
              "</style>\n",
              "<table border=\"1\" class=\"dataframe\">\n",
              "  <thead>\n",
              "    <tr style=\"text-align: right;\">\n",
              "      <th></th>\n",
              "      <th>Días</th>\n",
              "      <th>Pronóstico</th>\n",
              "      <th>Temperatura máxima</th>\n",
              "      <th>Temperatura mínima</th>\n",
              "      <th>Días_lin</th>\n",
              "      <th>Pronóstico_lin</th>\n",
              "      <th>Días_cuad</th>\n",
              "      <th>Pronóstico_cuad</th>\n",
              "    </tr>\n",
              "  </thead>\n",
              "  <tbody>\n",
              "    <tr>\n",
              "      <th>0</th>\n",
              "      <td>Sábado</td>\n",
              "      <td>Parcialmente nublado</td>\n",
              "      <td>28.2</td>\n",
              "      <td>11.2</td>\n",
              "      <td>3</td>\n",
              "      <td>0.119523</td>\n",
              "      <td>0.545545</td>\n",
              "      <td>-0.436436</td>\n",
              "    </tr>\n",
              "    <tr>\n",
              "      <th>1</th>\n",
              "      <td>Domingo</td>\n",
              "      <td>Parcialmente nublado</td>\n",
              "      <td>29.1</td>\n",
              "      <td>10.7</td>\n",
              "      <td>-3</td>\n",
              "      <td>0.119523</td>\n",
              "      <td>0.545545</td>\n",
              "      <td>-0.436436</td>\n",
              "    </tr>\n",
              "    <tr>\n",
              "      <th>2</th>\n",
              "      <td>Lunes</td>\n",
              "      <td>Mayormente nublado</td>\n",
              "      <td>26.1</td>\n",
              "      <td>10.4</td>\n",
              "      <td>-2</td>\n",
              "      <td>-0.358569</td>\n",
              "      <td>0.000000</td>\n",
              "      <td>-0.109109</td>\n",
              "    </tr>\n",
              "    <tr>\n",
              "      <th>3</th>\n",
              "      <td>Martes</td>\n",
              "      <td>Mayormente soleado</td>\n",
              "      <td>29.4</td>\n",
              "      <td>11.1</td>\n",
              "      <td>-1</td>\n",
              "      <td>0.358569</td>\n",
              "      <td>-0.327327</td>\n",
              "      <td>-0.109109</td>\n",
              "    </tr>\n",
              "    <tr>\n",
              "      <th>4</th>\n",
              "      <td>Miércoles</td>\n",
              "      <td>Mayormente soleado</td>\n",
              "      <td>29.8</td>\n",
              "      <td>11.1</td>\n",
              "      <td>0</td>\n",
              "      <td>0.358569</td>\n",
              "      <td>-0.436436</td>\n",
              "      <td>-0.109109</td>\n",
              "    </tr>\n",
              "  </tbody>\n",
              "</table>\n",
              "</div>"
            ],
            "text/plain": [
              "        Días            Pronóstico Temperatura máxima Temperatura mínima  \\\n",
              "0     Sábado  Parcialmente nublado               28.2               11.2   \n",
              "1    Domingo  Parcialmente nublado               29.1               10.7   \n",
              "2      Lunes    Mayormente nublado               26.1               10.4   \n",
              "3     Martes    Mayormente soleado               29.4               11.1   \n",
              "4  Miércoles    Mayormente soleado               29.8               11.1   \n",
              "\n",
              "   Días_lin  Pronóstico_lin  Días_cuad  Pronóstico_cuad  \n",
              "0         3        0.119523   0.545545        -0.436436  \n",
              "1        -3        0.119523   0.545545        -0.436436  \n",
              "2        -2       -0.358569   0.000000        -0.109109  \n",
              "3        -1        0.358569  -0.327327        -0.109109  \n",
              "4         0        0.358569  -0.436436        -0.109109  "
            ]
          },
          "execution_count": 38,
          "metadata": {},
          "output_type": "execute_result"
        }
      ],
      "source": [
        "df['Pronóstico_lin']=df['Pronóstico'].map(p_lin)\n",
        "df.head()"
      ]
    },
    {
      "cell_type": "code",
      "execution_count": 39,
      "metadata": {},
      "outputs": [
        {
          "data": {
            "text/html": [
              "<style>#sk-container-id-1 {color: black;background-color: white;}#sk-container-id-1 pre{padding: 0;}#sk-container-id-1 div.sk-toggleable {background-color: white;}#sk-container-id-1 label.sk-toggleable__label {cursor: pointer;display: block;width: 100%;margin-bottom: 0;padding: 0.3em;box-sizing: border-box;text-align: center;}#sk-container-id-1 label.sk-toggleable__label-arrow:before {content: \"▸\";float: left;margin-right: 0.25em;color: #696969;}#sk-container-id-1 label.sk-toggleable__label-arrow:hover:before {color: black;}#sk-container-id-1 div.sk-estimator:hover label.sk-toggleable__label-arrow:before {color: black;}#sk-container-id-1 div.sk-toggleable__content {max-height: 0;max-width: 0;overflow: hidden;text-align: left;background-color: #f0f8ff;}#sk-container-id-1 div.sk-toggleable__content pre {margin: 0.2em;color: black;border-radius: 0.25em;background-color: #f0f8ff;}#sk-container-id-1 input.sk-toggleable__control:checked~div.sk-toggleable__content {max-height: 200px;max-width: 100%;overflow: auto;}#sk-container-id-1 input.sk-toggleable__control:checked~label.sk-toggleable__label-arrow:before {content: \"▾\";}#sk-container-id-1 div.sk-estimator input.sk-toggleable__control:checked~label.sk-toggleable__label {background-color: #d4ebff;}#sk-container-id-1 div.sk-label input.sk-toggleable__control:checked~label.sk-toggleable__label {background-color: #d4ebff;}#sk-container-id-1 input.sk-hidden--visually {border: 0;clip: rect(1px 1px 1px 1px);clip: rect(1px, 1px, 1px, 1px);height: 1px;margin: -1px;overflow: hidden;padding: 0;position: absolute;width: 1px;}#sk-container-id-1 div.sk-estimator {font-family: monospace;background-color: #f0f8ff;border: 1px dotted black;border-radius: 0.25em;box-sizing: border-box;margin-bottom: 0.5em;}#sk-container-id-1 div.sk-estimator:hover {background-color: #d4ebff;}#sk-container-id-1 div.sk-parallel-item::after {content: \"\";width: 100%;border-bottom: 1px solid gray;flex-grow: 1;}#sk-container-id-1 div.sk-label:hover label.sk-toggleable__label {background-color: #d4ebff;}#sk-container-id-1 div.sk-serial::before {content: \"\";position: absolute;border-left: 1px solid gray;box-sizing: border-box;top: 0;bottom: 0;left: 50%;z-index: 0;}#sk-container-id-1 div.sk-serial {display: flex;flex-direction: column;align-items: center;background-color: white;padding-right: 0.2em;padding-left: 0.2em;position: relative;}#sk-container-id-1 div.sk-item {position: relative;z-index: 1;}#sk-container-id-1 div.sk-parallel {display: flex;align-items: stretch;justify-content: center;background-color: white;position: relative;}#sk-container-id-1 div.sk-item::before, #sk-container-id-1 div.sk-parallel-item::before {content: \"\";position: absolute;border-left: 1px solid gray;box-sizing: border-box;top: 0;bottom: 0;left: 50%;z-index: -1;}#sk-container-id-1 div.sk-parallel-item {display: flex;flex-direction: column;z-index: 1;position: relative;background-color: white;}#sk-container-id-1 div.sk-parallel-item:first-child::after {align-self: flex-end;width: 50%;}#sk-container-id-1 div.sk-parallel-item:last-child::after {align-self: flex-start;width: 50%;}#sk-container-id-1 div.sk-parallel-item:only-child::after {width: 0;}#sk-container-id-1 div.sk-dashed-wrapped {border: 1px dashed gray;margin: 0 0.4em 0.5em 0.4em;box-sizing: border-box;padding-bottom: 0.4em;background-color: white;}#sk-container-id-1 div.sk-label label {font-family: monospace;font-weight: bold;display: inline-block;line-height: 1.2em;}#sk-container-id-1 div.sk-label-container {text-align: center;}#sk-container-id-1 div.sk-container {/* jupyter's `normalize.less` sets `[hidden] { display: none; }` but bootstrap.min.css set `[hidden] { display: none !important; }` so we also need the `!important` here to be able to override the default hidden behavior on the sphinx rendered scikit-learn.org. See: https://github.com/scikit-learn/scikit-learn/issues/21755 */display: inline-block !important;position: relative;}#sk-container-id-1 div.sk-text-repr-fallback {display: none;}</style><div id=\"sk-container-id-1\" class=\"sk-top-container\"><div class=\"sk-text-repr-fallback\"><pre>LinearRegression()</pre><b>In a Jupyter environment, please rerun this cell to show the HTML representation or trust the notebook. <br />On GitHub, the HTML representation is unable to render, please try loading this page with nbviewer.org.</b></div><div class=\"sk-container\" hidden><div class=\"sk-item\"><div class=\"sk-estimator sk-toggleable\"><input class=\"sk-toggleable__control sk-hidden--visually\" id=\"sk-estimator-id-1\" type=\"checkbox\" checked><label for=\"sk-estimator-id-1\" class=\"sk-toggleable__label sk-toggleable__label-arrow\">LinearRegression</label><div class=\"sk-toggleable__content\"><pre>LinearRegression()</pre></div></div></div></div></div>"
            ],
            "text/plain": [
              "LinearRegression()"
            ]
          },
          "execution_count": 39,
          "metadata": {},
          "output_type": "execute_result"
        }
      ],
      "source": [
        "lin=LinearRegression()\n",
        "lin.fit(df[['Pronóstico_lin','Pronóstico_cuad']], df['Temperatura máxima'])"
      ]
    },
    {
      "cell_type": "code",
      "execution_count": 40,
      "metadata": {},
      "outputs": [],
      "source": [
        "f=lin.predict(df[['Pronóstico_lin','Pronóstico_cuad']])"
      ]
    },
    {
      "cell_type": "code",
      "execution_count": 44,
      "metadata": {},
      "outputs": [
        {
          "data": {
            "image/png": "[encoded data removed]",
            "text/plain": [
              "<Figure size 640x480 with 1 Axes>"
            ]
          },
          "metadata": {},
          "output_type": "display_data"
        }
      ],
      "source": [
        "# Graficar proyección en Lin\n",
        "import matplotlib.pyplot as plt\n",
        "plt.scatter(df['Pronóstico_lin'], df['Temperatura máxima'],label='Observaciones') \n",
        "# f es la predicción de nuestro modelo de regresión lineal\n",
        "# Graficar proyección en Cuad\n",
        "plt.scatter(df['Pronóstico_lin'], f,label='Observaciones') \n",
        "plt.legend()\n",
        "plt.grid()\n"
      ]
    },
    {
      "cell_type": "code",
      "execution_count": 45,
      "metadata": {},
      "outputs": [
        {
          "data": {
            "text/plain": [
              "{'Lluvioso': -0.5976143046671968,\n",
              " 'Mayormente nublado': -0.35856858280031806,\n",
              " 'Nublado': -0.11952286093343936,\n",
              " 'Parcialmente nublado': 0.11952286093343936,\n",
              " 'Mayormente soleado': 0.35856858280031806,\n",
              " 'Soleado': 0.5976143046671968}"
            ]
          },
          "execution_count": 45,
          "metadata": {},
          "output_type": "execute_result"
        }
      ],
      "source": [
        "p_lin"
      ]
    },
    {
      "cell_type": "code",
      "execution_count": 46,
      "metadata": {},
      "outputs": [
        {
          "data": {
            "image/png": "[encoded data removed]",
            "text/plain": [
              "<Figure size 640x480 with 1 Axes>"
            ]
          },
          "metadata": {},
          "output_type": "display_data"
        }
      ],
      "source": [
        "# Proyección cuadrática sobre 'Pronóstico_cuad'\n",
        "plt.scatter(df['Pronóstico_cuad'], df['Temperatura máxima'],label='Observaciones') \n",
        "# f es la predicción de nuestro modelo de regresión lineal\n",
        "# Graficar proyección en Cuad\n",
        "plt.scatter(df['Pronóstico_cuad'], f,label='Observaciones') \n",
        "plt.legend()\n",
        "plt.grid()"
      ]
    }
  ],
  "metadata": {
    "colab": {
      "provenance": []
    },
    "kernelspec": {
      "display_name": "Python 3",
      "language": "python",
      "name": "python3"
    },
    "language_info": {
      "codemirror_mode": {
        "name": "ipython",
        "version": 3
      },
      "file_extension": ".py",
      "mimetype": "text/x-python",
      "name": "python",
      "nbconvert_exporter": "python",
      "pygments_lexer": "ipython3",
      "version": "3.10.6"
    },
    "vscode": {
      "interpreter": {
        "hash": "a4372ccc39bc69d1344801f11643c555230a2a2a6720f2dc8a4ecd2e4b6111c2"
      }
    }
  },
  "nbformat": 4,
  "nbformat_minor": 0
}
