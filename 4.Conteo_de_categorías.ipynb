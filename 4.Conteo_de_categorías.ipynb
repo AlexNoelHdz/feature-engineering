{
  "cells": [
    {
      "cell_type": "code",
      "execution_count": 7,
      "metadata": {
        "id": "MXANd0kft5j5"
      },
      "outputs": [
        {
          "name": "stdout",
          "output_type": "stream",
          "text": [
            "Días: ['Sábado', 'Domingo', 'Lunes', 'Martes', 'Miércoles', 'Jueves', 'Viernes', 'Sábado', 'Domingo', 'Lunes', 'Martes', 'Miércoles', 'Jueves', 'Viernes', 'Sábado', 'Domingo', 'Lunes', 'Martes', 'Miércoles', 'Jueves', 'Viernes', 'Sábado', 'Domingo', 'Lunes', 'Martes', 'Miércoles', 'Jueves', 'Viernes', 'Sábado', 'Domingo', 'Lunes', 'Martes', 'Miércoles', 'Jueves', 'Viernes', 'Sábado', 'Domingo', 'Lunes', 'Martes', 'Miércoles', 'Jueves', 'Viernes', 'Sábado', 'Domingo', 'Lunes', 'Martes', 'Miércoles', 'Jueves']. (48)\n"
          ]
        }
      ],
      "source": [
        "import pandas as pd\n",
        "import numpy as np\n",
        "ruta='files/' #'/content/drive/MyDrive/Colab Notebooks/ITESO/Ingeniería de características/P2023_MCD3735A/Módulo 4 - Codificación de variables categóricas /'\n",
        "\n",
        "data=pd.read_csv(ruta+'temps.txt',sep='\\s+',header=None) # Fuente: http://astro.iam.udg.mx/Estacion/NOAAPRMO.TXT\n",
        "                                                         #         http://astro.iam.udg.mx/Estacion/NOAAMO.TXT\n",
        "data.columns=['Temperatura máxima','Temperatura mínima','HDD','CDD','Rain']\n",
        "d=['Sábado','Domingo','Lunes','Martes','Miércoles','Jueves','Viernes']\n",
        "# Un día de la semana para cada observación de los datos\n",
        "dias=[d[i%7] for i in range(len(data))]\n",
        "print(f\"Días: {dias}. ({len(dias)})\")\n",
        "catego=['Soleado','Mayormente soleado','Parcialmente nublado','Mayormente nublado','Nublado','Lluvioso']"
      ]
    },
    {
      "cell_type": "code",
      "execution_count": 12,
      "metadata": {},
      "outputs": [
        {
          "data": {
            "text/plain": [
              "0    2.0\n",
              "1    2.6\n",
              "2    2.6\n",
              "3    2.1\n",
              "4    2.1\n",
              "Name: HDD, dtype: float64"
            ]
          },
          "execution_count": 12,
          "metadata": {},
          "output_type": "execute_result"
        }
      ],
      "source": [
        "data['HDD'].head() # Heat degree days"
      ]
    },
    {
      "cell_type": "code",
      "execution_count": null,
      "metadata": {},
      "outputs": [],
      "source": [
        "data['CDD'].head() # Could degree days"
      ]
    },
    {
      "cell_type": "code",
      "execution_count": 15,
      "metadata": {},
      "outputs": [
        {
          "data": {
            "text/plain": [
              "0    0.0\n",
              "1    0.0\n",
              "2    0.0\n",
              "3    0.0\n",
              "4    0.0\n",
              "Name: Rain, dtype: float64"
            ]
          },
          "execution_count": 15,
          "metadata": {},
          "output_type": "execute_result"
        }
      ],
      "source": [
        "# Si rain\n",
        "data['Rain'].head()"
      ]
    },
    {
      "cell_type": "code",
      "execution_count": 6,
      "metadata": {},
      "outputs": [
        {
          "data": {
            "text/plain": [
              "['Parcialmente nublado',\n",
              " 'Parcialmente nublado',\n",
              " 'Mayormente nublado',\n",
              " 'Mayormente soleado',\n",
              " 'Mayormente soleado',\n",
              " 'Mayormente soleado',\n",
              " 'Mayormente soleado',\n",
              " 'Mayormente soleado',\n",
              " 'Parcialmente nublado',\n",
              " 'Mayormente soleado',\n",
              " 'Mayormente soleado',\n",
              " 'Parcialmente nublado',\n",
              " 'Mayormente soleado',\n",
              " 'Mayormente soleado',\n",
              " 'Soleado',\n",
              " 'Parcialmente nublado',\n",
              " 'Mayormente soleado',\n",
              " 'Lluvioso',\n",
              " 'Parcialmente nublado',\n",
              " 'Parcialmente nublado',\n",
              " 'Parcialmente nublado',\n",
              " 'Mayormente nublado',\n",
              " 'Parcialmente nublado',\n",
              " 'Mayormente nublado',\n",
              " 'Parcialmente nublado',\n",
              " 'Parcialmente nublado',\n",
              " 'Soleado',\n",
              " 'Soleado',\n",
              " 'Mayormente soleado',\n",
              " 'Soleado',\n",
              " 'Mayormente soleado',\n",
              " 'Parcialmente nublado',\n",
              " 'Parcialmente nublado',\n",
              " 'Parcialmente nublado',\n",
              " 'Mayormente soleado',\n",
              " 'Parcialmente nublado',\n",
              " 'Mayormente soleado',\n",
              " 'Parcialmente nublado',\n",
              " 'Nublado',\n",
              " 'Mayormente nublado',\n",
              " 'Mayormente nublado',\n",
              " 'Nublado',\n",
              " 'Mayormente nublado',\n",
              " 'Parcialmente nublado',\n",
              " 'Lluvioso',\n",
              " 'Soleado',\n",
              " 'Soleado',\n",
              " 'Parcialmente nublado']"
            ]
          },
          "execution_count": 6,
          "metadata": {},
          "output_type": "execute_result"
        }
      ],
      "source": [
        "prono=[catego[-1] if data['Rain'][i]>0 else catego[int(round(1.2*(data['HDD'][i]-data['CDD'][i])+2))] for i in range(len(data))]\n",
        "prono"
      ]
    },
    {
      "cell_type": "code",
      "execution_count": null,
      "metadata": {},
      "outputs": [],
      "source": [
        "df=pd.DataFrame(columns=['Días','Pronóstico','Temperatura máxima','Temperatura mínima'],index=range(len(data)))\n",
        "df.iloc[:,2:4]=data.iloc[:,0:2]\n",
        "df['Días']=dias\n",
        "df['Pronóstico']=prono\n",
        "\n",
        "txt1=\"Pedro Perez Pereira, pobre pintor portuguez, pinta preciosos paisajes para poder partir para Paris.\"\n",
        "txt2=\"Preciosos gatos y perros con mancha quiero. Partir de izquierda a derecha para poder llegar a algun lugar.\"\n",
        "txt3=\"En un lugar de la Mancha, cuyo nombre no quiero acordarme...\""
      ]
    },
    {
      "cell_type": "code",
      "execution_count": 2,
      "metadata": {
        "colab": {
          "base_uri": "https://localhost:8080/",
          "height": 206
        },
        "id": "m52aGJrKuB1S",
        "outputId": "d8bdde31-0121-47ae-ca69-552c789899cf"
      },
      "outputs": [
        {
          "data": {
            "text/html": [
              "<div>\n",
              "<style scoped>\n",
              "    .dataframe tbody tr th:only-of-type {\n",
              "        vertical-align: middle;\n",
              "    }\n",
              "\n",
              "    .dataframe tbody tr th {\n",
              "        vertical-align: top;\n",
              "    }\n",
              "\n",
              "    .dataframe thead th {\n",
              "        text-align: right;\n",
              "    }\n",
              "</style>\n",
              "<table border=\"1\" class=\"dataframe\">\n",
              "  <thead>\n",
              "    <tr style=\"text-align: right;\">\n",
              "      <th></th>\n",
              "      <th>Días</th>\n",
              "      <th>Pronóstico</th>\n",
              "      <th>Temperatura máxima</th>\n",
              "      <th>Temperatura mínima</th>\n",
              "    </tr>\n",
              "  </thead>\n",
              "  <tbody>\n",
              "    <tr>\n",
              "      <th>0</th>\n",
              "      <td>Sábado</td>\n",
              "      <td>Parcialmente nublado</td>\n",
              "      <td>28.2</td>\n",
              "      <td>11.2</td>\n",
              "    </tr>\n",
              "    <tr>\n",
              "      <th>1</th>\n",
              "      <td>Domingo</td>\n",
              "      <td>Parcialmente nublado</td>\n",
              "      <td>29.1</td>\n",
              "      <td>10.7</td>\n",
              "    </tr>\n",
              "    <tr>\n",
              "      <th>2</th>\n",
              "      <td>Lunes</td>\n",
              "      <td>Mayormente nublado</td>\n",
              "      <td>26.1</td>\n",
              "      <td>10.4</td>\n",
              "    </tr>\n",
              "    <tr>\n",
              "      <th>3</th>\n",
              "      <td>Martes</td>\n",
              "      <td>Mayormente soleado</td>\n",
              "      <td>29.4</td>\n",
              "      <td>11.1</td>\n",
              "    </tr>\n",
              "    <tr>\n",
              "      <th>4</th>\n",
              "      <td>Miércoles</td>\n",
              "      <td>Mayormente soleado</td>\n",
              "      <td>29.8</td>\n",
              "      <td>11.1</td>\n",
              "    </tr>\n",
              "  </tbody>\n",
              "</table>\n",
              "</div>"
            ],
            "text/plain": [
              "        Días            Pronóstico Temperatura máxima Temperatura mínima\n",
              "0     Sábado  Parcialmente nublado               28.2               11.2\n",
              "1    Domingo  Parcialmente nublado               29.1               10.7\n",
              "2      Lunes    Mayormente nublado               26.1               10.4\n",
              "3     Martes    Mayormente soleado               29.4               11.1\n",
              "4  Miércoles    Mayormente soleado               29.8               11.1"
            ]
          },
          "execution_count": 2,
          "metadata": {},
          "output_type": "execute_result"
        }
      ],
      "source": [
        "df.head()"
      ]
    },
    {
      "cell_type": "code",
      "execution_count": null,
      "metadata": {
        "colab": {
          "base_uri": "https://localhost:8080/"
        },
        "id": "5nIv6449R955",
        "outputId": "43f67da7-3424-4ff3-9628-4840247c7629"
      },
      "outputs": [
        {
          "data": {
            "text/plain": [
              "Parcialmente nublado    18\n",
              "Mayormente soleado      14\n",
              "Mayormente nublado       6\n",
              "Soleado                  6\n",
              "Lluvioso                 2\n",
              "Nublado                  2\n",
              "Name: Pronóstico, dtype: int64"
            ]
          },
          "execution_count": 5,
          "metadata": {},
          "output_type": "execute_result"
        }
      ],
      "source": [
        "cod_conteo=df['Pronóstico'].value_counts()\n",
        "cod_conteo"
      ]
    },
    {
      "cell_type": "code",
      "execution_count": null,
      "metadata": {
        "colab": {
          "base_uri": "https://localhost:8080/",
          "height": 206
        },
        "id": "NJg2JJ0jSkSe",
        "outputId": "139a17f5-f869-4fa2-a40a-0696482041b3"
      },
      "outputs": [
        {
          "data": {
            "text/html": [
              "\n",
              "  <div id=\"df-9cc5942a-03aa-4ec5-9b5d-64e7d4955c12\">\n",
              "    <div class=\"colab-df-container\">\n",
              "      <div>\n",
              "<style scoped>\n",
              "    .dataframe tbody tr th:only-of-type {\n",
              "        vertical-align: middle;\n",
              "    }\n",
              "\n",
              "    .dataframe tbody tr th {\n",
              "        vertical-align: top;\n",
              "    }\n",
              "\n",
              "    .dataframe thead th {\n",
              "        text-align: right;\n",
              "    }\n",
              "</style>\n",
              "<table border=\"1\" class=\"dataframe\">\n",
              "  <thead>\n",
              "    <tr style=\"text-align: right;\">\n",
              "      <th></th>\n",
              "      <th>Días</th>\n",
              "      <th>Pronóstico</th>\n",
              "      <th>Temperatura máxima</th>\n",
              "      <th>Temperatura mínima</th>\n",
              "      <th>Conteo</th>\n",
              "    </tr>\n",
              "  </thead>\n",
              "  <tbody>\n",
              "    <tr>\n",
              "      <th>0</th>\n",
              "      <td>Sábado</td>\n",
              "      <td>Parcialmente nublado</td>\n",
              "      <td>28.2</td>\n",
              "      <td>11.2</td>\n",
              "      <td>18</td>\n",
              "    </tr>\n",
              "    <tr>\n",
              "      <th>1</th>\n",
              "      <td>Domingo</td>\n",
              "      <td>Parcialmente nublado</td>\n",
              "      <td>29.1</td>\n",
              "      <td>10.7</td>\n",
              "      <td>18</td>\n",
              "    </tr>\n",
              "    <tr>\n",
              "      <th>2</th>\n",
              "      <td>Lunes</td>\n",
              "      <td>Mayormente nublado</td>\n",
              "      <td>26.1</td>\n",
              "      <td>10.4</td>\n",
              "      <td>6</td>\n",
              "    </tr>\n",
              "    <tr>\n",
              "      <th>3</th>\n",
              "      <td>Martes</td>\n",
              "      <td>Mayormente soleado</td>\n",
              "      <td>29.4</td>\n",
              "      <td>11.1</td>\n",
              "      <td>14</td>\n",
              "    </tr>\n",
              "    <tr>\n",
              "      <th>4</th>\n",
              "      <td>Miércoles</td>\n",
              "      <td>Mayormente soleado</td>\n",
              "      <td>29.8</td>\n",
              "      <td>11.1</td>\n",
              "      <td>14</td>\n",
              "    </tr>\n",
              "  </tbody>\n",
              "</table>\n",
              "</div>\n",
              "      <button class=\"colab-df-convert\" onclick=\"convertToInteractive('df-9cc5942a-03aa-4ec5-9b5d-64e7d4955c12')\"\n",
              "              title=\"Convert this dataframe to an interactive table.\"\n",
              "              style=\"display:none;\">\n",
              "        \n",
              "  <svg xmlns=\"http://www.w3.org/2000/svg\" height=\"24px\"viewBox=\"0 0 24 24\"\n",
              "       width=\"24px\">\n",
              "    <path d=\"M0 0h24v24H0V0z\" fill=\"none\"/>\n",
              "    <path d=\"M18.56 5.44l.94 2.06.94-2.06 2.06-.94-2.06-.94-.94-2.06-.94 2.06-2.06.94zm-11 1L8.5 8.5l.94-2.06 2.06-.94-2.06-.94L8.5 2.5l-.94 2.06-2.06.94zm10 10l.94 2.06.94-2.06 2.06-.94-2.06-.94-.94-2.06-.94 2.06-2.06.94z\"/><path d=\"M17.41 7.96l-1.37-1.37c-.4-.4-.92-.59-1.43-.59-.52 0-1.04.2-1.43.59L10.3 9.45l-7.72 7.72c-.78.78-.78 2.05 0 2.83L4 21.41c.39.39.9.59 1.41.59.51 0 1.02-.2 1.41-.59l7.78-7.78 2.81-2.81c.8-.78.8-2.07 0-2.86zM5.41 20L4 18.59l7.72-7.72 1.47 1.35L5.41 20z\"/>\n",
              "  </svg>\n",
              "      </button>\n",
              "      \n",
              "  <style>\n",
              "    .colab-df-container {\n",
              "      display:flex;\n",
              "      flex-wrap:wrap;\n",
              "      gap: 12px;\n",
              "    }\n",
              "\n",
              "    .colab-df-convert {\n",
              "      background-color: #E8F0FE;\n",
              "      border: none;\n",
              "      border-radius: 50%;\n",
              "      cursor: pointer;\n",
              "      display: none;\n",
              "      fill: #1967D2;\n",
              "      height: 32px;\n",
              "      padding: 0 0 0 0;\n",
              "      width: 32px;\n",
              "    }\n",
              "\n",
              "    .colab-df-convert:hover {\n",
              "      background-color: #E2EBFA;\n",
              "      box-shadow: 0px 1px 2px rgba(60, 64, 67, 0.3), 0px 1px 3px 1px rgba(60, 64, 67, 0.15);\n",
              "      fill: #174EA6;\n",
              "    }\n",
              "\n",
              "    [theme=dark] .colab-df-convert {\n",
              "      background-color: #3B4455;\n",
              "      fill: #D2E3FC;\n",
              "    }\n",
              "\n",
              "    [theme=dark] .colab-df-convert:hover {\n",
              "      background-color: #434B5C;\n",
              "      box-shadow: 0px 1px 3px 1px rgba(0, 0, 0, 0.15);\n",
              "      filter: drop-shadow(0px 1px 2px rgba(0, 0, 0, 0.3));\n",
              "      fill: #FFFFFF;\n",
              "    }\n",
              "  </style>\n",
              "\n",
              "      <script>\n",
              "        const buttonEl =\n",
              "          document.querySelector('#df-9cc5942a-03aa-4ec5-9b5d-64e7d4955c12 button.colab-df-convert');\n",
              "        buttonEl.style.display =\n",
              "          google.colab.kernel.accessAllowed ? 'block' : 'none';\n",
              "\n",
              "        async function convertToInteractive(key) {\n",
              "          const element = document.querySelector('#df-9cc5942a-03aa-4ec5-9b5d-64e7d4955c12');\n",
              "          const dataTable =\n",
              "            await google.colab.kernel.invokeFunction('convertToInteractive',\n",
              "                                                     [key], {});\n",
              "          if (!dataTable) return;\n",
              "\n",
              "          const docLinkHtml = 'Like what you see? Visit the ' +\n",
              "            '<a target=\"_blank\" href=https://colab.research.google.com/notebooks/data_table.ipynb>data table notebook</a>'\n",
              "            + ' to learn more about interactive tables.';\n",
              "          element.innerHTML = '';\n",
              "          dataTable['output_type'] = 'display_data';\n",
              "          await google.colab.output.renderOutput(dataTable, element);\n",
              "          const docLink = document.createElement('div');\n",
              "          docLink.innerHTML = docLinkHtml;\n",
              "          element.appendChild(docLink);\n",
              "        }\n",
              "      </script>\n",
              "    </div>\n",
              "  </div>\n",
              "  "
            ],
            "text/plain": [
              "        Días            Pronóstico Temperatura máxima Temperatura mínima  \\\n",
              "0     Sábado  Parcialmente nublado               28.2               11.2   \n",
              "1    Domingo  Parcialmente nublado               29.1               10.7   \n",
              "2      Lunes    Mayormente nublado               26.1               10.4   \n",
              "3     Martes    Mayormente soleado               29.4               11.1   \n",
              "4  Miércoles    Mayormente soleado               29.8               11.1   \n",
              "\n",
              "   Conteo  \n",
              "0      18  \n",
              "1      18  \n",
              "2       6  \n",
              "3      14  \n",
              "4      14  "
            ]
          },
          "execution_count": 6,
          "metadata": {},
          "output_type": "execute_result"
        }
      ],
      "source": [
        "df['Conteo']=df['Pronóstico'].map(cod_conteo)\n",
        "df.head()"
      ]
    },
    {
      "cell_type": "code",
      "execution_count": null,
      "metadata": {
        "colab": {
          "base_uri": "https://localhost:8080/"
        },
        "id": "z-GlqRsESwp_",
        "outputId": "44919493-4df9-4416-cd25-7612908eb1e5"
      },
      "outputs": [
        {
          "data": {
            "text/plain": [
              "Parcialmente nublado    0.375000\n",
              "Mayormente soleado      0.291667\n",
              "Mayormente nublado      0.125000\n",
              "Soleado                 0.125000\n",
              "Lluvioso                0.041667\n",
              "Nublado                 0.041667\n",
              "Name: Pronóstico, dtype: float64"
            ]
          },
          "execution_count": 7,
          "metadata": {},
          "output_type": "execute_result"
        }
      ],
      "source": [
        "cod_freq=df['Pronóstico'].value_counts()/len(df['Pronóstico'])\n",
        "cod_freq"
      ]
    },
    {
      "cell_type": "code",
      "execution_count": null,
      "metadata": {
        "colab": {
          "base_uri": "https://localhost:8080/"
        },
        "id": "xurqkuydTRnu",
        "outputId": "1a13f5d3-40db-4b6d-9150-fe22f2ef55fb"
      },
      "outputs": [
        {
          "data": {
            "text/plain": [
              "1.0"
            ]
          },
          "execution_count": 8,
          "metadata": {},
          "output_type": "execute_result"
        }
      ],
      "source": [
        "cod_freq.sum()"
      ]
    },
    {
      "cell_type": "code",
      "execution_count": null,
      "metadata": {
        "colab": {
          "base_uri": "https://localhost:8080/",
          "height": 206
        },
        "id": "SDu3qrQ7TYT-",
        "outputId": "2b7a9055-bcc6-476a-bb4a-71034ed22e90"
      },
      "outputs": [
        {
          "data": {
            "text/html": [
              "\n",
              "  <div id=\"df-f24f7f07-4be2-492c-811f-5a1e7079a1f8\">\n",
              "    <div class=\"colab-df-container\">\n",
              "      <div>\n",
              "<style scoped>\n",
              "    .dataframe tbody tr th:only-of-type {\n",
              "        vertical-align: middle;\n",
              "    }\n",
              "\n",
              "    .dataframe tbody tr th {\n",
              "        vertical-align: top;\n",
              "    }\n",
              "\n",
              "    .dataframe thead th {\n",
              "        text-align: right;\n",
              "    }\n",
              "</style>\n",
              "<table border=\"1\" class=\"dataframe\">\n",
              "  <thead>\n",
              "    <tr style=\"text-align: right;\">\n",
              "      <th></th>\n",
              "      <th>Días</th>\n",
              "      <th>Pronóstico</th>\n",
              "      <th>Temperatura máxima</th>\n",
              "      <th>Temperatura mínima</th>\n",
              "      <th>Conteo</th>\n",
              "      <th>Frecuencia</th>\n",
              "    </tr>\n",
              "  </thead>\n",
              "  <tbody>\n",
              "    <tr>\n",
              "      <th>0</th>\n",
              "      <td>Sábado</td>\n",
              "      <td>Parcialmente nublado</td>\n",
              "      <td>28.2</td>\n",
              "      <td>11.2</td>\n",
              "      <td>18</td>\n",
              "      <td>0.375000</td>\n",
              "    </tr>\n",
              "    <tr>\n",
              "      <th>1</th>\n",
              "      <td>Domingo</td>\n",
              "      <td>Parcialmente nublado</td>\n",
              "      <td>29.1</td>\n",
              "      <td>10.7</td>\n",
              "      <td>18</td>\n",
              "      <td>0.375000</td>\n",
              "    </tr>\n",
              "    <tr>\n",
              "      <th>2</th>\n",
              "      <td>Lunes</td>\n",
              "      <td>Mayormente nublado</td>\n",
              "      <td>26.1</td>\n",
              "      <td>10.4</td>\n",
              "      <td>6</td>\n",
              "      <td>0.125000</td>\n",
              "    </tr>\n",
              "    <tr>\n",
              "      <th>3</th>\n",
              "      <td>Martes</td>\n",
              "      <td>Mayormente soleado</td>\n",
              "      <td>29.4</td>\n",
              "      <td>11.1</td>\n",
              "      <td>14</td>\n",
              "      <td>0.291667</td>\n",
              "    </tr>\n",
              "    <tr>\n",
              "      <th>4</th>\n",
              "      <td>Miércoles</td>\n",
              "      <td>Mayormente soleado</td>\n",
              "      <td>29.8</td>\n",
              "      <td>11.1</td>\n",
              "      <td>14</td>\n",
              "      <td>0.291667</td>\n",
              "    </tr>\n",
              "  </tbody>\n",
              "</table>\n",
              "</div>\n",
              "      <button class=\"colab-df-convert\" onclick=\"convertToInteractive('df-f24f7f07-4be2-492c-811f-5a1e7079a1f8')\"\n",
              "              title=\"Convert this dataframe to an interactive table.\"\n",
              "              style=\"display:none;\">\n",
              "        \n",
              "  <svg xmlns=\"http://www.w3.org/2000/svg\" height=\"24px\"viewBox=\"0 0 24 24\"\n",
              "       width=\"24px\">\n",
              "    <path d=\"M0 0h24v24H0V0z\" fill=\"none\"/>\n",
              "    <path d=\"M18.56 5.44l.94 2.06.94-2.06 2.06-.94-2.06-.94-.94-2.06-.94 2.06-2.06.94zm-11 1L8.5 8.5l.94-2.06 2.06-.94-2.06-.94L8.5 2.5l-.94 2.06-2.06.94zm10 10l.94 2.06.94-2.06 2.06-.94-2.06-.94-.94-2.06-.94 2.06-2.06.94z\"/><path d=\"M17.41 7.96l-1.37-1.37c-.4-.4-.92-.59-1.43-.59-.52 0-1.04.2-1.43.59L10.3 9.45l-7.72 7.72c-.78.78-.78 2.05 0 2.83L4 21.41c.39.39.9.59 1.41.59.51 0 1.02-.2 1.41-.59l7.78-7.78 2.81-2.81c.8-.78.8-2.07 0-2.86zM5.41 20L4 18.59l7.72-7.72 1.47 1.35L5.41 20z\"/>\n",
              "  </svg>\n",
              "      </button>\n",
              "      \n",
              "  <style>\n",
              "    .colab-df-container {\n",
              "      display:flex;\n",
              "      flex-wrap:wrap;\n",
              "      gap: 12px;\n",
              "    }\n",
              "\n",
              "    .colab-df-convert {\n",
              "      background-color: #E8F0FE;\n",
              "      border: none;\n",
              "      border-radius: 50%;\n",
              "      cursor: pointer;\n",
              "      display: none;\n",
              "      fill: #1967D2;\n",
              "      height: 32px;\n",
              "      padding: 0 0 0 0;\n",
              "      width: 32px;\n",
              "    }\n",
              "\n",
              "    .colab-df-convert:hover {\n",
              "      background-color: #E2EBFA;\n",
              "      box-shadow: 0px 1px 2px rgba(60, 64, 67, 0.3), 0px 1px 3px 1px rgba(60, 64, 67, 0.15);\n",
              "      fill: #174EA6;\n",
              "    }\n",
              "\n",
              "    [theme=dark] .colab-df-convert {\n",
              "      background-color: #3B4455;\n",
              "      fill: #D2E3FC;\n",
              "    }\n",
              "\n",
              "    [theme=dark] .colab-df-convert:hover {\n",
              "      background-color: #434B5C;\n",
              "      box-shadow: 0px 1px 3px 1px rgba(0, 0, 0, 0.15);\n",
              "      filter: drop-shadow(0px 1px 2px rgba(0, 0, 0, 0.3));\n",
              "      fill: #FFFFFF;\n",
              "    }\n",
              "  </style>\n",
              "\n",
              "      <script>\n",
              "        const buttonEl =\n",
              "          document.querySelector('#df-f24f7f07-4be2-492c-811f-5a1e7079a1f8 button.colab-df-convert');\n",
              "        buttonEl.style.display =\n",
              "          google.colab.kernel.accessAllowed ? 'block' : 'none';\n",
              "\n",
              "        async function convertToInteractive(key) {\n",
              "          const element = document.querySelector('#df-f24f7f07-4be2-492c-811f-5a1e7079a1f8');\n",
              "          const dataTable =\n",
              "            await google.colab.kernel.invokeFunction('convertToInteractive',\n",
              "                                                     [key], {});\n",
              "          if (!dataTable) return;\n",
              "\n",
              "          const docLinkHtml = 'Like what you see? Visit the ' +\n",
              "            '<a target=\"_blank\" href=https://colab.research.google.com/notebooks/data_table.ipynb>data table notebook</a>'\n",
              "            + ' to learn more about interactive tables.';\n",
              "          element.innerHTML = '';\n",
              "          dataTable['output_type'] = 'display_data';\n",
              "          await google.colab.output.renderOutput(dataTable, element);\n",
              "          const docLink = document.createElement('div');\n",
              "          docLink.innerHTML = docLinkHtml;\n",
              "          element.appendChild(docLink);\n",
              "        }\n",
              "      </script>\n",
              "    </div>\n",
              "  </div>\n",
              "  "
            ],
            "text/plain": [
              "        Días            Pronóstico Temperatura máxima Temperatura mínima  \\\n",
              "0     Sábado  Parcialmente nublado               28.2               11.2   \n",
              "1    Domingo  Parcialmente nublado               29.1               10.7   \n",
              "2      Lunes    Mayormente nublado               26.1               10.4   \n",
              "3     Martes    Mayormente soleado               29.4               11.1   \n",
              "4  Miércoles    Mayormente soleado               29.8               11.1   \n",
              "\n",
              "   Conteo  Frecuencia  \n",
              "0      18    0.375000  \n",
              "1      18    0.375000  \n",
              "2       6    0.125000  \n",
              "3      14    0.291667  \n",
              "4      14    0.291667  "
            ]
          },
          "execution_count": 9,
          "metadata": {},
          "output_type": "execute_result"
        }
      ],
      "source": [
        "df['Frecuencia']=df['Pronóstico'].map(cod_freq)\n",
        "df.head()"
      ]
    },
    {
      "cell_type": "markdown",
      "metadata": {
        "id": "A13fA_qKuGDp"
      },
      "source": [
        "# Bag of words"
      ]
    },
    {
      "cell_type": "code",
      "execution_count": null,
      "metadata": {
        "id": "w1nvPI7DuH9q"
      },
      "outputs": [],
      "source": [
        "from sklearn.feature_extraction.text import CountVectorizer"
      ]
    },
    {
      "cell_type": "code",
      "execution_count": null,
      "metadata": {
        "colab": {
          "base_uri": "https://localhost:8080/"
        },
        "id": "Q8cOrxeJuQX9",
        "outputId": "9efbd424-1680-4ced-edcf-806905a613d6"
      },
      "outputs": [
        {
          "data": {
            "text/plain": [
              "array([[0, 0, 0, 0, 0, 0, 0, 0, 0, 0, 0, 0, 0, 0, 0, 1, 2, 1, 1, 1, 1, 1,\n",
              "        0, 1, 1, 1, 1, 1, 1, 0, 0],\n",
              "       [0, 1, 1, 0, 1, 1, 0, 1, 1, 0, 1, 1, 1, 0, 0, 0, 1, 0, 1, 0, 0, 0,\n",
              "        1, 0, 0, 0, 1, 0, 1, 1, 0],\n",
              "       [1, 0, 0, 1, 1, 0, 1, 0, 0, 1, 0, 1, 1, 1, 1, 0, 0, 0, 0, 0, 0, 0,\n",
              "        0, 0, 0, 0, 0, 0, 0, 1, 1]])"
            ]
          },
          "execution_count": 11,
          "metadata": {},
          "output_type": "execute_result"
        }
      ],
      "source": [
        "obj=CountVectorizer()\n",
        "m=obj.fit_transform([txt1,txt2,txt3])\n",
        "m.toarray()"
      ]
    },
    {
      "cell_type": "code",
      "execution_count": null,
      "metadata": {
        "colab": {
          "base_uri": "https://localhost:8080/"
        },
        "id": "fXD3XmRdU6Vp",
        "outputId": "28db0164-c924-47b7-a8d7-8c25afdb68d5"
      },
      "outputs": [
        {
          "data": {
            "text/plain": [
              "array(['acordarme', 'algun', 'con', 'cuyo', 'de', 'derecha', 'en',\n",
              "       'gatos', 'izquierda', 'la', 'llegar', 'lugar', 'mancha', 'no',\n",
              "       'nombre', 'paisajes', 'para', 'paris', 'partir', 'pedro',\n",
              "       'pereira', 'perez', 'perros', 'pinta', 'pintor', 'pobre', 'poder',\n",
              "       'portuguez', 'preciosos', 'quiero', 'un'], dtype=object)"
            ]
          },
          "execution_count": 12,
          "metadata": {},
          "output_type": "execute_result"
        }
      ],
      "source": [
        "obj.get_feature_names_out()"
      ]
    },
    {
      "cell_type": "code",
      "execution_count": null,
      "metadata": {
        "colab": {
          "base_uri": "https://localhost:8080/",
          "height": 35
        },
        "id": "sHKlBftkU_4D",
        "outputId": "bc4a02d4-4198-42df-de36-c4b52303b5c0"
      },
      "outputs": [
        {
          "data": {
            "application/vnd.google.colaboratory.intrinsic+json": {
              "type": "string"
            },
            "text/plain": [
              "'Pedro Perez Pereira, pobre pintor portuguez, pinta preciosos paisajes para poder partir para Paris.'"
            ]
          },
          "execution_count": 13,
          "metadata": {},
          "output_type": "execute_result"
        }
      ],
      "source": [
        "txt1"
      ]
    },
    {
      "cell_type": "markdown",
      "metadata": {
        "id": "6loGDDKUuJJC"
      },
      "source": [
        "## n-grams"
      ]
    },
    {
      "cell_type": "code",
      "execution_count": null,
      "metadata": {
        "colab": {
          "base_uri": "https://localhost:8080/"
        },
        "id": "O0_gkLdauMEi",
        "outputId": "c940713f-fb0e-4768-afcf-3726d20269be"
      },
      "outputs": [
        {
          "data": {
            "text/plain": [
              "array([[0, 0, 0, 0, 0, 0, 0, 0, 0, 0, 0, 0, 0, 0, 0, 0, 0, 0, 0, 0, 0, 0,\n",
              "        0, 0, 0, 0, 0, 0, 0, 0, 0, 1, 1, 2, 1, 1, 1, 1, 0, 1, 1, 1, 1, 1,\n",
              "        1, 1, 0, 0, 1, 1, 1, 1, 1, 1, 1, 0, 1, 1, 1, 1, 0, 1, 0, 0, 0, 0,\n",
              "        0],\n",
              "       [0, 1, 1, 1, 1, 0, 0, 1, 1, 0, 1, 1, 0, 0, 1, 1, 1, 1, 0, 0, 1, 1,\n",
              "        1, 0, 1, 0, 1, 0, 0, 0, 0, 0, 0, 1, 0, 1, 0, 1, 1, 0, 0, 0, 0, 0,\n",
              "        0, 0, 1, 1, 0, 0, 0, 0, 0, 0, 1, 1, 0, 0, 0, 1, 1, 0, 1, 0, 1, 0,\n",
              "        0],\n",
              "       [1, 0, 0, 0, 0, 1, 1, 1, 0, 1, 0, 0, 1, 1, 0, 0, 0, 0, 1, 1, 0, 0,\n",
              "        1, 1, 1, 1, 0, 1, 1, 1, 1, 0, 0, 0, 0, 0, 0, 0, 0, 0, 0, 0, 0, 0,\n",
              "        0, 0, 0, 0, 0, 0, 0, 0, 0, 0, 0, 0, 0, 0, 0, 0, 0, 0, 1, 1, 0, 1,\n",
              "        1]])"
            ]
          },
          "execution_count": 14,
          "metadata": {},
          "output_type": "execute_result"
        }
      ],
      "source": [
        "obj=CountVectorizer(ngram_range=(1,2))\n",
        "m=obj.fit_transform([txt1,txt2,txt3])\n",
        "m.toarray()"
      ]
    },
    {
      "cell_type": "code",
      "execution_count": null,
      "metadata": {
        "colab": {
          "base_uri": "https://localhost:8080/"
        },
        "id": "qbS6e1WFWLIb",
        "outputId": "de3d7bdd-d559-4e4d-f7e7-6786b2284a04"
      },
      "outputs": [
        {
          "data": {
            "text/plain": [
              "array(['acordarme', 'algun', 'algun lugar', 'con', 'con mancha', 'cuyo',\n",
              "       'cuyo nombre', 'de', 'de izquierda', 'de la', 'derecha',\n",
              "       'derecha para', 'en', 'en un', 'gatos', 'gatos perros',\n",
              "       'izquierda', 'izquierda derecha', 'la', 'la mancha', 'llegar',\n",
              "       'llegar algun', 'lugar', 'lugar de', 'mancha', 'mancha cuyo',\n",
              "       'mancha quiero', 'no', 'no quiero', 'nombre', 'nombre no',\n",
              "       'paisajes', 'paisajes para', 'para', 'para paris', 'para poder',\n",
              "       'paris', 'partir', 'partir de', 'partir para', 'pedro',\n",
              "       'pedro perez', 'pereira', 'pereira pobre', 'perez',\n",
              "       'perez pereira', 'perros', 'perros con', 'pinta',\n",
              "       'pinta preciosos', 'pintor', 'pintor portuguez', 'pobre',\n",
              "       'pobre pintor', 'poder', 'poder llegar', 'poder partir',\n",
              "       'portuguez', 'portuguez pinta', 'preciosos', 'preciosos gatos',\n",
              "       'preciosos paisajes', 'quiero', 'quiero acordarme',\n",
              "       'quiero partir', 'un', 'un lugar'], dtype=object)"
            ]
          },
          "execution_count": 15,
          "metadata": {},
          "output_type": "execute_result"
        }
      ],
      "source": [
        "obj.get_feature_names_out()"
      ]
    }
  ],
  "metadata": {
    "colab": {
      "provenance": []
    },
    "kernelspec": {
      "display_name": "Python 3",
      "name": "python3"
    },
    "language_info": {
      "codemirror_mode": {
        "name": "ipython",
        "version": 3
      },
      "file_extension": ".py",
      "mimetype": "text/x-python",
      "name": "python",
      "nbconvert_exporter": "python",
      "pygments_lexer": "ipython3",
      "version": "3.10.6"
    }
  },
  "nbformat": 4,
  "nbformat_minor": 0
}
