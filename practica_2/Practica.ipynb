{
 "cells": [
  {
   "attachments": {},
   "cell_type": "markdown",
   "metadata": {},
   "source": [
    "# Práctica - Segundo parcial"
   ]
  },
  {
   "attachments": {},
   "cell_type": "markdown",
   "metadata": {},
   "source": [
    "Alejandro Noel Hernández Gutiérrez\n",
    "\n",
    "Ingeniería de características\n",
    "\n",
    "Docente Carlos Augusto Arellano Muro\n",
    "\n",
    "Instituto tecnológico y de estudios superiores de occidente"
   ]
  },
  {
   "attachments": {},
   "cell_type": "markdown",
   "metadata": {},
   "source": [
    "En el siguiete archivo practica2.xlsx, se muestran evaluaciones de una biblioteca en España, el objetivo es encontrar una relación entre las evaluaciones específicas (Estado del material, Organización, Trato, etc.) y la Valoración Global.\n",
    "1. Elimine las observaciones que no tengan un dato en VALORACION GLOBAL\n",
    "2. Codifique la variable '<5 CAUSA'\n",
    "3. Evalúe las variables con una transformación de potencia para compensar el sesgo lo mejor posible\n",
    "4. Impute los valores faltantes por media, mediana, valores aleatorios o moda, según convenga\n",
    "5. Encuentre un modelo que relacione las evaluaciones específicas junto con la variable codificada de '<5 CAUSA' con el target VALORACION GLOBAL (El modelo recomendado es Árboles de decisión sklearn.tree.DecisionTreeRegresor)"
   ]
  },
  {
   "cell_type": "code",
   "execution_count": 2,
   "metadata": {},
   "outputs": [],
   "source": [
    "# Librerías\n",
    "import pandas as pd"
   ]
  },
  {
   "cell_type": "code",
   "execution_count": 9,
   "metadata": {},
   "outputs": [
    {
     "name": "stdout",
     "output_type": "stream",
     "text": [
      "<class 'pandas.core.frame.DataFrame'>\n",
      "RangeIndex: 1112 entries, 0 to 1111\n",
      "Data columns (total 12 columns):\n",
      " #   Column                Non-Null Count  Dtype \n",
      "---  ------                --------------  ----- \n",
      " 0   ADECUACIÓN COLECCIÓN  985 non-null    object\n",
      " 1   ESTADO MATERIAL       1019 non-null   object\n",
      " 2   ORGANIZACIÓN          1010 non-null   object\n",
      " 3   ORDENACIÓN            1011 non-null   object\n",
      " 4   TRATO                 1079 non-null   object\n",
      " 5   INFORMACIÓN.1         937 non-null    object\n",
      " 6   HORARIO               1030 non-null   object\n",
      " 7   WIFI.1                578 non-null    object\n",
      " 8   ESTADO                1073 non-null   object\n",
      " 9   LIMPIEZA              1084 non-null   object\n",
      " 10  <5 CAUSA              203 non-null    object\n",
      " 11  VALORACION GLOBAL     1097 non-null   object\n",
      "dtypes: object(12)\n",
      "memory usage: 104.4+ KB\n"
     ]
    }
   ],
   "source": [
    "# Lectura de archivo\n",
    "excel = pd.read_excel(\"practica2.xlsx\")\n",
    "excel.info()"
   ]
  },
  {
   "cell_type": "code",
   "execution_count": 11,
   "metadata": {},
   "outputs": [
    {
     "name": "stdout",
     "output_type": "stream",
     "text": [
      "<class 'pandas.core.frame.DataFrame'>\n",
      "Int64Index: 1097 entries, 0 to 1111\n",
      "Data columns (total 12 columns):\n",
      " #   Column                Non-Null Count  Dtype \n",
      "---  ------                --------------  ----- \n",
      " 0   ADECUACIÓN COLECCIÓN  979 non-null    object\n",
      " 1   ESTADO MATERIAL       1013 non-null   object\n",
      " 2   ORGANIZACIÓN          1004 non-null   object\n",
      " 3   ORDENACIÓN            1005 non-null   object\n",
      " 4   TRATO                 1072 non-null   object\n",
      " 5   INFORMACIÓN.1         933 non-null    object\n",
      " 6   HORARIO               1025 non-null   object\n",
      " 7   WIFI.1                575 non-null    object\n",
      " 8   ESTADO                1069 non-null   object\n",
      " 9   LIMPIEZA              1079 non-null   object\n",
      " 10  <5 CAUSA              203 non-null    object\n",
      " 11  VALORACION GLOBAL     1097 non-null   object\n",
      "dtypes: object(12)\n",
      "memory usage: 111.4+ KB\n"
     ]
    }
   ],
   "source": [
    "# Elimine las observaciones que no tengan un dato en VALORACION GLOBAL\n",
    "excel = excel.dropna(subset=['VALORACION GLOBAL'])\n",
    "excel.info()"
   ]
  },
  {
   "cell_type": "code",
   "execution_count": 20,
   "metadata": {},
   "outputs": [
    {
     "data": {
      "text/plain": [
       "False"
      ]
     },
     "execution_count": 20,
     "metadata": {},
     "output_type": "execute_result"
    }
   ],
   "source": [
    "# Observamos que ya no existen valores null para la columna valoración global\n",
    "excel['VALORACION GLOBAL'].isnull().values.any()"
   ]
  },
  {
   "cell_type": "code",
   "execution_count": null,
   "metadata": {},
   "outputs": [],
   "source": [
    "# Codifique la variable '<5 CAUSA'  \n",
    "# Codificación por el valor que escogiste\n",
    "# Top words, kmeans\n"
   ]
  }
 ],
 "metadata": {
  "kernelspec": {
   "display_name": "Python 3",
   "language": "python",
   "name": "python3"
  },
  "language_info": {
   "codemirror_mode": {
    "name": "ipython",
    "version": 3
   },
   "file_extension": ".py",
   "mimetype": "text/x-python",
   "name": "python",
   "nbconvert_exporter": "python",
   "pygments_lexer": "ipython3",
   "version": "3.11.2"
  },
  "orig_nbformat": 4
 },
 "nbformat": 4,
 "nbformat_minor": 2
}
