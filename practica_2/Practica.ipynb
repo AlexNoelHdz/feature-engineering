{
 "cells": [
  {
   "attachments": {},
   "cell_type": "markdown",
   "metadata": {},
   "source": [
    "# Práctica - Segundo parcial"
   ]
  },
  {
   "attachments": {},
   "cell_type": "markdown",
   "metadata": {},
   "source": [
    "Alejandro Noel Hernández Gutiérrez\n",
    "\n",
    "Ingeniería de características\n",
    "\n",
    "Docente Carlos Augusto Arellano Muro\n",
    "\n",
    "Instituto tecnológico y de estudios superiores de occidente"
   ]
  },
  {
   "attachments": {},
   "cell_type": "markdown",
   "metadata": {},
   "source": [
    "En el siguiete archivo practica2.xlsx, se muestran evaluaciones de una biblioteca en España, el objetivo es encontrar una relación entre las evaluaciones específicas (Estado del material, Organización, Trato, etc.) y la Valoración Global.\n",
    "1. Elimine las observaciones que no tengan un dato en VALORACION GLOBAL\n",
    "2. Codifique la variable '<5 CAUSA'\n",
    "3. Evalúe las variables con una transformación de potencia para compensar el sesgo lo mejor posible\n",
    "4. Impute los valores faltantes por media, mediana, valores aleatorios o moda, según convenga\n",
    "5. Encuentre un modelo que relacione las evaluaciones específicas junto con la variable codificada de '<5 CAUSA' con el target VALORACION GLOBAL (El modelo recomendado es Árboles de decisión sklearn.tree.DecisionTreeRegresor)"
   ]
  },
  {
   "cell_type": "code",
   "execution_count": 70,
   "metadata": {},
   "outputs": [],
   "source": [
    "# Librerías\n",
    "import pandas as pd\n",
    "import numpy as np\n",
    "from sklearn.feature_extraction.text import HashingVectorizer\n",
    "from sklearn.preprocessing import PowerTransformer\n",
    "from sklearn.impute import SimpleImputer\n",
    "from sklearn.tree import DecisionTreeRegressor"
   ]
  },
  {
   "cell_type": "code",
   "execution_count": 74,
   "metadata": {},
   "outputs": [
    {
     "name": "stdout",
     "output_type": "stream",
     "text": [
      "<class 'pandas.core.frame.DataFrame'>\n",
      "RangeIndex: 1112 entries, 0 to 1111\n",
      "Data columns (total 12 columns):\n",
      " #   Column                Non-Null Count  Dtype \n",
      "---  ------                --------------  ----- \n",
      " 0   ADECUACIÓN COLECCIÓN  985 non-null    object\n",
      " 1   ESTADO MATERIAL       1019 non-null   object\n",
      " 2   ORGANIZACIÓN          1010 non-null   object\n",
      " 3   ORDENACIÓN            1011 non-null   object\n",
      " 4   TRATO                 1079 non-null   object\n",
      " 5   INFORMACIÓN.1         937 non-null    object\n",
      " 6   HORARIO               1030 non-null   object\n",
      " 7   WIFI.1                578 non-null    object\n",
      " 8   ESTADO                1073 non-null   object\n",
      " 9   LIMPIEZA              1084 non-null   object\n",
      " 10  <5 CAUSA              203 non-null    object\n",
      " 11  VALORACION GLOBAL     1097 non-null   object\n",
      "dtypes: object(12)\n",
      "memory usage: 104.4+ KB\n"
     ]
    }
   ],
   "source": [
    "# Lectura de archivo\n",
    "excel = pd.read_excel(\"practica2.xlsx\")\n",
    "excel.info()"
   ]
  },
  {
   "cell_type": "code",
   "execution_count": 75,
   "metadata": {},
   "outputs": [
    {
     "name": "stdout",
     "output_type": "stream",
     "text": [
      "<class 'pandas.core.frame.DataFrame'>\n",
      "Int64Index: 1097 entries, 0 to 1111\n",
      "Data columns (total 12 columns):\n",
      " #   Column                Non-Null Count  Dtype \n",
      "---  ------                --------------  ----- \n",
      " 0   ADECUACIÓN COLECCIÓN  979 non-null    object\n",
      " 1   ESTADO MATERIAL       1013 non-null   object\n",
      " 2   ORGANIZACIÓN          1004 non-null   object\n",
      " 3   ORDENACIÓN            1005 non-null   object\n",
      " 4   TRATO                 1072 non-null   object\n",
      " 5   INFORMACIÓN.1         933 non-null    object\n",
      " 6   HORARIO               1025 non-null   object\n",
      " 7   WIFI.1                575 non-null    object\n",
      " 8   ESTADO                1069 non-null   object\n",
      " 9   LIMPIEZA              1079 non-null   object\n",
      " 10  <5 CAUSA              203 non-null    object\n",
      " 11  VALORACION GLOBAL     1097 non-null   object\n",
      "dtypes: object(12)\n",
      "memory usage: 111.4+ KB\n"
     ]
    }
   ],
   "source": [
    "# Elimine las observaciones que no tengan un dato en VALORACION GLOBAL\n",
    "excel = excel.dropna(subset=['VALORACION GLOBAL'])\n",
    "excel.info()"
   ]
  },
  {
   "cell_type": "code",
   "execution_count": 76,
   "metadata": {},
   "outputs": [
    {
     "data": {
      "text/plain": [
       "False"
      ]
     },
     "execution_count": 76,
     "metadata": {},
     "output_type": "execute_result"
    }
   ],
   "source": [
    "# Observamos que ya no existen valores null para la columna valoración global\n",
    "excel['VALORACION GLOBAL'].isnull().values.any()"
   ]
  },
  {
   "cell_type": "code",
   "execution_count": 77,
   "metadata": {},
   "outputs": [
    {
     "data": {
      "text/html": [
       "<div>\n",
       "<style scoped>\n",
       "    .dataframe tbody tr th:only-of-type {\n",
       "        vertical-align: middle;\n",
       "    }\n",
       "\n",
       "    .dataframe tbody tr th {\n",
       "        vertical-align: top;\n",
       "    }\n",
       "\n",
       "    .dataframe thead th {\n",
       "        text-align: right;\n",
       "    }\n",
       "</style>\n",
       "<table border=\"1\" class=\"dataframe\">\n",
       "  <thead>\n",
       "    <tr style=\"text-align: right;\">\n",
       "      <th></th>\n",
       "      <th>ADECUACIÓN COLECCIÓN</th>\n",
       "      <th>ESTADO MATERIAL</th>\n",
       "      <th>ORGANIZACIÓN</th>\n",
       "      <th>ORDENACIÓN</th>\n",
       "      <th>TRATO</th>\n",
       "      <th>INFORMACIÓN.1</th>\n",
       "      <th>HORARIO</th>\n",
       "      <th>WIFI.1</th>\n",
       "      <th>ESTADO</th>\n",
       "      <th>LIMPIEZA</th>\n",
       "      <th>&lt;5 CAUSA</th>\n",
       "      <th>VALORACION GLOBAL</th>\n",
       "    </tr>\n",
       "  </thead>\n",
       "  <tbody>\n",
       "    <tr>\n",
       "      <th>count</th>\n",
       "      <td>979</td>\n",
       "      <td>1013</td>\n",
       "      <td>1004</td>\n",
       "      <td>1005</td>\n",
       "      <td>1072</td>\n",
       "      <td>933</td>\n",
       "      <td>1025</td>\n",
       "      <td>575</td>\n",
       "      <td>1069</td>\n",
       "      <td>1079</td>\n",
       "      <td>203</td>\n",
       "      <td>1097</td>\n",
       "    </tr>\n",
       "    <tr>\n",
       "      <th>unique</th>\n",
       "      <td>13</td>\n",
       "      <td>13</td>\n",
       "      <td>13</td>\n",
       "      <td>13</td>\n",
       "      <td>14</td>\n",
       "      <td>13</td>\n",
       "      <td>12</td>\n",
       "      <td>13</td>\n",
       "      <td>13</td>\n",
       "      <td>12</td>\n",
       "      <td>201</td>\n",
       "      <td>13</td>\n",
       "    </tr>\n",
       "    <tr>\n",
       "      <th>top</th>\n",
       "      <td>8</td>\n",
       "      <td>8</td>\n",
       "      <td>10</td>\n",
       "      <td>10</td>\n",
       "      <td>10</td>\n",
       "      <td>10</td>\n",
       "      <td>10</td>\n",
       "      <td>No uso</td>\n",
       "      <td>10</td>\n",
       "      <td>10</td>\n",
       "      <td>10</td>\n",
       "      <td>9</td>\n",
       "    </tr>\n",
       "    <tr>\n",
       "      <th>freq</th>\n",
       "      <td>248</td>\n",
       "      <td>247</td>\n",
       "      <td>285</td>\n",
       "      <td>312</td>\n",
       "      <td>637</td>\n",
       "      <td>315</td>\n",
       "      <td>303</td>\n",
       "      <td>97</td>\n",
       "      <td>314</td>\n",
       "      <td>457</td>\n",
       "      <td>3</td>\n",
       "      <td>370</td>\n",
       "    </tr>\n",
       "  </tbody>\n",
       "</table>\n",
       "</div>"
      ],
      "text/plain": [
       "        ADECUACIÓN COLECCIÓN  ESTADO MATERIAL  ORGANIZACIÓN  ORDENACIÓN  \\\n",
       "count                    979             1013          1004        1005   \n",
       "unique                    13               13            13          13   \n",
       "top                        8                8            10          10   \n",
       "freq                     248              247           285         312   \n",
       "\n",
       "        TRATO  INFORMACIÓN.1  HORARIO  WIFI.1  ESTADO  LIMPIEZA  <5 CAUSA  \\\n",
       "count    1072            933     1025     575    1069      1079       203   \n",
       "unique     14             13       12      13      13        12       201   \n",
       "top        10             10       10  No uso      10        10        10   \n",
       "freq      637            315      303      97     314       457         3   \n",
       "\n",
       "        VALORACION GLOBAL  \n",
       "count                1097  \n",
       "unique                 13  \n",
       "top                     9  \n",
       "freq                  370  "
      ]
     },
     "execution_count": 77,
     "metadata": {},
     "output_type": "execute_result"
    }
   ],
   "source": [
    "excel.describe()"
   ]
  },
  {
   "cell_type": "code",
   "execution_count": 78,
   "metadata": {},
   "outputs": [
    {
     "ename": "KeyError",
     "evalue": "'<5 CAUSA '",
     "output_type": "error",
     "traceback": [
      "\u001b[1;31m---------------------------------------------------------------------------\u001b[0m",
      "\u001b[1;31mKeyError\u001b[0m                                  Traceback (most recent call last)",
      "File \u001b[1;32mc:\\Users\\anhernan\\AppData\\Local\\Programs\\Python\\Python311\\Lib\\site-packages\\pandas\\core\\indexes\\base.py:3802\u001b[0m, in \u001b[0;36mIndex.get_loc\u001b[1;34m(self, key, method, tolerance)\u001b[0m\n\u001b[0;32m   3801\u001b[0m \u001b[39mtry\u001b[39;00m:\n\u001b[1;32m-> 3802\u001b[0m     \u001b[39mreturn\u001b[39;00m \u001b[39mself\u001b[39;49m\u001b[39m.\u001b[39;49m_engine\u001b[39m.\u001b[39;49mget_loc(casted_key)\n\u001b[0;32m   3803\u001b[0m \u001b[39mexcept\u001b[39;00m \u001b[39mKeyError\u001b[39;00m \u001b[39mas\u001b[39;00m err:\n",
      "File \u001b[1;32mc:\\Users\\anhernan\\AppData\\Local\\Programs\\Python\\Python311\\Lib\\site-packages\\pandas\\_libs\\index.pyx:138\u001b[0m, in \u001b[0;36mpandas._libs.index.IndexEngine.get_loc\u001b[1;34m()\u001b[0m\n",
      "File \u001b[1;32mc:\\Users\\anhernan\\AppData\\Local\\Programs\\Python\\Python311\\Lib\\site-packages\\pandas\\_libs\\index.pyx:165\u001b[0m, in \u001b[0;36mpandas._libs.index.IndexEngine.get_loc\u001b[1;34m()\u001b[0m\n",
      "File \u001b[1;32mpandas\\_libs\\hashtable_class_helper.pxi:5745\u001b[0m, in \u001b[0;36mpandas._libs.hashtable.PyObjectHashTable.get_item\u001b[1;34m()\u001b[0m\n",
      "File \u001b[1;32mpandas\\_libs\\hashtable_class_helper.pxi:5753\u001b[0m, in \u001b[0;36mpandas._libs.hashtable.PyObjectHashTable.get_item\u001b[1;34m()\u001b[0m\n",
      "\u001b[1;31mKeyError\u001b[0m: '<5 CAUSA '",
      "\nThe above exception was the direct cause of the following exception:\n",
      "\u001b[1;31mKeyError\u001b[0m                                  Traceback (most recent call last)",
      "Cell \u001b[1;32mIn[78], line 3\u001b[0m\n\u001b[0;32m      1\u001b[0m \u001b[39m# codificar la variable '<5 CAUSA ' usando Feature hashing\u001b[39;00m\n\u001b[0;32m      2\u001b[0m vectorizer \u001b[39m=\u001b[39m HashingVectorizer(n_features\u001b[39m=\u001b[39m\u001b[39m100\u001b[39m)\n\u001b[1;32m----> 3\u001b[0m text_matrix \u001b[39m=\u001b[39m vectorizer\u001b[39m.\u001b[39mfit_transform(excel[\u001b[39m'\u001b[39;49m\u001b[39m<5 CAUSA \u001b[39;49m\u001b[39m'\u001b[39;49m])\u001b[39m.\u001b[39mtoarray()\n",
      "File \u001b[1;32mc:\\Users\\anhernan\\AppData\\Local\\Programs\\Python\\Python311\\Lib\\site-packages\\pandas\\core\\frame.py:3807\u001b[0m, in \u001b[0;36mDataFrame.__getitem__\u001b[1;34m(self, key)\u001b[0m\n\u001b[0;32m   3805\u001b[0m \u001b[39mif\u001b[39;00m \u001b[39mself\u001b[39m\u001b[39m.\u001b[39mcolumns\u001b[39m.\u001b[39mnlevels \u001b[39m>\u001b[39m \u001b[39m1\u001b[39m:\n\u001b[0;32m   3806\u001b[0m     \u001b[39mreturn\u001b[39;00m \u001b[39mself\u001b[39m\u001b[39m.\u001b[39m_getitem_multilevel(key)\n\u001b[1;32m-> 3807\u001b[0m indexer \u001b[39m=\u001b[39m \u001b[39mself\u001b[39;49m\u001b[39m.\u001b[39;49mcolumns\u001b[39m.\u001b[39;49mget_loc(key)\n\u001b[0;32m   3808\u001b[0m \u001b[39mif\u001b[39;00m is_integer(indexer):\n\u001b[0;32m   3809\u001b[0m     indexer \u001b[39m=\u001b[39m [indexer]\n",
      "File \u001b[1;32mc:\\Users\\anhernan\\AppData\\Local\\Programs\\Python\\Python311\\Lib\\site-packages\\pandas\\core\\indexes\\base.py:3804\u001b[0m, in \u001b[0;36mIndex.get_loc\u001b[1;34m(self, key, method, tolerance)\u001b[0m\n\u001b[0;32m   3802\u001b[0m     \u001b[39mreturn\u001b[39;00m \u001b[39mself\u001b[39m\u001b[39m.\u001b[39m_engine\u001b[39m.\u001b[39mget_loc(casted_key)\n\u001b[0;32m   3803\u001b[0m \u001b[39mexcept\u001b[39;00m \u001b[39mKeyError\u001b[39;00m \u001b[39mas\u001b[39;00m err:\n\u001b[1;32m-> 3804\u001b[0m     \u001b[39mraise\u001b[39;00m \u001b[39mKeyError\u001b[39;00m(key) \u001b[39mfrom\u001b[39;00m \u001b[39merr\u001b[39;00m\n\u001b[0;32m   3805\u001b[0m \u001b[39mexcept\u001b[39;00m \u001b[39mTypeError\u001b[39;00m:\n\u001b[0;32m   3806\u001b[0m     \u001b[39m# If we have a listlike key, _check_indexing_error will raise\u001b[39;00m\n\u001b[0;32m   3807\u001b[0m     \u001b[39m#  InvalidIndexError. Otherwise we fall through and re-raise\u001b[39;00m\n\u001b[0;32m   3808\u001b[0m     \u001b[39m#  the TypeError.\u001b[39;00m\n\u001b[0;32m   3809\u001b[0m     \u001b[39mself\u001b[39m\u001b[39m.\u001b[39m_check_indexing_error(key)\n",
      "\u001b[1;31mKeyError\u001b[0m: '<5 CAUSA '"
     ]
    }
   ],
   "source": [
    "# codificar la variable '<5 CAUSA ' usando Feature hashing\n",
    "vectorizer = HashingVectorizer(n_features=100)\n",
    "text_matrix = vectorizer.fit_transform(excel['<5 CAUSA ']).toarray()"
   ]
  },
  {
   "attachments": {},
   "cell_type": "markdown",
   "metadata": {},
   "source": [
    "# Codifique la variable '<5 CAUSA'  \n",
    "Codificación por el valor que escogiste\n",
    "Podría ser Top words, kmeans"
   ]
  },
  {
   "cell_type": "code",
   "execution_count": 21,
   "metadata": {},
   "outputs": [
    {
     "data": {
      "text/plain": [
       "894"
      ]
     },
     "execution_count": 21,
     "metadata": {},
     "output_type": "execute_result"
    }
   ],
   "source": [
    "# Sustituir nan values for option other\n",
    "excel['<5 CAUSA'].isna().sum()\n",
    "# 893 de 1097 valores son NA"
   ]
  },
  {
   "cell_type": "code",
   "execution_count": 26,
   "metadata": {},
   "outputs": [],
   "source": [
    "# Rellenamos los NaN values con causa desconocida o Otra\n",
    "excel['<5 CAUSA'] = excel['<5 CAUSA'].fillna('Otra')"
   ]
  },
  {
   "cell_type": "code",
   "execution_count": 27,
   "metadata": {},
   "outputs": [
    {
     "data": {
      "text/plain": [
       "0"
      ]
     },
     "execution_count": 27,
     "metadata": {},
     "output_type": "execute_result"
    }
   ],
   "source": [
    "# No más NA:\n",
    "excel['<5 CAUSA'].isna().sum()"
   ]
  },
  {
   "cell_type": "code",
   "execution_count": 38,
   "metadata": {},
   "outputs": [
    {
     "data": {
      "text/plain": [
       "8"
      ]
     },
     "execution_count": 38,
     "metadata": {},
     "output_type": "execute_result"
    }
   ],
   "source": [
    "# En la exploración se encuentran valores extraños, posiblemente equivocación de los usuarios: [7, 9 , 10, Na, no, U], reemplazamos por 'Sin información'\n",
    "excel['<5 CAUSA'].isin([7, 9 , 10,'Na' , 'no', 'U']).sum()"
   ]
  },
  {
   "cell_type": "code",
   "execution_count": 40,
   "metadata": {},
   "outputs": [],
   "source": [
    "# [7, 9 , 10, Na, no, U], reemplazamos por 'Sin información'\n",
    "excel=excel.mask(excel['<5 CAUSA'].isin([7, 9 , 10,'Na' , 'no', 'U']), 'Sin información')"
   ]
  },
  {
   "cell_type": "code",
   "execution_count": 42,
   "metadata": {},
   "outputs": [
    {
     "data": {
      "text/plain": [
       "0"
      ]
     },
     "execution_count": 42,
     "metadata": {},
     "output_type": "execute_result"
    }
   ],
   "source": [
    "# Contar para asegurar que esos valores ya son 0\n",
    "excel['<5 CAUSA'].isin([7, 9 , 10,'Na' , 'no', 'U']).sum()"
   ]
  },
  {
   "cell_type": "code",
   "execution_count": 46,
   "metadata": {},
   "outputs": [
    {
     "data": {
      "text/plain": [
       "<1097x1016 sparse matrix of type '<class 'numpy.int64'>'\n",
       "\twith 3839 stored elements in Compressed Sparse Row format>"
      ]
     },
     "execution_count": 46,
     "metadata": {},
     "output_type": "execute_result"
    }
   ],
   "source": [
    "# crear matriz BoW\n",
    "vectorizer = CountVectorizer()\n",
    "bow_matrix = vectorizer.fit_transform(excel['<5 CAUSA'])\n",
    "bow_matrix"
   ]
  },
  {
   "cell_type": "code",
   "execution_count": 60,
   "metadata": {},
   "outputs": [
    {
     "data": {
      "text/html": [
       "<div>\n",
       "<style scoped>\n",
       "    .dataframe tbody tr th:only-of-type {\n",
       "        vertical-align: middle;\n",
       "    }\n",
       "\n",
       "    .dataframe tbody tr th {\n",
       "        vertical-align: top;\n",
       "    }\n",
       "\n",
       "    .dataframe thead th {\n",
       "        text-align: right;\n",
       "    }\n",
       "</style>\n",
       "<table border=\"1\" class=\"dataframe\">\n",
       "  <thead>\n",
       "    <tr style=\"text-align: right;\">\n",
       "      <th></th>\n",
       "      <th>word</th>\n",
       "      <th>count</th>\n",
       "    </tr>\n",
       "  </thead>\n",
       "  <tbody>\n",
       "    <tr>\n",
       "      <th>655</th>\n",
       "      <td>otra</td>\n",
       "      <td>897</td>\n",
       "    </tr>\n",
       "    <tr>\n",
       "      <th>234</th>\n",
       "      <td>de</td>\n",
       "      <td>184</td>\n",
       "    </tr>\n",
       "    <tr>\n",
       "      <th>497</th>\n",
       "      <td>la</td>\n",
       "      <td>154</td>\n",
       "    </tr>\n",
       "    <tr>\n",
       "      <th>316</th>\n",
       "      <td>en</td>\n",
       "      <td>123</td>\n",
       "    </tr>\n",
       "    <tr>\n",
       "      <th>622</th>\n",
       "      <td>no</td>\n",
       "      <td>108</td>\n",
       "    </tr>\n",
       "    <tr>\n",
       "      <th>...</th>\n",
       "      <td>...</td>\n",
       "      <td>...</td>\n",
       "    </tr>\n",
       "    <tr>\n",
       "      <th>396</th>\n",
       "      <td>finales</td>\n",
       "      <td>1</td>\n",
       "    </tr>\n",
       "    <tr>\n",
       "      <th>397</th>\n",
       "      <td>fines</td>\n",
       "      <td>1</td>\n",
       "    </tr>\n",
       "    <tr>\n",
       "      <th>398</th>\n",
       "      <td>fluorescentes</td>\n",
       "      <td>1</td>\n",
       "    </tr>\n",
       "    <tr>\n",
       "      <th>399</th>\n",
       "      <td>fondo</td>\n",
       "      <td>1</td>\n",
       "    </tr>\n",
       "    <tr>\n",
       "      <th>1015</th>\n",
       "      <td>época</td>\n",
       "      <td>1</td>\n",
       "    </tr>\n",
       "  </tbody>\n",
       "</table>\n",
       "<p>1016 rows × 2 columns</p>\n",
       "</div>"
      ],
      "text/plain": [
       "               word  count\n",
       "655            otra    897\n",
       "234              de    184\n",
       "497              la    154\n",
       "316              en    123\n",
       "622              no    108\n",
       "...             ...    ...\n",
       "396         finales      1\n",
       "397           fines      1\n",
       "398   fluorescentes      1\n",
       "399           fondo      1\n",
       "1015          época      1\n",
       "\n",
       "[1016 rows x 2 columns]"
      ]
     },
     "execution_count": 60,
     "metadata": {},
     "output_type": "execute_result"
    }
   ],
   "source": [
    "# Calcular las frecuencias de las palabras en el corpus\n",
    "frecuencias = np.array(np.sum(bow_matrix, axis=0))[0]\n",
    "word_count = pd.DataFrame({'word':vectorizer.get_feature_names_out(), 'count':frecuencias})\n",
    "word_count_sorted = word_count.sort_values('count', ascending=False)\n",
    "word_count_sorted"
   ]
  },
  {
   "attachments": {},
   "cell_type": "markdown",
   "metadata": {},
   "source": [
    "## Después de visualizar el dataframe de las palabras más repetidas, se escogen de entre ellas sustantivos o adjetivos que puedan indicar causa de inconformidad\n",
    "# Manualmente se estiman unos 6 grupos de categorías (un enter por cada grupo)\n",
    "\n",
    "### Alta temperatura, o temperatura en general:\n",
    "- calor\n",
    "- calefacción\n",
    "- acondicionado\n",
    "- temperatura\n",
    "- climatización\n",
    "\n",
    "### Baja temperatura:\n",
    "- frío\n",
    "- refrigeración\n",
    "\n",
    "### Iluminación o luz:\n",
    "- luz\n",
    "- iluminación\n",
    "\n",
    "### Ventilación o covid\n",
    "- covid\n",
    "- ventanas\n",
    "- ventilación\n",
    "\n",
    "### Fallas en el servicio\n",
    "- wifi\n",
    "- servicio\n",
    "- préstamo\n",
    "- tiempo\n",
    "- tarde\n",
    "- espacio\n",
    "- personal\n",
    "\n",
    "### Equipamiento\n",
    "- enchufes\n",
    "- intercentros\n",
    "- ordenadores\n",
    "- ascensor\n",
    "\n",
    "### Todo lo demás se irá a 0\n",
    "- información\n",
    "- otros\n",
    "\n"
   ]
  },
  {
   "cell_type": "code",
   "execution_count": 62,
   "metadata": {},
   "outputs": [
    {
     "data": {
      "text/plain": [
       "['calor',\n",
       " 'calefacción',\n",
       " 'acondicionado',\n",
       " 'temperatura',\n",
       " 'climatización',\n",
       " 'frío',\n",
       " 'refrigeración',\n",
       " 'luz',\n",
       " 'iluminación',\n",
       " 'covid',\n",
       " 'ventanas',\n",
       " 'ventilación',\n",
       " 'wifi',\n",
       " 'servicio',\n",
       " 'préstamo',\n",
       " 'tiempo',\n",
       " 'tarde',\n",
       " 'espacio',\n",
       " 'personal',\n",
       " 'enchufes',\n",
       " 'intercentros',\n",
       " 'ordenadores',\n",
       " 'ascensor']"
      ]
     },
     "execution_count": 62,
     "metadata": {},
     "output_type": "execute_result"
    }
   ],
   "source": [
    "# Ordenar las palabras por frecuencia y seleccionar las palabras más repetidas como nuevas categorías\n",
    "new_categories = ['calor','calefacción','acondicionado','temperatura','climatización','frío','refrigeración','luz','iluminación','covid','ventanas','ventilación','wifi','servicio','préstamo','tiempo','tarde','espacio','personal','enchufes','intercentros','ordenadores','ascensor']\n",
    "new_categories"
   ]
  },
  {
   "cell_type": "code",
   "execution_count": 64,
   "metadata": {},
   "outputs": [
    {
     "data": {
      "text/plain": [
       "array([0., 0., 0., 0., 0., 0., 0., 0., 0., 0., 0., 0., 0., 0., 0., 0., 0.,\n",
       "       0., 0., 0., 0., 0., 0.])"
      ]
     },
     "execution_count": 64,
     "metadata": {},
     "output_type": "execute_result"
    }
   ],
   "source": [
    "# Crear una matriz de características binarias indicando la presencia o ausencia de las palabras más repetidas\n",
    "# La dimensión \n",
    "new_feature_matrix = np.zeros((len(excel), new_categories.__len__()))\n",
    "# cada array tiene 23 ceros\n",
    "new_feature_matrix[0]"
   ]
  },
  {
   "cell_type": "code",
   "execution_count": 69,
   "metadata": {},
   "outputs": [
    {
     "data": {
      "text/plain": [
       "array([[0., 0., 0., 0., 0., 0., 0., 0., 0., 0., 0., 0., 0., 0., 0., 0.,\n",
       "        0., 0., 0., 0., 0., 0., 0.],\n",
       "       [0., 0., 0., 0., 0., 0., 0., 0., 0., 0., 0., 0., 0., 0., 0., 0.,\n",
       "        0., 0., 0., 0., 0., 0., 0.],\n",
       "       [0., 0., 0., 0., 0., 0., 0., 0., 0., 0., 0., 0., 0., 0., 0., 0.,\n",
       "        0., 0., 0., 0., 0., 0., 0.],\n",
       "       [0., 0., 0., 0., 0., 0., 0., 0., 0., 0., 0., 0., 0., 0., 0., 0.,\n",
       "        0., 0., 0., 0., 0., 0., 0.],\n",
       "       [0., 0., 0., 0., 0., 0., 0., 0., 0., 0., 0., 0., 0., 0., 0., 0.,\n",
       "        0., 0., 0., 0., 0., 0., 0.]])"
      ]
     },
     "execution_count": 69,
     "metadata": {},
     "output_type": "execute_result"
    }
   ],
   "source": [
    "# Crear una matriz de características binarias indicando la presencia o ausencia de las palabras más repetidas\n",
    "for i, doc in enumerate(excel['<5 CAUSA']):\n",
    "    words = doc.split()\n",
    "    for j, category in enumerate(new_categories):\n",
    "        # cada array tiene 23 ceros, se pondrá un 1 cada que category (de la lista new_categories) esté dentro de las palabras\n",
    "        if category in words:\n",
    "            new_feature_matrix[i][j] = 1\n",
    "new_feature_matrix[:5]"
   ]
  },
  {
   "cell_type": "code",
   "execution_count": null,
   "metadata": {},
   "outputs": [],
   "source": [
    "# Concatenar la nueva matriz de características con la matriz BoW original\n",
    "new_bow_matrix = np.concatenate((bow_matrix.toarray(), new_feature_matrix), axis=1)"
   ]
  }
 ],
 "metadata": {
  "kernelspec": {
   "display_name": "Python 3",
   "language": "python",
   "name": "python3"
  },
  "language_info": {
   "codemirror_mode": {
    "name": "ipython",
    "version": 3
   },
   "file_extension": ".py",
   "mimetype": "text/x-python",
   "name": "python",
   "nbconvert_exporter": "python",
   "pygments_lexer": "ipython3",
   "version": "3.11.2"
  },
  "orig_nbformat": 4
 },
 "nbformat": 4,
 "nbformat_minor": 2
}
