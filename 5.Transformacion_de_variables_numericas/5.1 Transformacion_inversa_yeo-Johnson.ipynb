{
 "cells": [
  {
   "attachments": {},
   "cell_type": "markdown",
   "metadata": {},
   "source": [
    "Defina una función para calcular la transformación inversa de Yeo-Johnson a partir del valor de  λ y el signo de x′, es decir, obtener x dado\n",
    "$$x'=\\left\\{\\begin{array}{cr}\\frac{(x+1)^\\lambda-1}{\\lambda},&x\\geq0,\\lambda\\neq 0\\\\\\log(x+1),&x\\geq0,\\lambda=0\\\\-\\frac{(-x+1)^{2-\\lambda}-1}{2-\\lambda},&x<0,\\lambda\\neq 2\\\\-\\log(-x+1),&x<0,\\lambda=2\\end{array}\\right.$$"
   ]
  },
  {
   "cell_type": "code",
   "execution_count": 3,
   "metadata": {},
   "outputs": [],
   "source": [
    "# Importar librerias\n",
    "import numpy as np"
   ]
  },
  {
   "cell_type": "code",
   "execution_count": 14,
   "metadata": {},
   "outputs": [],
   "source": [
    "def yeo_johnson_inversa(x_prima, valor_lambda):\n",
    "    if valor_lambda == 0:\n",
    "        x = np.exp(x_prima) - 1 # si lambda es 0, se calcula x usando la función exponencial inversa\n",
    "    elif valor_lambda == 2:\n",
    "        x = 1 - np.exp(-x_prima) # si lambda es 2, se calcula x usando la función logarítmica inversa\n",
    "    else:\n",
    "        x = np.power((1 + valor_lambda * x_prima), (1 / valor_lambda)) # si lambda no es 0 ni 2, se calcula x usando la fórmula correspondiente\n",
    "        x = x - 1 if valor_lambda != -1 else np.log(1 + x)\n",
    "        x = -1 * (np.power((1 - valor_lambda * x_prima), (-1 / (2 - valor_lambda))) - 1) if valor_lambda < 0 else x # se ajusta x en caso de que lambda sea negativo\n",
    "    return x"
   ]
  },
  {
   "cell_type": "code",
   "execution_count": 15,
   "metadata": {},
   "outputs": [
    {
     "name": "stdout",
     "output_type": "stream",
     "text": [
      "0.5625\n",
      "-0.7411011265922482\n",
      "0.6321205588285577\n"
     ]
    }
   ],
   "source": [
    "# Probando la función\n",
    "print(yeo_johnson_inversa(0.5, 0.5)) # Debería imprimir un valor cercano a 1.2390\n",
    "print(yeo_johnson_inversa(-1.5, -0.5)) # Debería imprimir un valor cercano a -2.0519\n",
    "print(yeo_johnson_inversa(1.0, 2)) # Debería imprimir un valor cercano a 0.6321"
   ]
  }
 ],
 "metadata": {
  "kernelspec": {
   "display_name": "Python 3",
   "language": "python",
   "name": "python3"
  },
  "language_info": {
   "codemirror_mode": {
    "name": "ipython",
    "version": 3
   },
   "file_extension": ".py",
   "mimetype": "text/x-python",
   "name": "python",
   "nbconvert_exporter": "python",
   "pygments_lexer": "ipython3",
   "version": "3.11.2"
  },
  "orig_nbformat": 4
 },
 "nbformat": 4,
 "nbformat_minor": 2
}
