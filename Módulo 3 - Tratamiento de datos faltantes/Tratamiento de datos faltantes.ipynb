{
 "nbformat": 4,
 "nbformat_minor": 0,
 "metadata": {
  "colab": {
   "provenance": [],
   "mount_file_id": "1keVyhJHigk4EWl39_SZhirx_zMrea3AC",
   "authorship_tag": "ABX9TyMvkioAD4Gbocytqqwnxwzw"
  },
  "kernelspec": {
   "name": "python3",
   "display_name": "Python 3"
  },
  "language_info": {
   "name": "python"
  }
 },
 "cells": [
  {
   "cell_type": "code",
   "execution_count": 40,
   "metadata": {
    "id": "UWQItujyxJeV",
    "colab": {
     "base_uri": "https://localhost:8080/",
     "height": 436
    },
    "executionInfo": {
     "status": "ok",
     "timestamp": 1676513308957,
     "user_tz": 360,
     "elapsed": 2219,
     "user": {
      "displayName": "Carlos Arellano",
      "userId": "03055712073717640513"
     }
    },
    "outputId": "18fef64a-4aee-46f3-c318-6b610fba48aa"
   },
   "outputs": [
    {
     "data": {
      "text/plain": "           Country Name Country Code  1960  1961  1962  1963  1964  1965  \\\n0                 Aruba          ABW   NaN   NaN   NaN   NaN   NaN   NaN   \n1           Afghanistan          AFG   NaN   NaN   NaN   NaN   NaN   NaN   \n2                Angola          AGO   NaN   NaN   NaN   NaN   NaN   NaN   \n3               Albania          ALB   NaN   NaN   NaN   NaN   NaN   NaN   \n4               Andorra          AND   NaN   NaN   NaN   NaN   NaN   NaN   \n5            Arab World          ARB   NaN   NaN   NaN   NaN   NaN   NaN   \n6  United Arab Emirates          ARE   NaN   NaN   NaN   NaN   NaN   NaN   \n7             Argentina          ARG   NaN   NaN   NaN   NaN   NaN   NaN   \n8               Armenia          ARM   NaN   NaN   NaN   NaN   NaN   NaN   \n9        American Samoa          ASM   NaN   NaN   NaN   NaN   NaN   NaN   \n\n   1966  1967  ...  2011  2012  2013  2014  2015  2016  2017  2018  2019  2020  \n0   NaN   NaN  ...   NaN   NaN   NaN   NaN   NaN   NaN   NaN   NaN   NaN   NaN  \n1   NaN   NaN  ...   NaN   NaN   NaN   NaN   NaN   NaN   NaN   NaN   NaN   NaN  \n2   NaN   NaN  ...   NaN   NaN   NaN   NaN   NaN   NaN   NaN  51.8   NaN   NaN  \n3   NaN   NaN  ...   NaN   0.8   NaN   1.6   1.1   0.9   1.3   NaN   NaN   NaN  \n4   NaN   NaN  ...   NaN   NaN   NaN   NaN   NaN   NaN   NaN   NaN   NaN   NaN  \n5   NaN   NaN  ...   NaN   NaN   NaN   NaN   NaN   NaN   NaN   NaN   NaN   NaN  \n6   NaN   NaN  ...   NaN   NaN   NaN   0.0   NaN   NaN   NaN   NaN   NaN   NaN  \n7   NaN   NaN  ...   1.1   1.1   1.0   0.9   NaN   1.0   0.8   1.3   NaN   NaN  \n8   NaN   NaN  ...   1.2   0.9   1.8   1.5   1.3   1.2   0.9   1.4   NaN   NaN  \n9   NaN   NaN  ...   NaN   NaN   NaN   NaN   NaN   NaN   NaN   NaN   NaN   NaN  \n\n[10 rows x 63 columns]",
      "text/html": "<div>\n<style scoped>\n    .dataframe tbody tr th:only-of-type {\n        vertical-align: middle;\n    }\n\n    .dataframe tbody tr th {\n        vertical-align: top;\n    }\n\n    .dataframe thead th {\n        text-align: right;\n    }\n</style>\n<table border=\"1\" class=\"dataframe\">\n  <thead>\n    <tr style=\"text-align: right;\">\n      <th></th>\n      <th>Country Name</th>\n      <th>Country Code</th>\n      <th>1960</th>\n      <th>1961</th>\n      <th>1962</th>\n      <th>1963</th>\n      <th>1964</th>\n      <th>1965</th>\n      <th>1966</th>\n      <th>1967</th>\n      <th>...</th>\n      <th>2011</th>\n      <th>2012</th>\n      <th>2013</th>\n      <th>2014</th>\n      <th>2015</th>\n      <th>2016</th>\n      <th>2017</th>\n      <th>2018</th>\n      <th>2019</th>\n      <th>2020</th>\n    </tr>\n  </thead>\n  <tbody>\n    <tr>\n      <th>0</th>\n      <td>Aruba</td>\n      <td>ABW</td>\n      <td>NaN</td>\n      <td>NaN</td>\n      <td>NaN</td>\n      <td>NaN</td>\n      <td>NaN</td>\n      <td>NaN</td>\n      <td>NaN</td>\n      <td>NaN</td>\n      <td>...</td>\n      <td>NaN</td>\n      <td>NaN</td>\n      <td>NaN</td>\n      <td>NaN</td>\n      <td>NaN</td>\n      <td>NaN</td>\n      <td>NaN</td>\n      <td>NaN</td>\n      <td>NaN</td>\n      <td>NaN</td>\n    </tr>\n    <tr>\n      <th>1</th>\n      <td>Afghanistan</td>\n      <td>AFG</td>\n      <td>NaN</td>\n      <td>NaN</td>\n      <td>NaN</td>\n      <td>NaN</td>\n      <td>NaN</td>\n      <td>NaN</td>\n      <td>NaN</td>\n      <td>NaN</td>\n      <td>...</td>\n      <td>NaN</td>\n      <td>NaN</td>\n      <td>NaN</td>\n      <td>NaN</td>\n      <td>NaN</td>\n      <td>NaN</td>\n      <td>NaN</td>\n      <td>NaN</td>\n      <td>NaN</td>\n      <td>NaN</td>\n    </tr>\n    <tr>\n      <th>2</th>\n      <td>Angola</td>\n      <td>AGO</td>\n      <td>NaN</td>\n      <td>NaN</td>\n      <td>NaN</td>\n      <td>NaN</td>\n      <td>NaN</td>\n      <td>NaN</td>\n      <td>NaN</td>\n      <td>NaN</td>\n      <td>...</td>\n      <td>NaN</td>\n      <td>NaN</td>\n      <td>NaN</td>\n      <td>NaN</td>\n      <td>NaN</td>\n      <td>NaN</td>\n      <td>NaN</td>\n      <td>51.8</td>\n      <td>NaN</td>\n      <td>NaN</td>\n    </tr>\n    <tr>\n      <th>3</th>\n      <td>Albania</td>\n      <td>ALB</td>\n      <td>NaN</td>\n      <td>NaN</td>\n      <td>NaN</td>\n      <td>NaN</td>\n      <td>NaN</td>\n      <td>NaN</td>\n      <td>NaN</td>\n      <td>NaN</td>\n      <td>...</td>\n      <td>NaN</td>\n      <td>0.8</td>\n      <td>NaN</td>\n      <td>1.6</td>\n      <td>1.1</td>\n      <td>0.9</td>\n      <td>1.3</td>\n      <td>NaN</td>\n      <td>NaN</td>\n      <td>NaN</td>\n    </tr>\n    <tr>\n      <th>4</th>\n      <td>Andorra</td>\n      <td>AND</td>\n      <td>NaN</td>\n      <td>NaN</td>\n      <td>NaN</td>\n      <td>NaN</td>\n      <td>NaN</td>\n      <td>NaN</td>\n      <td>NaN</td>\n      <td>NaN</td>\n      <td>...</td>\n      <td>NaN</td>\n      <td>NaN</td>\n      <td>NaN</td>\n      <td>NaN</td>\n      <td>NaN</td>\n      <td>NaN</td>\n      <td>NaN</td>\n      <td>NaN</td>\n      <td>NaN</td>\n      <td>NaN</td>\n    </tr>\n    <tr>\n      <th>5</th>\n      <td>Arab World</td>\n      <td>ARB</td>\n      <td>NaN</td>\n      <td>NaN</td>\n      <td>NaN</td>\n      <td>NaN</td>\n      <td>NaN</td>\n      <td>NaN</td>\n      <td>NaN</td>\n      <td>NaN</td>\n      <td>...</td>\n      <td>NaN</td>\n      <td>NaN</td>\n      <td>NaN</td>\n      <td>NaN</td>\n      <td>NaN</td>\n      <td>NaN</td>\n      <td>NaN</td>\n      <td>NaN</td>\n      <td>NaN</td>\n      <td>NaN</td>\n    </tr>\n    <tr>\n      <th>6</th>\n      <td>United Arab Emirates</td>\n      <td>ARE</td>\n      <td>NaN</td>\n      <td>NaN</td>\n      <td>NaN</td>\n      <td>NaN</td>\n      <td>NaN</td>\n      <td>NaN</td>\n      <td>NaN</td>\n      <td>NaN</td>\n      <td>...</td>\n      <td>NaN</td>\n      <td>NaN</td>\n      <td>NaN</td>\n      <td>0.0</td>\n      <td>NaN</td>\n      <td>NaN</td>\n      <td>NaN</td>\n      <td>NaN</td>\n      <td>NaN</td>\n      <td>NaN</td>\n    </tr>\n    <tr>\n      <th>7</th>\n      <td>Argentina</td>\n      <td>ARG</td>\n      <td>NaN</td>\n      <td>NaN</td>\n      <td>NaN</td>\n      <td>NaN</td>\n      <td>NaN</td>\n      <td>NaN</td>\n      <td>NaN</td>\n      <td>NaN</td>\n      <td>...</td>\n      <td>1.1</td>\n      <td>1.1</td>\n      <td>1.0</td>\n      <td>0.9</td>\n      <td>NaN</td>\n      <td>1.0</td>\n      <td>0.8</td>\n      <td>1.3</td>\n      <td>NaN</td>\n      <td>NaN</td>\n    </tr>\n    <tr>\n      <th>8</th>\n      <td>Armenia</td>\n      <td>ARM</td>\n      <td>NaN</td>\n      <td>NaN</td>\n      <td>NaN</td>\n      <td>NaN</td>\n      <td>NaN</td>\n      <td>NaN</td>\n      <td>NaN</td>\n      <td>NaN</td>\n      <td>...</td>\n      <td>1.2</td>\n      <td>0.9</td>\n      <td>1.8</td>\n      <td>1.5</td>\n      <td>1.3</td>\n      <td>1.2</td>\n      <td>0.9</td>\n      <td>1.4</td>\n      <td>NaN</td>\n      <td>NaN</td>\n    </tr>\n    <tr>\n      <th>9</th>\n      <td>American Samoa</td>\n      <td>ASM</td>\n      <td>NaN</td>\n      <td>NaN</td>\n      <td>NaN</td>\n      <td>NaN</td>\n      <td>NaN</td>\n      <td>NaN</td>\n      <td>NaN</td>\n      <td>NaN</td>\n      <td>...</td>\n      <td>NaN</td>\n      <td>NaN</td>\n      <td>NaN</td>\n      <td>NaN</td>\n      <td>NaN</td>\n      <td>NaN</td>\n      <td>NaN</td>\n      <td>NaN</td>\n      <td>NaN</td>\n      <td>NaN</td>\n    </tr>\n  </tbody>\n</table>\n<p>10 rows × 63 columns</p>\n</div>"
     },
     "execution_count": 40,
     "metadata": {},
     "output_type": "execute_result"
    }
   ],
   "source": [
    "import numpy as np\n",
    "import pandas as pd\n",
    "import matplotlib.pyplot as plt\n",
    "\n",
    "ruta=''\n",
    "df=pd.read_csv(ruta+'API_SI.POV.DDAY_DS2.csv',encoding='latin-1',sep='\\t')\n",
    "df.head(10)"
   ]
  },
  {
   "cell_type": "markdown",
   "source": [
    "# Visualización de datos faltantes"
   ],
   "metadata": {
    "id": "k3aUhPe4xRi1"
   }
  },
  {
   "cell_type": "code",
   "source": [
    "# Mapa de calor\n",
    "dfNaN=df.isna()\n",
    "dfNaN.head()"
   ],
   "metadata": {
    "id": "HnYyWcF_xaVf",
    "colab": {
     "base_uri": "https://localhost:8080/",
     "height": 279
    },
    "executionInfo": {
     "status": "ok",
     "timestamp": 1676336597220,
     "user_tz": 360,
     "elapsed": 4,
     "user": {
      "displayName": "Carlos Arellano",
      "userId": "03055712073717640513"
     }
    },
    "outputId": "bbcdc3f4-d17f-438e-dcf0-2f16ab057889"
   },
   "execution_count": 41,
   "outputs": [
    {
     "data": {
      "text/plain": "   Country Name  Country Code  1960  1961  1962  1963  1964  1965  1966  1967  \\\n0         False         False  True  True  True  True  True  True  True  True   \n1         False         False  True  True  True  True  True  True  True  True   \n2         False         False  True  True  True  True  True  True  True  True   \n3         False         False  True  True  True  True  True  True  True  True   \n4         False         False  True  True  True  True  True  True  True  True   \n\n   ...  2011   2012  2013   2014   2015   2016   2017   2018  2019  2020  \n0  ...  True   True  True   True   True   True   True   True  True  True  \n1  ...  True   True  True   True   True   True   True   True  True  True  \n2  ...  True   True  True   True   True   True   True  False  True  True  \n3  ...  True  False  True  False  False  False  False   True  True  True  \n4  ...  True   True  True   True   True   True   True   True  True  True  \n\n[5 rows x 63 columns]",
      "text/html": "<div>\n<style scoped>\n    .dataframe tbody tr th:only-of-type {\n        vertical-align: middle;\n    }\n\n    .dataframe tbody tr th {\n        vertical-align: top;\n    }\n\n    .dataframe thead th {\n        text-align: right;\n    }\n</style>\n<table border=\"1\" class=\"dataframe\">\n  <thead>\n    <tr style=\"text-align: right;\">\n      <th></th>\n      <th>Country Name</th>\n      <th>Country Code</th>\n      <th>1960</th>\n      <th>1961</th>\n      <th>1962</th>\n      <th>1963</th>\n      <th>1964</th>\n      <th>1965</th>\n      <th>1966</th>\n      <th>1967</th>\n      <th>...</th>\n      <th>2011</th>\n      <th>2012</th>\n      <th>2013</th>\n      <th>2014</th>\n      <th>2015</th>\n      <th>2016</th>\n      <th>2017</th>\n      <th>2018</th>\n      <th>2019</th>\n      <th>2020</th>\n    </tr>\n  </thead>\n  <tbody>\n    <tr>\n      <th>0</th>\n      <td>False</td>\n      <td>False</td>\n      <td>True</td>\n      <td>True</td>\n      <td>True</td>\n      <td>True</td>\n      <td>True</td>\n      <td>True</td>\n      <td>True</td>\n      <td>True</td>\n      <td>...</td>\n      <td>True</td>\n      <td>True</td>\n      <td>True</td>\n      <td>True</td>\n      <td>True</td>\n      <td>True</td>\n      <td>True</td>\n      <td>True</td>\n      <td>True</td>\n      <td>True</td>\n    </tr>\n    <tr>\n      <th>1</th>\n      <td>False</td>\n      <td>False</td>\n      <td>True</td>\n      <td>True</td>\n      <td>True</td>\n      <td>True</td>\n      <td>True</td>\n      <td>True</td>\n      <td>True</td>\n      <td>True</td>\n      <td>...</td>\n      <td>True</td>\n      <td>True</td>\n      <td>True</td>\n      <td>True</td>\n      <td>True</td>\n      <td>True</td>\n      <td>True</td>\n      <td>True</td>\n      <td>True</td>\n      <td>True</td>\n    </tr>\n    <tr>\n      <th>2</th>\n      <td>False</td>\n      <td>False</td>\n      <td>True</td>\n      <td>True</td>\n      <td>True</td>\n      <td>True</td>\n      <td>True</td>\n      <td>True</td>\n      <td>True</td>\n      <td>True</td>\n      <td>...</td>\n      <td>True</td>\n      <td>True</td>\n      <td>True</td>\n      <td>True</td>\n      <td>True</td>\n      <td>True</td>\n      <td>True</td>\n      <td>False</td>\n      <td>True</td>\n      <td>True</td>\n    </tr>\n    <tr>\n      <th>3</th>\n      <td>False</td>\n      <td>False</td>\n      <td>True</td>\n      <td>True</td>\n      <td>True</td>\n      <td>True</td>\n      <td>True</td>\n      <td>True</td>\n      <td>True</td>\n      <td>True</td>\n      <td>...</td>\n      <td>True</td>\n      <td>False</td>\n      <td>True</td>\n      <td>False</td>\n      <td>False</td>\n      <td>False</td>\n      <td>False</td>\n      <td>True</td>\n      <td>True</td>\n      <td>True</td>\n    </tr>\n    <tr>\n      <th>4</th>\n      <td>False</td>\n      <td>False</td>\n      <td>True</td>\n      <td>True</td>\n      <td>True</td>\n      <td>True</td>\n      <td>True</td>\n      <td>True</td>\n      <td>True</td>\n      <td>True</td>\n      <td>...</td>\n      <td>True</td>\n      <td>True</td>\n      <td>True</td>\n      <td>True</td>\n      <td>True</td>\n      <td>True</td>\n      <td>True</td>\n      <td>True</td>\n      <td>True</td>\n      <td>True</td>\n    </tr>\n  </tbody>\n</table>\n<p>5 rows × 63 columns</p>\n</div>"
     },
     "execution_count": 41,
     "metadata": {},
     "output_type": "execute_result"
    }
   ]
  },
  {
   "cell_type": "code",
   "source": [
    "plt.figure(figsize=(5,15))\n",
    "#plt.imshow(dfNaN) # Mapea el 1 (True) a amarillo y el 0 (False) a morado\n",
    "#plt.imshow(dfNaN,cmap='gray') # NaN=Blanco\n",
    "plt.imshow(~dfNaN,cmap='gray') # NaN=Negro\n",
    "plt.grid()"
   ],
   "metadata": {
    "colab": {
     "base_uri": "https://localhost:8080/",
     "height": 866
    },
    "id": "44xynhRpcoQS",
    "executionInfo": {
     "status": "ok",
     "timestamp": 1676337752706,
     "user_tz": 360,
     "elapsed": 768,
     "user": {
      "displayName": "Carlos Arellano",
      "userId": "03055712073717640513"
     }
    },
    "outputId": "a253fe4d-7490-41d8-a69d-77820197685e"
   },
   "execution_count": 42,
   "outputs": [
    {
     "data": {
      "text/plain": "<Figure size 500x1500 with 1 Axes>",
      "image/png": "[encoded data removed]"
     },
     "metadata": {},
     "output_type": "display_data"
    }
   ]
  },
  {
   "cell_type": "code",
   "source": [
    "# Matriz de co-ocurrencia entre Argentina (index 7) y Armenia (index 8)\n",
    "df[df['Country Name']=='Argentina']"
   ],
   "metadata": {
    "id": "YlEHNOklxgSa",
    "colab": {
     "base_uri": "https://localhost:8080/",
     "height": 110
    },
    "executionInfo": {
     "status": "ok",
     "timestamp": 1676337156973,
     "user_tz": 360,
     "elapsed": 312,
     "user": {
      "displayName": "Carlos Arellano",
      "userId": "03055712073717640513"
     }
    },
    "outputId": "eb4fb8f9-226a-4f5a-eaa7-f93796d63307"
   },
   "execution_count": 43,
   "outputs": [
    {
     "data": {
      "text/plain": "  Country Name Country Code  1960  1961  1962  1963  1964  1965  1966  1967  \\\n7    Argentina          ARG   NaN   NaN   NaN   NaN   NaN   NaN   NaN   NaN   \n\n   ...  2011  2012  2013  2014  2015  2016  2017  2018  2019  2020  \n7  ...   1.1   1.1   1.0   0.9   NaN   1.0   0.8   1.3   NaN   NaN  \n\n[1 rows x 63 columns]",
      "text/html": "<div>\n<style scoped>\n    .dataframe tbody tr th:only-of-type {\n        vertical-align: middle;\n    }\n\n    .dataframe tbody tr th {\n        vertical-align: top;\n    }\n\n    .dataframe thead th {\n        text-align: right;\n    }\n</style>\n<table border=\"1\" class=\"dataframe\">\n  <thead>\n    <tr style=\"text-align: right;\">\n      <th></th>\n      <th>Country Name</th>\n      <th>Country Code</th>\n      <th>1960</th>\n      <th>1961</th>\n      <th>1962</th>\n      <th>1963</th>\n      <th>1964</th>\n      <th>1965</th>\n      <th>1966</th>\n      <th>1967</th>\n      <th>...</th>\n      <th>2011</th>\n      <th>2012</th>\n      <th>2013</th>\n      <th>2014</th>\n      <th>2015</th>\n      <th>2016</th>\n      <th>2017</th>\n      <th>2018</th>\n      <th>2019</th>\n      <th>2020</th>\n    </tr>\n  </thead>\n  <tbody>\n    <tr>\n      <th>7</th>\n      <td>Argentina</td>\n      <td>ARG</td>\n      <td>NaN</td>\n      <td>NaN</td>\n      <td>NaN</td>\n      <td>NaN</td>\n      <td>NaN</td>\n      <td>NaN</td>\n      <td>NaN</td>\n      <td>NaN</td>\n      <td>...</td>\n      <td>1.1</td>\n      <td>1.1</td>\n      <td>1.0</td>\n      <td>0.9</td>\n      <td>NaN</td>\n      <td>1.0</td>\n      <td>0.8</td>\n      <td>1.3</td>\n      <td>NaN</td>\n      <td>NaN</td>\n    </tr>\n  </tbody>\n</table>\n<p>1 rows × 63 columns</p>\n</div>"
     },
     "execution_count": 43,
     "metadata": {},
     "output_type": "execute_result"
    }
   ]
  },
  {
   "cell_type": "code",
   "source": [
    "df.loc[7]"
   ],
   "metadata": {
    "colab": {
     "base_uri": "https://localhost:8080/"
    },
    "id": "caLyq7CReybU",
    "executionInfo": {
     "status": "ok",
     "timestamp": 1676337193242,
     "user_tz": 360,
     "elapsed": 322,
     "user": {
      "displayName": "Carlos Arellano",
      "userId": "03055712073717640513"
     }
    },
    "outputId": "378bb21e-a499-4b59-f622-80b55d5c20e9"
   },
   "execution_count": 44,
   "outputs": [
    {
     "data": {
      "text/plain": "Country Name    Argentina\nCountry Code          ARG\n1960                  NaN\n1961                  NaN\n1962                  NaN\n                  ...    \n2016                  1.0\n2017                  0.8\n2018                  1.3\n2019                  NaN\n2020                  NaN\nName: 7, Length: 63, dtype: object"
     },
     "execution_count": 44,
     "metadata": {},
     "output_type": "execute_result"
    }
   ]
  },
  {
   "cell_type": "code",
   "source": [
    "dfcopy=df.copy()\n",
    "dfcopy.fillna('NaN',inplace=True)\n",
    "pd.crosstab(dfcopy.loc[7],dfcopy.loc[8])"
   ],
   "metadata": {
    "colab": {
     "base_uri": "https://localhost:8080/",
     "height": 896
    },
    "id": "-gsIAIwafLPC",
    "executionInfo": {
     "status": "ok",
     "timestamp": 1676337394414,
     "user_tz": 360,
     "elapsed": 5,
     "user": {
      "displayName": "Carlos Arellano",
      "userId": "03055712073717640513"
     }
    },
    "outputId": "7eb66f7b-5c53-4c94-915c-d266bef7939a"
   },
   "execution_count": 45,
   "outputs": [
    {
     "data": {
      "text/plain": "8          0.9  1.0  1.2  1.3  1.4  1.5  1.6  1.8  2.1  2.7  5.5  7.9  10.5  \\\n7                                                                             \n0.0          0    0    0    0    0    0    0    0    0    0    0    0     0   \n0.5          0    0    0    0    0    0    0    0    0    0    0    0     0   \n0.8          1    0    0    0    0    0    0    0    0    0    0    0     0   \n0.9          0    0    0    0    0    1    0    0    0    0    0    0     0   \n1.0          0    0    1    0    0    0    0    1    0    0    0    0     0   \n1.1          1    0    1    0    0    0    0    0    0    0    0    0     0   \n1.3          0    0    0    0    1    0    0    0    0    0    0    0     0   \n2.5          0    0    0    0    0    0    0    0    0    0    0    0     0   \n2.7          0    0    0    0    0    0    0    0    0    0    0    0     0   \n2.8          0    1    0    0    0    0    0    0    0    0    0    0     0   \n3.0          0    0    0    1    0    0    0    0    0    0    0    0     0   \n3.3          1    0    0    0    0    0    1    0    0    0    0    0     0   \n3.9          0    0    0    0    0    0    0    0    1    0    0    0     0   \n4.8          0    0    0    0    0    0    0    0    0    1    0    0     0   \n4.9          0    0    0    0    0    0    0    0    0    0    0    0     0   \n5.3          0    0    0    0    0    0    0    0    0    0    0    0     0   \n5.5          0    0    0    0    0    0    0    0    0    0    0    0     0   \n5.6          0    0    0    0    0    0    0    0    0    0    0    0     0   \n6.4          0    0    0    0    0    0    0    0    0    0    1    0     0   \n6.8          0    0    0    0    0    0    0    0    0    0    0    0     0   \n8.4          0    0    0    0    0    0    0    0    0    0    0    1     0   \n10.7         0    0    0    0    0    0    0    0    0    0    0    0     0   \n16.9         0    0    0    0    0    0    0    0    0    0    0    0     1   \nARG          0    0    0    0    0    0    0    0    0    0    0    0     0   \nArgentina    0    0    0    0    0    0    0    0    0    0    0    0     0   \nNaN          0    0    0    1    0    0    0    0    0    0    0    0     0   \n\n8          12.2  14.4  ARM  Armenia  NaN  \n7                                         \n0.0           0     0    0        0    2  \n0.5           0     0    0        0    1  \n0.8           0     0    0        0    0  \n0.9           0     0    0        0    0  \n1.0           0     0    0        0    0  \n1.1           0     0    0        0    0  \n1.3           0     0    0        0    1  \n2.5           0     0    0        0    1  \n2.7           0     0    0        0    1  \n2.8           0     0    0        0    1  \n3.0           0     0    0        0    0  \n3.3           0     0    0        0    0  \n3.9           0     0    0        0    0  \n4.8           0     0    0        0    1  \n4.9           0     0    0        0    1  \n5.3           0     0    0        0    1  \n5.5           1     0    0        0    0  \n5.6           0     0    0        0    1  \n6.4           0     0    0        0    0  \n6.8           0     0    0        0    1  \n8.4           0     0    0        0    0  \n10.7          0     1    0        0    0  \n16.9          0     0    0        0    0  \nARG           0     0    1        0    0  \nArgentina     0     0    0        1    0  \nNaN           0     0    0        0   30  ",
      "text/html": "<div>\n<style scoped>\n    .dataframe tbody tr th:only-of-type {\n        vertical-align: middle;\n    }\n\n    .dataframe tbody tr th {\n        vertical-align: top;\n    }\n\n    .dataframe thead th {\n        text-align: right;\n    }\n</style>\n<table border=\"1\" class=\"dataframe\">\n  <thead>\n    <tr style=\"text-align: right;\">\n      <th>8</th>\n      <th>0.9</th>\n      <th>1.0</th>\n      <th>1.2</th>\n      <th>1.3</th>\n      <th>1.4</th>\n      <th>1.5</th>\n      <th>1.6</th>\n      <th>1.8</th>\n      <th>2.1</th>\n      <th>2.7</th>\n      <th>5.5</th>\n      <th>7.9</th>\n      <th>10.5</th>\n      <th>12.2</th>\n      <th>14.4</th>\n      <th>ARM</th>\n      <th>Armenia</th>\n      <th>NaN</th>\n    </tr>\n    <tr>\n      <th>7</th>\n      <th></th>\n      <th></th>\n      <th></th>\n      <th></th>\n      <th></th>\n      <th></th>\n      <th></th>\n      <th></th>\n      <th></th>\n      <th></th>\n      <th></th>\n      <th></th>\n      <th></th>\n      <th></th>\n      <th></th>\n      <th></th>\n      <th></th>\n      <th></th>\n    </tr>\n  </thead>\n  <tbody>\n    <tr>\n      <th>0.0</th>\n      <td>0</td>\n      <td>0</td>\n      <td>0</td>\n      <td>0</td>\n      <td>0</td>\n      <td>0</td>\n      <td>0</td>\n      <td>0</td>\n      <td>0</td>\n      <td>0</td>\n      <td>0</td>\n      <td>0</td>\n      <td>0</td>\n      <td>0</td>\n      <td>0</td>\n      <td>0</td>\n      <td>0</td>\n      <td>2</td>\n    </tr>\n    <tr>\n      <th>0.5</th>\n      <td>0</td>\n      <td>0</td>\n      <td>0</td>\n      <td>0</td>\n      <td>0</td>\n      <td>0</td>\n      <td>0</td>\n      <td>0</td>\n      <td>0</td>\n      <td>0</td>\n      <td>0</td>\n      <td>0</td>\n      <td>0</td>\n      <td>0</td>\n      <td>0</td>\n      <td>0</td>\n      <td>0</td>\n      <td>1</td>\n    </tr>\n    <tr>\n      <th>0.8</th>\n      <td>1</td>\n      <td>0</td>\n      <td>0</td>\n      <td>0</td>\n      <td>0</td>\n      <td>0</td>\n      <td>0</td>\n      <td>0</td>\n      <td>0</td>\n      <td>0</td>\n      <td>0</td>\n      <td>0</td>\n      <td>0</td>\n      <td>0</td>\n      <td>0</td>\n      <td>0</td>\n      <td>0</td>\n      <td>0</td>\n    </tr>\n    <tr>\n      <th>0.9</th>\n      <td>0</td>\n      <td>0</td>\n      <td>0</td>\n      <td>0</td>\n      <td>0</td>\n      <td>1</td>\n      <td>0</td>\n      <td>0</td>\n      <td>0</td>\n      <td>0</td>\n      <td>0</td>\n      <td>0</td>\n      <td>0</td>\n      <td>0</td>\n      <td>0</td>\n      <td>0</td>\n      <td>0</td>\n      <td>0</td>\n    </tr>\n    <tr>\n      <th>1.0</th>\n      <td>0</td>\n      <td>0</td>\n      <td>1</td>\n      <td>0</td>\n      <td>0</td>\n      <td>0</td>\n      <td>0</td>\n      <td>1</td>\n      <td>0</td>\n      <td>0</td>\n      <td>0</td>\n      <td>0</td>\n      <td>0</td>\n      <td>0</td>\n      <td>0</td>\n      <td>0</td>\n      <td>0</td>\n      <td>0</td>\n    </tr>\n    <tr>\n      <th>1.1</th>\n      <td>1</td>\n      <td>0</td>\n      <td>1</td>\n      <td>0</td>\n      <td>0</td>\n      <td>0</td>\n      <td>0</td>\n      <td>0</td>\n      <td>0</td>\n      <td>0</td>\n      <td>0</td>\n      <td>0</td>\n      <td>0</td>\n      <td>0</td>\n      <td>0</td>\n      <td>0</td>\n      <td>0</td>\n      <td>0</td>\n    </tr>\n    <tr>\n      <th>1.3</th>\n      <td>0</td>\n      <td>0</td>\n      <td>0</td>\n      <td>0</td>\n      <td>1</td>\n      <td>0</td>\n      <td>0</td>\n      <td>0</td>\n      <td>0</td>\n      <td>0</td>\n      <td>0</td>\n      <td>0</td>\n      <td>0</td>\n      <td>0</td>\n      <td>0</td>\n      <td>0</td>\n      <td>0</td>\n      <td>1</td>\n    </tr>\n    <tr>\n      <th>2.5</th>\n      <td>0</td>\n      <td>0</td>\n      <td>0</td>\n      <td>0</td>\n      <td>0</td>\n      <td>0</td>\n      <td>0</td>\n      <td>0</td>\n      <td>0</td>\n      <td>0</td>\n      <td>0</td>\n      <td>0</td>\n      <td>0</td>\n      <td>0</td>\n      <td>0</td>\n      <td>0</td>\n      <td>0</td>\n      <td>1</td>\n    </tr>\n    <tr>\n      <th>2.7</th>\n      <td>0</td>\n      <td>0</td>\n      <td>0</td>\n      <td>0</td>\n      <td>0</td>\n      <td>0</td>\n      <td>0</td>\n      <td>0</td>\n      <td>0</td>\n      <td>0</td>\n      <td>0</td>\n      <td>0</td>\n      <td>0</td>\n      <td>0</td>\n      <td>0</td>\n      <td>0</td>\n      <td>0</td>\n      <td>1</td>\n    </tr>\n    <tr>\n      <th>2.8</th>\n      <td>0</td>\n      <td>1</td>\n      <td>0</td>\n      <td>0</td>\n      <td>0</td>\n      <td>0</td>\n      <td>0</td>\n      <td>0</td>\n      <td>0</td>\n      <td>0</td>\n      <td>0</td>\n      <td>0</td>\n      <td>0</td>\n      <td>0</td>\n      <td>0</td>\n      <td>0</td>\n      <td>0</td>\n      <td>1</td>\n    </tr>\n    <tr>\n      <th>3.0</th>\n      <td>0</td>\n      <td>0</td>\n      <td>0</td>\n      <td>1</td>\n      <td>0</td>\n      <td>0</td>\n      <td>0</td>\n      <td>0</td>\n      <td>0</td>\n      <td>0</td>\n      <td>0</td>\n      <td>0</td>\n      <td>0</td>\n      <td>0</td>\n      <td>0</td>\n      <td>0</td>\n      <td>0</td>\n      <td>0</td>\n    </tr>\n    <tr>\n      <th>3.3</th>\n      <td>1</td>\n      <td>0</td>\n      <td>0</td>\n      <td>0</td>\n      <td>0</td>\n      <td>0</td>\n      <td>1</td>\n      <td>0</td>\n      <td>0</td>\n      <td>0</td>\n      <td>0</td>\n      <td>0</td>\n      <td>0</td>\n      <td>0</td>\n      <td>0</td>\n      <td>0</td>\n      <td>0</td>\n      <td>0</td>\n    </tr>\n    <tr>\n      <th>3.9</th>\n      <td>0</td>\n      <td>0</td>\n      <td>0</td>\n      <td>0</td>\n      <td>0</td>\n      <td>0</td>\n      <td>0</td>\n      <td>0</td>\n      <td>1</td>\n      <td>0</td>\n      <td>0</td>\n      <td>0</td>\n      <td>0</td>\n      <td>0</td>\n      <td>0</td>\n      <td>0</td>\n      <td>0</td>\n      <td>0</td>\n    </tr>\n    <tr>\n      <th>4.8</th>\n      <td>0</td>\n      <td>0</td>\n      <td>0</td>\n      <td>0</td>\n      <td>0</td>\n      <td>0</td>\n      <td>0</td>\n      <td>0</td>\n      <td>0</td>\n      <td>1</td>\n      <td>0</td>\n      <td>0</td>\n      <td>0</td>\n      <td>0</td>\n      <td>0</td>\n      <td>0</td>\n      <td>0</td>\n      <td>1</td>\n    </tr>\n    <tr>\n      <th>4.9</th>\n      <td>0</td>\n      <td>0</td>\n      <td>0</td>\n      <td>0</td>\n      <td>0</td>\n      <td>0</td>\n      <td>0</td>\n      <td>0</td>\n      <td>0</td>\n      <td>0</td>\n      <td>0</td>\n      <td>0</td>\n      <td>0</td>\n      <td>0</td>\n      <td>0</td>\n      <td>0</td>\n      <td>0</td>\n      <td>1</td>\n    </tr>\n    <tr>\n      <th>5.3</th>\n      <td>0</td>\n      <td>0</td>\n      <td>0</td>\n      <td>0</td>\n      <td>0</td>\n      <td>0</td>\n      <td>0</td>\n      <td>0</td>\n      <td>0</td>\n      <td>0</td>\n      <td>0</td>\n      <td>0</td>\n      <td>0</td>\n      <td>0</td>\n      <td>0</td>\n      <td>0</td>\n      <td>0</td>\n      <td>1</td>\n    </tr>\n    <tr>\n      <th>5.5</th>\n      <td>0</td>\n      <td>0</td>\n      <td>0</td>\n      <td>0</td>\n      <td>0</td>\n      <td>0</td>\n      <td>0</td>\n      <td>0</td>\n      <td>0</td>\n      <td>0</td>\n      <td>0</td>\n      <td>0</td>\n      <td>0</td>\n      <td>1</td>\n      <td>0</td>\n      <td>0</td>\n      <td>0</td>\n      <td>0</td>\n    </tr>\n    <tr>\n      <th>5.6</th>\n      <td>0</td>\n      <td>0</td>\n      <td>0</td>\n      <td>0</td>\n      <td>0</td>\n      <td>0</td>\n      <td>0</td>\n      <td>0</td>\n      <td>0</td>\n      <td>0</td>\n      <td>0</td>\n      <td>0</td>\n      <td>0</td>\n      <td>0</td>\n      <td>0</td>\n      <td>0</td>\n      <td>0</td>\n      <td>1</td>\n    </tr>\n    <tr>\n      <th>6.4</th>\n      <td>0</td>\n      <td>0</td>\n      <td>0</td>\n      <td>0</td>\n      <td>0</td>\n      <td>0</td>\n      <td>0</td>\n      <td>0</td>\n      <td>0</td>\n      <td>0</td>\n      <td>1</td>\n      <td>0</td>\n      <td>0</td>\n      <td>0</td>\n      <td>0</td>\n      <td>0</td>\n      <td>0</td>\n      <td>0</td>\n    </tr>\n    <tr>\n      <th>6.8</th>\n      <td>0</td>\n      <td>0</td>\n      <td>0</td>\n      <td>0</td>\n      <td>0</td>\n      <td>0</td>\n      <td>0</td>\n      <td>0</td>\n      <td>0</td>\n      <td>0</td>\n      <td>0</td>\n      <td>0</td>\n      <td>0</td>\n      <td>0</td>\n      <td>0</td>\n      <td>0</td>\n      <td>0</td>\n      <td>1</td>\n    </tr>\n    <tr>\n      <th>8.4</th>\n      <td>0</td>\n      <td>0</td>\n      <td>0</td>\n      <td>0</td>\n      <td>0</td>\n      <td>0</td>\n      <td>0</td>\n      <td>0</td>\n      <td>0</td>\n      <td>0</td>\n      <td>0</td>\n      <td>1</td>\n      <td>0</td>\n      <td>0</td>\n      <td>0</td>\n      <td>0</td>\n      <td>0</td>\n      <td>0</td>\n    </tr>\n    <tr>\n      <th>10.7</th>\n      <td>0</td>\n      <td>0</td>\n      <td>0</td>\n      <td>0</td>\n      <td>0</td>\n      <td>0</td>\n      <td>0</td>\n      <td>0</td>\n      <td>0</td>\n      <td>0</td>\n      <td>0</td>\n      <td>0</td>\n      <td>0</td>\n      <td>0</td>\n      <td>1</td>\n      <td>0</td>\n      <td>0</td>\n      <td>0</td>\n    </tr>\n    <tr>\n      <th>16.9</th>\n      <td>0</td>\n      <td>0</td>\n      <td>0</td>\n      <td>0</td>\n      <td>0</td>\n      <td>0</td>\n      <td>0</td>\n      <td>0</td>\n      <td>0</td>\n      <td>0</td>\n      <td>0</td>\n      <td>0</td>\n      <td>1</td>\n      <td>0</td>\n      <td>0</td>\n      <td>0</td>\n      <td>0</td>\n      <td>0</td>\n    </tr>\n    <tr>\n      <th>ARG</th>\n      <td>0</td>\n      <td>0</td>\n      <td>0</td>\n      <td>0</td>\n      <td>0</td>\n      <td>0</td>\n      <td>0</td>\n      <td>0</td>\n      <td>0</td>\n      <td>0</td>\n      <td>0</td>\n      <td>0</td>\n      <td>0</td>\n      <td>0</td>\n      <td>0</td>\n      <td>1</td>\n      <td>0</td>\n      <td>0</td>\n    </tr>\n    <tr>\n      <th>Argentina</th>\n      <td>0</td>\n      <td>0</td>\n      <td>0</td>\n      <td>0</td>\n      <td>0</td>\n      <td>0</td>\n      <td>0</td>\n      <td>0</td>\n      <td>0</td>\n      <td>0</td>\n      <td>0</td>\n      <td>0</td>\n      <td>0</td>\n      <td>0</td>\n      <td>0</td>\n      <td>0</td>\n      <td>1</td>\n      <td>0</td>\n    </tr>\n    <tr>\n      <th>NaN</th>\n      <td>0</td>\n      <td>0</td>\n      <td>0</td>\n      <td>1</td>\n      <td>0</td>\n      <td>0</td>\n      <td>0</td>\n      <td>0</td>\n      <td>0</td>\n      <td>0</td>\n      <td>0</td>\n      <td>0</td>\n      <td>0</td>\n      <td>0</td>\n      <td>0</td>\n      <td>0</td>\n      <td>0</td>\n      <td>30</td>\n    </tr>\n  </tbody>\n</table>\n</div>"
     },
     "execution_count": 45,
     "metadata": {},
     "output_type": "execute_result"
    }
   ]
  },
  {
   "cell_type": "markdown",
   "source": [
    "# Eliminacón de datos"
   ],
   "metadata": {
    "id": "1IucDSzSxj2t"
   }
  },
  {
   "cell_type": "code",
   "source": [
    "# Elinación de filas (variables)\n",
    "df.dropna()"
   ],
   "metadata": {
    "id": "qMRkt9NzxuTa",
    "colab": {
     "base_uri": "https://localhost:8080/",
     "height": 78
    },
    "executionInfo": {
     "status": "ok",
     "timestamp": 1676337829483,
     "user_tz": 360,
     "elapsed": 310,
     "user": {
      "displayName": "Carlos Arellano",
      "userId": "03055712073717640513"
     }
    },
    "outputId": "d5ca3e95-0879-438b-c5fc-b2f927ea494d"
   },
   "execution_count": 46,
   "outputs": [
    {
     "data": {
      "text/plain": "Empty DataFrame\nColumns: [Country Name, Country Code, 1960, 1961, 1962, 1963, 1964, 1965, 1966, 1967, 1968, 1969, 1970, 1971, 1972, 1973, 1974, 1975, 1976, 1977, 1978, 1979, 1980, 1981, 1982, 1983, 1984, 1985, 1986, 1987, 1988, 1989, 1990, 1991, 1992, 1993, 1994, 1995, 1996, 1997, 1998, 1999, 2000, 2001, 2002, 2003, 2004, 2005, 2006, 2007, 2008, 2009, 2010, 2011, 2012, 2013, 2014, 2015, 2016, 2017, 2018, 2019, 2020]\nIndex: []\n\n[0 rows x 63 columns]",
      "text/html": "<div>\n<style scoped>\n    .dataframe tbody tr th:only-of-type {\n        vertical-align: middle;\n    }\n\n    .dataframe tbody tr th {\n        vertical-align: top;\n    }\n\n    .dataframe thead th {\n        text-align: right;\n    }\n</style>\n<table border=\"1\" class=\"dataframe\">\n  <thead>\n    <tr style=\"text-align: right;\">\n      <th></th>\n      <th>Country Name</th>\n      <th>Country Code</th>\n      <th>1960</th>\n      <th>1961</th>\n      <th>1962</th>\n      <th>1963</th>\n      <th>1964</th>\n      <th>1965</th>\n      <th>1966</th>\n      <th>1967</th>\n      <th>...</th>\n      <th>2011</th>\n      <th>2012</th>\n      <th>2013</th>\n      <th>2014</th>\n      <th>2015</th>\n      <th>2016</th>\n      <th>2017</th>\n      <th>2018</th>\n      <th>2019</th>\n      <th>2020</th>\n    </tr>\n  </thead>\n  <tbody>\n  </tbody>\n</table>\n<p>0 rows × 63 columns</p>\n</div>"
     },
     "execution_count": 46,
     "metadata": {},
     "output_type": "execute_result"
    }
   ]
  },
  {
   "cell_type": "code",
   "source": [
    "# Eliminación de columnas (observaciones)\n",
    "df.dropna(axis=1)"
   ],
   "metadata": {
    "colab": {
     "base_uri": "https://localhost:8080/",
     "height": 423
    },
    "id": "9ClRYeWnhVK0",
    "executionInfo": {
     "status": "ok",
     "timestamp": 1676337876305,
     "user_tz": 360,
     "elapsed": 319,
     "user": {
      "displayName": "Carlos Arellano",
      "userId": "03055712073717640513"
     }
    },
    "outputId": "1b264a1f-9c99-4396-9be4-169c9991ea54"
   },
   "execution_count": 47,
   "outputs": [
    {
     "data": {
      "text/plain": "     Country Name Country Code\n0           Aruba          ABW\n1     Afghanistan          AFG\n2          Angola          AGO\n3         Albania          ALB\n4         Andorra          AND\n..            ...          ...\n259        Kosovo          XKX\n260   Yemen, Rep.          YEM\n261  South Africa          ZAF\n262        Zambia          ZMB\n263      Zimbabwe          ZWE\n\n[264 rows x 2 columns]",
      "text/html": "<div>\n<style scoped>\n    .dataframe tbody tr th:only-of-type {\n        vertical-align: middle;\n    }\n\n    .dataframe tbody tr th {\n        vertical-align: top;\n    }\n\n    .dataframe thead th {\n        text-align: right;\n    }\n</style>\n<table border=\"1\" class=\"dataframe\">\n  <thead>\n    <tr style=\"text-align: right;\">\n      <th></th>\n      <th>Country Name</th>\n      <th>Country Code</th>\n    </tr>\n  </thead>\n  <tbody>\n    <tr>\n      <th>0</th>\n      <td>Aruba</td>\n      <td>ABW</td>\n    </tr>\n    <tr>\n      <th>1</th>\n      <td>Afghanistan</td>\n      <td>AFG</td>\n    </tr>\n    <tr>\n      <th>2</th>\n      <td>Angola</td>\n      <td>AGO</td>\n    </tr>\n    <tr>\n      <th>3</th>\n      <td>Albania</td>\n      <td>ALB</td>\n    </tr>\n    <tr>\n      <th>4</th>\n      <td>Andorra</td>\n      <td>AND</td>\n    </tr>\n    <tr>\n      <th>...</th>\n      <td>...</td>\n      <td>...</td>\n    </tr>\n    <tr>\n      <th>259</th>\n      <td>Kosovo</td>\n      <td>XKX</td>\n    </tr>\n    <tr>\n      <th>260</th>\n      <td>Yemen, Rep.</td>\n      <td>YEM</td>\n    </tr>\n    <tr>\n      <th>261</th>\n      <td>South Africa</td>\n      <td>ZAF</td>\n    </tr>\n    <tr>\n      <th>262</th>\n      <td>Zambia</td>\n      <td>ZMB</td>\n    </tr>\n    <tr>\n      <th>263</th>\n      <td>Zimbabwe</td>\n      <td>ZWE</td>\n    </tr>\n  </tbody>\n</table>\n<p>264 rows × 2 columns</p>\n</div>"
     },
     "execution_count": 47,
     "metadata": {},
     "output_type": "execute_result"
    }
   ]
  },
  {
   "cell_type": "code",
   "source": [
    "dfNaN.sum(axis=1),df.shape"
   ],
   "metadata": {
    "colab": {
     "base_uri": "https://localhost:8080/"
    },
    "id": "kLKUdTMehglj",
    "executionInfo": {
     "status": "ok",
     "timestamp": 1676338002411,
     "user_tz": 360,
     "elapsed": 5,
     "user": {
      "displayName": "Carlos Arellano",
      "userId": "03055712073717640513"
     }
    },
    "outputId": "aea4b0a6-164a-4a66-fc95-ba80364da7ce"
   },
   "execution_count": 48,
   "outputs": [
    {
     "data": {
      "text/plain": "(0      61\n 1      61\n 2      58\n 3      52\n 4      61\n        ..\n 259    49\n 260    58\n 261    54\n 262    52\n 263    59\n Length: 264, dtype: int64,\n (264, 63))"
     },
     "execution_count": 48,
     "metadata": {},
     "output_type": "execute_result"
    }
   ]
  },
  {
   "cell_type": "code",
   "source": [
    "idx=np.where(dfNaN.sum(axis=1)==61)[0]\n",
    "idx"
   ],
   "metadata": {
    "colab": {
     "base_uri": "https://localhost:8080/"
    },
    "id": "KflbdJfViKhc",
    "executionInfo": {
     "status": "ok",
     "timestamp": 1676338208257,
     "user_tz": 360,
     "elapsed": 287,
     "user": {
      "displayName": "Carlos Arellano",
      "userId": "03055712073717640513"
     }
    },
    "outputId": "33894797-de77-4087-85a2-7e0a1836bcdb"
   },
   "execution_count": 49,
   "outputs": [
    {
     "data": {
      "text/plain": "array([  0,   1,   4,   5,   9,  10,  20,  21,  25,  28,  29,  34,  36,\n        47,  48,  49,  50,  55,  59,  60,  62,  66,  67,  71,  76,  82,\n        86,  88,  89,  91,  94,  96, 100, 101, 103, 105, 106, 108, 121,\n       123, 125, 126, 130, 133, 135, 140, 144, 145, 147, 153, 154, 159,\n       162, 168, 170, 177, 178, 179, 180, 181, 186, 189, 190, 191, 195,\n       196, 197, 198, 203, 206, 210, 211, 213, 216, 223, 226, 228, 229,\n       234, 236, 238, 239, 251, 253, 254], dtype=int64)"
     },
     "execution_count": 49,
     "metadata": {},
     "output_type": "execute_result"
    }
   ]
  },
  {
   "cell_type": "code",
   "source": [
    "col,=np.where(dfNaN.sum()==264)\n",
    "col"
   ],
   "metadata": {
    "colab": {
     "base_uri": "https://localhost:8080/"
    },
    "id": "_8uhS0qhiXAG",
    "executionInfo": {
     "status": "ok",
     "timestamp": 1676338323973,
     "user_tz": 360,
     "elapsed": 299,
     "user": {
      "displayName": "Carlos Arellano",
      "userId": "03055712073717640513"
     }
    },
    "outputId": "a6eb3f3b-819a-41e4-f3b5-eb1d9cff71d1"
   },
   "execution_count": 50,
   "outputs": [
    {
     "data": {
      "text/plain": "array([ 2,  3,  4,  5,  6,  7,  8, 10, 12, 14, 15, 18, 61, 62],\n      dtype=int64)"
     },
     "execution_count": 50,
     "metadata": {},
     "output_type": "execute_result"
    }
   ]
  },
  {
   "cell_type": "code",
   "source": [
    "df.drop(index=idx,columns=df.columns[col])"
   ],
   "metadata": {
    "colab": {
     "base_uri": "https://localhost:8080/",
     "height": 502
    },
    "id": "F31qKcvfiqKD",
    "executionInfo": {
     "status": "ok",
     "timestamp": 1676338366346,
     "user_tz": 360,
     "elapsed": 824,
     "user": {
      "displayName": "Carlos Arellano",
      "userId": "03055712073717640513"
     }
    },
    "outputId": "96327ba5-6211-4cc3-a756-086863585af9"
   },
   "execution_count": 51,
   "outputs": [
    {
     "data": {
      "text/plain": "             Country Name Country Code  1967  1969  1971  1974  1975  1977  \\\n2                  Angola          AGO   NaN   NaN   NaN   NaN   NaN   NaN   \n3                 Albania          ALB   NaN   NaN   NaN   NaN   NaN   NaN   \n6    United Arab Emirates          ARE   NaN   NaN   NaN   NaN   NaN   NaN   \n7               Argentina          ARG   NaN   NaN   NaN   NaN   NaN   NaN   \n8                 Armenia          ARM   NaN   NaN   NaN   NaN   NaN   NaN   \n..                    ...          ...   ...   ...   ...   ...   ...   ...   \n259                Kosovo          XKX   NaN   NaN   NaN   NaN   NaN   NaN   \n260           Yemen, Rep.          YEM   NaN   NaN   NaN   NaN   NaN   NaN   \n261          South Africa          ZAF   NaN   NaN   NaN   NaN   NaN   NaN   \n262                Zambia          ZMB   NaN   NaN   NaN   NaN   NaN   NaN   \n263              Zimbabwe          ZWE   NaN   NaN   NaN   NaN   NaN   NaN   \n\n     1978  1979  ...  2009  2010  2011  2012  2013  2014  2015  2016  2017  \\\n2     NaN   NaN  ...   NaN   NaN   NaN   NaN   NaN   NaN   NaN   NaN   NaN   \n3     NaN   NaN  ...   NaN   NaN   NaN   0.8   NaN   1.6   1.1   0.9   1.3   \n6     NaN   NaN  ...   NaN   NaN   NaN   NaN   NaN   0.0   NaN   NaN   NaN   \n7     NaN   NaN  ...   3.0   2.8   1.1   1.1   1.0   0.9   NaN   1.0   0.8   \n8     NaN   NaN  ...   1.3   1.0   1.2   0.9   1.8   1.5   1.3   1.2   0.9   \n..    ...   ...  ...   ...   ...   ...   ...   ...   ...   ...   ...   ...   \n259   NaN   NaN  ...   3.2   2.5   1.7   0.6   0.3   1.0   0.7   0.8   0.4   \n260   NaN   NaN  ...   NaN   NaN   NaN   NaN   NaN  18.3   NaN   NaN   NaN   \n261   NaN   NaN  ...   NaN  16.2   NaN   NaN   NaN  18.7   NaN   NaN   NaN   \n262   NaN   NaN  ...   NaN  65.8   NaN   NaN   NaN   NaN  58.7   NaN   NaN   \n263   NaN   NaN  ...   NaN   NaN  21.4   NaN   NaN   NaN   NaN   NaN  33.9   \n\n     2018  \n2    51.8  \n3     NaN  \n6     NaN  \n7     1.3  \n8     1.4  \n..    ...  \n259   NaN  \n260   NaN  \n261   NaN  \n262   NaN  \n263   NaN  \n\n[179 rows x 49 columns]",
      "text/html": "<div>\n<style scoped>\n    .dataframe tbody tr th:only-of-type {\n        vertical-align: middle;\n    }\n\n    .dataframe tbody tr th {\n        vertical-align: top;\n    }\n\n    .dataframe thead th {\n        text-align: right;\n    }\n</style>\n<table border=\"1\" class=\"dataframe\">\n  <thead>\n    <tr style=\"text-align: right;\">\n      <th></th>\n      <th>Country Name</th>\n      <th>Country Code</th>\n      <th>1967</th>\n      <th>1969</th>\n      <th>1971</th>\n      <th>1974</th>\n      <th>1975</th>\n      <th>1977</th>\n      <th>1978</th>\n      <th>1979</th>\n      <th>...</th>\n      <th>2009</th>\n      <th>2010</th>\n      <th>2011</th>\n      <th>2012</th>\n      <th>2013</th>\n      <th>2014</th>\n      <th>2015</th>\n      <th>2016</th>\n      <th>2017</th>\n      <th>2018</th>\n    </tr>\n  </thead>\n  <tbody>\n    <tr>\n      <th>2</th>\n      <td>Angola</td>\n      <td>AGO</td>\n      <td>NaN</td>\n      <td>NaN</td>\n      <td>NaN</td>\n      <td>NaN</td>\n      <td>NaN</td>\n      <td>NaN</td>\n      <td>NaN</td>\n      <td>NaN</td>\n      <td>...</td>\n      <td>NaN</td>\n      <td>NaN</td>\n      <td>NaN</td>\n      <td>NaN</td>\n      <td>NaN</td>\n      <td>NaN</td>\n      <td>NaN</td>\n      <td>NaN</td>\n      <td>NaN</td>\n      <td>51.8</td>\n    </tr>\n    <tr>\n      <th>3</th>\n      <td>Albania</td>\n      <td>ALB</td>\n      <td>NaN</td>\n      <td>NaN</td>\n      <td>NaN</td>\n      <td>NaN</td>\n      <td>NaN</td>\n      <td>NaN</td>\n      <td>NaN</td>\n      <td>NaN</td>\n      <td>...</td>\n      <td>NaN</td>\n      <td>NaN</td>\n      <td>NaN</td>\n      <td>0.8</td>\n      <td>NaN</td>\n      <td>1.6</td>\n      <td>1.1</td>\n      <td>0.9</td>\n      <td>1.3</td>\n      <td>NaN</td>\n    </tr>\n    <tr>\n      <th>6</th>\n      <td>United Arab Emirates</td>\n      <td>ARE</td>\n      <td>NaN</td>\n      <td>NaN</td>\n      <td>NaN</td>\n      <td>NaN</td>\n      <td>NaN</td>\n      <td>NaN</td>\n      <td>NaN</td>\n      <td>NaN</td>\n      <td>...</td>\n      <td>NaN</td>\n      <td>NaN</td>\n      <td>NaN</td>\n      <td>NaN</td>\n      <td>NaN</td>\n      <td>0.0</td>\n      <td>NaN</td>\n      <td>NaN</td>\n      <td>NaN</td>\n      <td>NaN</td>\n    </tr>\n    <tr>\n      <th>7</th>\n      <td>Argentina</td>\n      <td>ARG</td>\n      <td>NaN</td>\n      <td>NaN</td>\n      <td>NaN</td>\n      <td>NaN</td>\n      <td>NaN</td>\n      <td>NaN</td>\n      <td>NaN</td>\n      <td>NaN</td>\n      <td>...</td>\n      <td>3.0</td>\n      <td>2.8</td>\n      <td>1.1</td>\n      <td>1.1</td>\n      <td>1.0</td>\n      <td>0.9</td>\n      <td>NaN</td>\n      <td>1.0</td>\n      <td>0.8</td>\n      <td>1.3</td>\n    </tr>\n    <tr>\n      <th>8</th>\n      <td>Armenia</td>\n      <td>ARM</td>\n      <td>NaN</td>\n      <td>NaN</td>\n      <td>NaN</td>\n      <td>NaN</td>\n      <td>NaN</td>\n      <td>NaN</td>\n      <td>NaN</td>\n      <td>NaN</td>\n      <td>...</td>\n      <td>1.3</td>\n      <td>1.0</td>\n      <td>1.2</td>\n      <td>0.9</td>\n      <td>1.8</td>\n      <td>1.5</td>\n      <td>1.3</td>\n      <td>1.2</td>\n      <td>0.9</td>\n      <td>1.4</td>\n    </tr>\n    <tr>\n      <th>...</th>\n      <td>...</td>\n      <td>...</td>\n      <td>...</td>\n      <td>...</td>\n      <td>...</td>\n      <td>...</td>\n      <td>...</td>\n      <td>...</td>\n      <td>...</td>\n      <td>...</td>\n      <td>...</td>\n      <td>...</td>\n      <td>...</td>\n      <td>...</td>\n      <td>...</td>\n      <td>...</td>\n      <td>...</td>\n      <td>...</td>\n      <td>...</td>\n      <td>...</td>\n      <td>...</td>\n    </tr>\n    <tr>\n      <th>259</th>\n      <td>Kosovo</td>\n      <td>XKX</td>\n      <td>NaN</td>\n      <td>NaN</td>\n      <td>NaN</td>\n      <td>NaN</td>\n      <td>NaN</td>\n      <td>NaN</td>\n      <td>NaN</td>\n      <td>NaN</td>\n      <td>...</td>\n      <td>3.2</td>\n      <td>2.5</td>\n      <td>1.7</td>\n      <td>0.6</td>\n      <td>0.3</td>\n      <td>1.0</td>\n      <td>0.7</td>\n      <td>0.8</td>\n      <td>0.4</td>\n      <td>NaN</td>\n    </tr>\n    <tr>\n      <th>260</th>\n      <td>Yemen, Rep.</td>\n      <td>YEM</td>\n      <td>NaN</td>\n      <td>NaN</td>\n      <td>NaN</td>\n      <td>NaN</td>\n      <td>NaN</td>\n      <td>NaN</td>\n      <td>NaN</td>\n      <td>NaN</td>\n      <td>...</td>\n      <td>NaN</td>\n      <td>NaN</td>\n      <td>NaN</td>\n      <td>NaN</td>\n      <td>NaN</td>\n      <td>18.3</td>\n      <td>NaN</td>\n      <td>NaN</td>\n      <td>NaN</td>\n      <td>NaN</td>\n    </tr>\n    <tr>\n      <th>261</th>\n      <td>South Africa</td>\n      <td>ZAF</td>\n      <td>NaN</td>\n      <td>NaN</td>\n      <td>NaN</td>\n      <td>NaN</td>\n      <td>NaN</td>\n      <td>NaN</td>\n      <td>NaN</td>\n      <td>NaN</td>\n      <td>...</td>\n      <td>NaN</td>\n      <td>16.2</td>\n      <td>NaN</td>\n      <td>NaN</td>\n      <td>NaN</td>\n      <td>18.7</td>\n      <td>NaN</td>\n      <td>NaN</td>\n      <td>NaN</td>\n      <td>NaN</td>\n    </tr>\n    <tr>\n      <th>262</th>\n      <td>Zambia</td>\n      <td>ZMB</td>\n      <td>NaN</td>\n      <td>NaN</td>\n      <td>NaN</td>\n      <td>NaN</td>\n      <td>NaN</td>\n      <td>NaN</td>\n      <td>NaN</td>\n      <td>NaN</td>\n      <td>...</td>\n      <td>NaN</td>\n      <td>65.8</td>\n      <td>NaN</td>\n      <td>NaN</td>\n      <td>NaN</td>\n      <td>NaN</td>\n      <td>58.7</td>\n      <td>NaN</td>\n      <td>NaN</td>\n      <td>NaN</td>\n    </tr>\n    <tr>\n      <th>263</th>\n      <td>Zimbabwe</td>\n      <td>ZWE</td>\n      <td>NaN</td>\n      <td>NaN</td>\n      <td>NaN</td>\n      <td>NaN</td>\n      <td>NaN</td>\n      <td>NaN</td>\n      <td>NaN</td>\n      <td>NaN</td>\n      <td>...</td>\n      <td>NaN</td>\n      <td>NaN</td>\n      <td>21.4</td>\n      <td>NaN</td>\n      <td>NaN</td>\n      <td>NaN</td>\n      <td>NaN</td>\n      <td>NaN</td>\n      <td>33.9</td>\n      <td>NaN</td>\n    </tr>\n  </tbody>\n</table>\n<p>179 rows × 49 columns</p>\n</div>"
     },
     "execution_count": 51,
     "metadata": {},
     "output_type": "execute_result"
    }
   ]
  },
  {
   "cell_type": "code",
   "source": [
    "np.random.seed(666)\n",
    "df=pd.DataFrame(data=np.random.randn(100,4)+np.random.rand(4),columns=['A','B','C','D'])\n",
    "nansA=[25,30,58,70,71]\n",
    "nansB=np.random.randint(99,size=np.random.randint(20))\n",
    "nansC=np.random.randint(99,size=np.random.randint(20))\n",
    "df.loc[nansA,'A']=np.NaN\n",
    "df.iloc[nansB,1]=np.NaN\n",
    "df.loc[nansC,'C']=np.NaN\n",
    "df.isna().sum()"
   ],
   "metadata": {
    "colab": {
     "base_uri": "https://localhost:8080/"
    },
    "id": "bbub6QC5kKOy",
    "executionInfo": {
     "status": "ok",
     "timestamp": 1676513325051,
     "user_tz": 360,
     "elapsed": 161,
     "user": {
      "displayName": "Carlos Arellano",
      "userId": "03055712073717640513"
     }
    },
    "outputId": "460836f1-89c2-404d-9720-5304a7ce458e"
   },
   "execution_count": 52,
   "outputs": [
    {
     "data": {
      "text/plain": "A     5\nB     7\nC    18\nD     0\ndtype: int64"
     },
     "execution_count": 52,
     "metadata": {},
     "output_type": "execute_result"
    }
   ]
  },
  {
   "cell_type": "code",
   "source": [
    "nansC"
   ],
   "metadata": {
    "colab": {
     "base_uri": "https://localhost:8080/"
    },
    "id": "P6o5nkuhovFm",
    "executionInfo": {
     "status": "ok",
     "timestamp": 1676339813759,
     "user_tz": 360,
     "elapsed": 5,
     "user": {
      "displayName": "Carlos Arellano",
      "userId": "03055712073717640513"
     }
    },
    "outputId": "284b3f0c-22db-44bf-a47b-08949f14bc21"
   },
   "execution_count": 53,
   "outputs": [
    {
     "data": {
      "text/plain": "array([81, 61, 13, 46, 83, 50, 77,  5, 73, 15, 17, 54,  6, 40, 45, 74, 67,\n       71])"
     },
     "execution_count": 53,
     "metadata": {},
     "output_type": "execute_result"
    }
   ]
  },
  {
   "cell_type": "code",
   "source": [
    "# Eliminando filas (observaciones)\n",
    "df.dropna().iloc[17:28]"
   ],
   "metadata": {
    "colab": {
     "base_uri": "https://localhost:8080/",
     "height": 394
    },
    "id": "3B1hacmwlzN0",
    "executionInfo": {
     "status": "ok",
     "timestamp": 1676339116947,
     "user_tz": 360,
     "elapsed": 299,
     "user": {
      "displayName": "Carlos Arellano",
      "userId": "03055712073717640513"
     }
    },
    "outputId": "998decae-808b-4ef6-c932-9dc017e5e1a1"
   },
   "execution_count": 54,
   "outputs": [
    {
     "data": {
      "text/plain": "           A         B         C         D\n22 -1.907541  0.203930 -1.437618  0.638521\n23  0.301843 -0.184983 -0.947915  2.394596\n24 -0.056119 -0.472800  1.266256  2.546835\n26 -0.834386 -0.360385 -0.274807  1.877789\n27 -0.602843  2.699373  1.950264  0.762447\n28  0.286827  0.507209  0.495390  0.739651\n29  0.919054 -1.567961  0.072833  0.041785\n31  1.438280 -0.504422  0.407508 -0.705341\n32  1.188013 -0.479266  0.318528  1.030024\n33  0.515425  1.568134 -0.477285  1.108230\n34  1.467486  0.012277  3.350176 -0.290140",
      "text/html": "<div>\n<style scoped>\n    .dataframe tbody tr th:only-of-type {\n        vertical-align: middle;\n    }\n\n    .dataframe tbody tr th {\n        vertical-align: top;\n    }\n\n    .dataframe thead th {\n        text-align: right;\n    }\n</style>\n<table border=\"1\" class=\"dataframe\">\n  <thead>\n    <tr style=\"text-align: right;\">\n      <th></th>\n      <th>A</th>\n      <th>B</th>\n      <th>C</th>\n      <th>D</th>\n    </tr>\n  </thead>\n  <tbody>\n    <tr>\n      <th>22</th>\n      <td>-1.907541</td>\n      <td>0.203930</td>\n      <td>-1.437618</td>\n      <td>0.638521</td>\n    </tr>\n    <tr>\n      <th>23</th>\n      <td>0.301843</td>\n      <td>-0.184983</td>\n      <td>-0.947915</td>\n      <td>2.394596</td>\n    </tr>\n    <tr>\n      <th>24</th>\n      <td>-0.056119</td>\n      <td>-0.472800</td>\n      <td>1.266256</td>\n      <td>2.546835</td>\n    </tr>\n    <tr>\n      <th>26</th>\n      <td>-0.834386</td>\n      <td>-0.360385</td>\n      <td>-0.274807</td>\n      <td>1.877789</td>\n    </tr>\n    <tr>\n      <th>27</th>\n      <td>-0.602843</td>\n      <td>2.699373</td>\n      <td>1.950264</td>\n      <td>0.762447</td>\n    </tr>\n    <tr>\n      <th>28</th>\n      <td>0.286827</td>\n      <td>0.507209</td>\n      <td>0.495390</td>\n      <td>0.739651</td>\n    </tr>\n    <tr>\n      <th>29</th>\n      <td>0.919054</td>\n      <td>-1.567961</td>\n      <td>0.072833</td>\n      <td>0.041785</td>\n    </tr>\n    <tr>\n      <th>31</th>\n      <td>1.438280</td>\n      <td>-0.504422</td>\n      <td>0.407508</td>\n      <td>-0.705341</td>\n    </tr>\n    <tr>\n      <th>32</th>\n      <td>1.188013</td>\n      <td>-0.479266</td>\n      <td>0.318528</td>\n      <td>1.030024</td>\n    </tr>\n    <tr>\n      <th>33</th>\n      <td>0.515425</td>\n      <td>1.568134</td>\n      <td>-0.477285</td>\n      <td>1.108230</td>\n    </tr>\n    <tr>\n      <th>34</th>\n      <td>1.467486</td>\n      <td>0.012277</td>\n      <td>3.350176</td>\n      <td>-0.290140</td>\n    </tr>\n  </tbody>\n</table>\n</div>"
     },
     "execution_count": 54,
     "metadata": {},
     "output_type": "execute_result"
    }
   ]
  },
  {
   "cell_type": "code",
   "source": [
    "# Eliminando columnas (variables)\n",
    "df.dropna(axis=1)"
   ],
   "metadata": {
    "colab": {
     "base_uri": "https://localhost:8080/",
     "height": 423
    },
    "id": "lGrHCYJFmXcb",
    "executionInfo": {
     "status": "ok",
     "timestamp": 1676339176549,
     "user_tz": 360,
     "elapsed": 282,
     "user": {
      "displayName": "Carlos Arellano",
      "userId": "03055712073717640513"
     }
    },
    "outputId": "25fece09-69ec-4118-af9e-2879e52f6523"
   },
   "execution_count": 55,
   "outputs": [
    {
     "data": {
      "text/plain": "           D\n0   1.733836\n1  -0.118973\n2  -0.106224\n3   0.364201\n4   1.053973\n..       ...\n95  1.346082\n96  1.459219\n97 -0.573220\n98  0.634467\n99  0.161583\n\n[100 rows x 1 columns]",
      "text/html": "<div>\n<style scoped>\n    .dataframe tbody tr th:only-of-type {\n        vertical-align: middle;\n    }\n\n    .dataframe tbody tr th {\n        vertical-align: top;\n    }\n\n    .dataframe thead th {\n        text-align: right;\n    }\n</style>\n<table border=\"1\" class=\"dataframe\">\n  <thead>\n    <tr style=\"text-align: right;\">\n      <th></th>\n      <th>D</th>\n    </tr>\n  </thead>\n  <tbody>\n    <tr>\n      <th>0</th>\n      <td>1.733836</td>\n    </tr>\n    <tr>\n      <th>1</th>\n      <td>-0.118973</td>\n    </tr>\n    <tr>\n      <th>2</th>\n      <td>-0.106224</td>\n    </tr>\n    <tr>\n      <th>3</th>\n      <td>0.364201</td>\n    </tr>\n    <tr>\n      <th>4</th>\n      <td>1.053973</td>\n    </tr>\n    <tr>\n      <th>...</th>\n      <td>...</td>\n    </tr>\n    <tr>\n      <th>95</th>\n      <td>1.346082</td>\n    </tr>\n    <tr>\n      <th>96</th>\n      <td>1.459219</td>\n    </tr>\n    <tr>\n      <th>97</th>\n      <td>-0.573220</td>\n    </tr>\n    <tr>\n      <th>98</th>\n      <td>0.634467</td>\n    </tr>\n    <tr>\n      <th>99</th>\n      <td>0.161583</td>\n    </tr>\n  </tbody>\n</table>\n<p>100 rows × 1 columns</p>\n</div>"
     },
     "execution_count": 55,
     "metadata": {},
     "output_type": "execute_result"
    }
   ]
  },
  {
   "cell_type": "markdown",
   "source": [
    "# Imputación de datos"
   ],
   "metadata": {
    "id": "im28vyx7xvOQ"
   }
  },
  {
   "cell_type": "code",
   "source": [
    "#@title Sustitución por media\n",
    "m=df.mean()\n",
    "s=df.std(ddof=0)\n",
    "m"
   ],
   "metadata": {
    "id": "4fe3NcZ8x0ZQ",
    "colab": {
     "base_uri": "https://localhost:8080/"
    },
    "executionInfo": {
     "status": "ok",
     "timestamp": 1676513338234,
     "user_tz": 360,
     "elapsed": 128,
     "user": {
      "displayName": "Carlos Arellano",
      "userId": "03055712073717640513"
     }
    },
    "outputId": "8cc88eaf-d9da-46a2-8d1c-90f0a5715df0"
   },
   "execution_count": 56,
   "outputs": [
    {
     "data": {
      "text/plain": "A   -0.049335\nB    0.321315\nC    0.161571\nD    0.930127\ndtype: float64"
     },
     "execution_count": 56,
     "metadata": {},
     "output_type": "execute_result"
    }
   ]
  },
  {
   "cell_type": "code",
   "source": [
    "dfm=df.copy()\n",
    "dfm=df.fillna(m)\n",
    "dfm.iloc[23:32]"
   ],
   "metadata": {
    "colab": {
     "base_uri": "https://localhost:8080/",
     "height": 331
    },
    "id": "2SpiIwCdm05u",
    "executionInfo": {
     "status": "ok",
     "timestamp": 1676513339069,
     "user_tz": 360,
     "elapsed": 3,
     "user": {
      "displayName": "Carlos Arellano",
      "userId": "03055712073717640513"
     }
    },
    "outputId": "f4d5168a-82d9-41ac-c24f-c33581124f8c"
   },
   "execution_count": 57,
   "outputs": [
    {
     "data": {
      "text/plain": "           A         B         C         D\n23  0.301843 -0.184983 -0.947915  2.394596\n24 -0.056119 -0.472800  1.266256  2.546835\n25 -0.049335  1.014484 -0.502047  2.687678\n26 -0.834386 -0.360385 -0.274807  1.877789\n27 -0.602843  2.699373  1.950264  0.762447\n28  0.286827  0.507209  0.495390  0.739651\n29  0.919054 -1.567961  0.072833  0.041785\n30 -0.049335 -1.372868 -0.172903  1.494710\n31  1.438280 -0.504422  0.407508 -0.705341",
      "text/html": "<div>\n<style scoped>\n    .dataframe tbody tr th:only-of-type {\n        vertical-align: middle;\n    }\n\n    .dataframe tbody tr th {\n        vertical-align: top;\n    }\n\n    .dataframe thead th {\n        text-align: right;\n    }\n</style>\n<table border=\"1\" class=\"dataframe\">\n  <thead>\n    <tr style=\"text-align: right;\">\n      <th></th>\n      <th>A</th>\n      <th>B</th>\n      <th>C</th>\n      <th>D</th>\n    </tr>\n  </thead>\n  <tbody>\n    <tr>\n      <th>23</th>\n      <td>0.301843</td>\n      <td>-0.184983</td>\n      <td>-0.947915</td>\n      <td>2.394596</td>\n    </tr>\n    <tr>\n      <th>24</th>\n      <td>-0.056119</td>\n      <td>-0.472800</td>\n      <td>1.266256</td>\n      <td>2.546835</td>\n    </tr>\n    <tr>\n      <th>25</th>\n      <td>-0.049335</td>\n      <td>1.014484</td>\n      <td>-0.502047</td>\n      <td>2.687678</td>\n    </tr>\n    <tr>\n      <th>26</th>\n      <td>-0.834386</td>\n      <td>-0.360385</td>\n      <td>-0.274807</td>\n      <td>1.877789</td>\n    </tr>\n    <tr>\n      <th>27</th>\n      <td>-0.602843</td>\n      <td>2.699373</td>\n      <td>1.950264</td>\n      <td>0.762447</td>\n    </tr>\n    <tr>\n      <th>28</th>\n      <td>0.286827</td>\n      <td>0.507209</td>\n      <td>0.495390</td>\n      <td>0.739651</td>\n    </tr>\n    <tr>\n      <th>29</th>\n      <td>0.919054</td>\n      <td>-1.567961</td>\n      <td>0.072833</td>\n      <td>0.041785</td>\n    </tr>\n    <tr>\n      <th>30</th>\n      <td>-0.049335</td>\n      <td>-1.372868</td>\n      <td>-0.172903</td>\n      <td>1.494710</td>\n    </tr>\n    <tr>\n      <th>31</th>\n      <td>1.438280</td>\n      <td>-0.504422</td>\n      <td>0.407508</td>\n      <td>-0.705341</td>\n    </tr>\n  </tbody>\n</table>\n</div>"
     },
     "execution_count": 57,
     "metadata": {},
     "output_type": "execute_result"
    }
   ]
  },
  {
   "cell_type": "code",
   "source": [
    "m-dfm.mean()"
   ],
   "metadata": {
    "colab": {
     "base_uri": "https://localhost:8080/"
    },
    "id": "7APfUVEinIwv",
    "executionInfo": {
     "status": "ok",
     "timestamp": 1676513342026,
     "user_tz": 360,
     "elapsed": 181,
     "user": {
      "displayName": "Carlos Arellano",
      "userId": "03055712073717640513"
     }
    },
    "outputId": "503c8db7-4dbb-4022-fce9-63ef74271a86"
   },
   "execution_count": 58,
   "outputs": [
    {
     "data": {
      "text/plain": "A    2.081668e-17\nB    5.551115e-17\nC   -2.775558e-17\nD    0.000000e+00\ndtype: float64"
     },
     "execution_count": 58,
     "metadata": {},
     "output_type": "execute_result"
    }
   ]
  },
  {
   "cell_type": "code",
   "source": [
    "s-dfm.std(ddof=0) # Positivas"
   ],
   "metadata": {
    "colab": {
     "base_uri": "https://localhost:8080/"
    },
    "id": "zxRLk3qonY5e",
    "executionInfo": {
     "status": "ok",
     "timestamp": 1676513342641,
     "user_tz": 360,
     "elapsed": 120,
     "user": {
      "displayName": "Carlos Arellano",
      "userId": "03055712073717640513"
     }
    },
    "outputId": "42efe3e5-45b7-4d42-f69b-b2edc4e45106"
   },
   "execution_count": 59,
   "outputs": [
    {
     "data": {
      "text/plain": "A    0.026029\nB    0.036047\nC    0.102632\nD    0.000000\ndtype: float64"
     },
     "execution_count": 59,
     "metadata": {},
     "output_type": "execute_result"
    }
   ]
  },
  {
   "cell_type": "code",
   "source": [
    "#@title Sustitución por mediana\n",
    "me=df.median()\n",
    "me"
   ],
   "metadata": {
    "id": "FFOTLpufnurN",
    "colab": {
     "base_uri": "https://localhost:8080/"
    },
    "executionInfo": {
     "status": "ok",
     "timestamp": 1676513660899,
     "user_tz": 360,
     "elapsed": 4,
     "user": {
      "displayName": "Carlos Arellano",
      "userId": "03055712073717640513"
     }
    },
    "outputId": "d672ea78-2d0e-446c-afe9-a14b64336890"
   },
   "execution_count": 60,
   "outputs": [
    {
     "data": {
      "text/plain": "A   -0.034494\nB    0.222627\nC    0.129817\nD    0.954997\ndtype: float64"
     },
     "execution_count": 60,
     "metadata": {},
     "output_type": "execute_result"
    }
   ]
  },
  {
   "cell_type": "code",
   "source": [
    "dfme=df.copy()\n",
    "dfme.fillna(me,inplace=True)\n",
    "dfme.iloc[23:32]"
   ],
   "metadata": {
    "colab": {
     "base_uri": "https://localhost:8080/",
     "height": 331
    },
    "id": "0AMbB7UHAE4_",
    "executionInfo": {
     "status": "ok",
     "timestamp": 1676513720164,
     "user_tz": 360,
     "elapsed": 115,
     "user": {
      "displayName": "Carlos Arellano",
      "userId": "03055712073717640513"
     }
    },
    "outputId": "88bb87fb-dae8-4aff-e6ab-7f6e5b62b909"
   },
   "execution_count": 61,
   "outputs": [
    {
     "data": {
      "text/plain": "           A         B         C         D\n23  0.301843 -0.184983 -0.947915  2.394596\n24 -0.056119 -0.472800  1.266256  2.546835\n25 -0.034494  1.014484 -0.502047  2.687678\n26 -0.834386 -0.360385 -0.274807  1.877789\n27 -0.602843  2.699373  1.950264  0.762447\n28  0.286827  0.507209  0.495390  0.739651\n29  0.919054 -1.567961  0.072833  0.041785\n30 -0.034494 -1.372868 -0.172903  1.494710\n31  1.438280 -0.504422  0.407508 -0.705341",
      "text/html": "<div>\n<style scoped>\n    .dataframe tbody tr th:only-of-type {\n        vertical-align: middle;\n    }\n\n    .dataframe tbody tr th {\n        vertical-align: top;\n    }\n\n    .dataframe thead th {\n        text-align: right;\n    }\n</style>\n<table border=\"1\" class=\"dataframe\">\n  <thead>\n    <tr style=\"text-align: right;\">\n      <th></th>\n      <th>A</th>\n      <th>B</th>\n      <th>C</th>\n      <th>D</th>\n    </tr>\n  </thead>\n  <tbody>\n    <tr>\n      <th>23</th>\n      <td>0.301843</td>\n      <td>-0.184983</td>\n      <td>-0.947915</td>\n      <td>2.394596</td>\n    </tr>\n    <tr>\n      <th>24</th>\n      <td>-0.056119</td>\n      <td>-0.472800</td>\n      <td>1.266256</td>\n      <td>2.546835</td>\n    </tr>\n    <tr>\n      <th>25</th>\n      <td>-0.034494</td>\n      <td>1.014484</td>\n      <td>-0.502047</td>\n      <td>2.687678</td>\n    </tr>\n    <tr>\n      <th>26</th>\n      <td>-0.834386</td>\n      <td>-0.360385</td>\n      <td>-0.274807</td>\n      <td>1.877789</td>\n    </tr>\n    <tr>\n      <th>27</th>\n      <td>-0.602843</td>\n      <td>2.699373</td>\n      <td>1.950264</td>\n      <td>0.762447</td>\n    </tr>\n    <tr>\n      <th>28</th>\n      <td>0.286827</td>\n      <td>0.507209</td>\n      <td>0.495390</td>\n      <td>0.739651</td>\n    </tr>\n    <tr>\n      <th>29</th>\n      <td>0.919054</td>\n      <td>-1.567961</td>\n      <td>0.072833</td>\n      <td>0.041785</td>\n    </tr>\n    <tr>\n      <th>30</th>\n      <td>-0.034494</td>\n      <td>-1.372868</td>\n      <td>-0.172903</td>\n      <td>1.494710</td>\n    </tr>\n    <tr>\n      <th>31</th>\n      <td>1.438280</td>\n      <td>-0.504422</td>\n      <td>0.407508</td>\n      <td>-0.705341</td>\n    </tr>\n  </tbody>\n</table>\n</div>"
     },
     "execution_count": 61,
     "metadata": {},
     "output_type": "execute_result"
    }
   ]
  },
  {
   "cell_type": "code",
   "source": [
    "s-dfme.std(ddof=0)"
   ],
   "metadata": {
    "colab": {
     "base_uri": "https://localhost:8080/"
    },
    "id": "AMTG7ikPATYH",
    "executionInfo": {
     "status": "ok",
     "timestamp": 1676513760610,
     "user_tz": 360,
     "elapsed": 134,
     "user": {
      "displayName": "Carlos Arellano",
      "userId": "03055712073717640513"
     }
    },
    "outputId": "15c0631f-790e-4ebd-9001-a733f33a51e8"
   },
   "execution_count": 62,
   "outputs": [
    {
     "data": {
      "text/plain": "A    0.026023\nB    0.035722\nC    0.102556\nD    0.000000\ndtype: float64"
     },
     "execution_count": 62,
     "metadata": {},
     "output_type": "execute_result"
    }
   ]
  },
  {
   "cell_type": "code",
   "source": [
    "me-dfme.median()"
   ],
   "metadata": {
    "colab": {
     "base_uri": "https://localhost:8080/"
    },
    "id": "uLpRjJP7AdPf",
    "executionInfo": {
     "status": "ok",
     "timestamp": 1676513785684,
     "user_tz": 360,
     "elapsed": 144,
     "user": {
      "displayName": "Carlos Arellano",
      "userId": "03055712073717640513"
     }
    },
    "outputId": "0e275946-08e6-4510-9364-376006fdfcb8"
   },
   "execution_count": 63,
   "outputs": [
    {
     "data": {
      "text/plain": "A    0.0\nB    0.0\nC    0.0\nD    0.0\ndtype: float64"
     },
     "execution_count": 63,
     "metadata": {},
     "output_type": "execute_result"
    }
   ]
  },
  {
   "cell_type": "code",
   "source": [
    "#@title Sustitución por moda\n",
    "mo=df.mode().iloc[0]\n",
    "mo"
   ],
   "metadata": {
    "colab": {
     "base_uri": "https://localhost:8080/"
    },
    "id": "6Wrh7x46_Q2U",
    "executionInfo": {
     "status": "ok",
     "timestamp": 1676513906237,
     "user_tz": 360,
     "elapsed": 152,
     "user": {
      "displayName": "Carlos Arellano",
      "userId": "03055712073717640513"
     }
    },
    "outputId": "cc5598f2-72f2-4170-d3e4-194f2080c2a3"
   },
   "execution_count": 64,
   "outputs": [
    {
     "data": {
      "text/plain": "A   -3.160084\nB   -1.567961\nC   -2.627232\nD   -1.036191\nName: 0, dtype: float64"
     },
     "execution_count": 64,
     "metadata": {},
     "output_type": "execute_result"
    }
   ]
  },
  {
   "cell_type": "code",
   "source": [
    "dfmo=df.copy()\n",
    "dfmo.fillna(mo,inplace=True)"
   ],
   "metadata": {
    "id": "7PxWvX1yAvnN",
    "executionInfo": {
     "status": "ok",
     "timestamp": 1676514072145,
     "user_tz": 360,
     "elapsed": 235,
     "user": {
      "displayName": "Carlos Arellano",
      "userId": "03055712073717640513"
     }
    }
   },
   "execution_count": 65,
   "outputs": []
  },
  {
   "cell_type": "code",
   "source": [
    "dfmo.mode()"
   ],
   "metadata": {
    "id": "VB1qjgC7BpQ1"
   },
   "execution_count": 66,
   "outputs": [
    {
     "data": {
      "text/plain": "           A         B         C         D\n0  -3.160084 -1.567961 -2.627232 -1.036191\n1        NaN       NaN       NaN -1.005891\n2        NaN       NaN       NaN -0.975912\n3        NaN       NaN       NaN -0.863158\n4        NaN       NaN       NaN -0.705341\n..       ...       ...       ...       ...\n95       NaN       NaN       NaN  2.546835\n96       NaN       NaN       NaN  2.564039\n97       NaN       NaN       NaN  2.574154\n98       NaN       NaN       NaN  2.592995\n99       NaN       NaN       NaN  2.687678\n\n[100 rows x 4 columns]",
      "text/html": "<div>\n<style scoped>\n    .dataframe tbody tr th:only-of-type {\n        vertical-align: middle;\n    }\n\n    .dataframe tbody tr th {\n        vertical-align: top;\n    }\n\n    .dataframe thead th {\n        text-align: right;\n    }\n</style>\n<table border=\"1\" class=\"dataframe\">\n  <thead>\n    <tr style=\"text-align: right;\">\n      <th></th>\n      <th>A</th>\n      <th>B</th>\n      <th>C</th>\n      <th>D</th>\n    </tr>\n  </thead>\n  <tbody>\n    <tr>\n      <th>0</th>\n      <td>-3.160084</td>\n      <td>-1.567961</td>\n      <td>-2.627232</td>\n      <td>-1.036191</td>\n    </tr>\n    <tr>\n      <th>1</th>\n      <td>NaN</td>\n      <td>NaN</td>\n      <td>NaN</td>\n      <td>-1.005891</td>\n    </tr>\n    <tr>\n      <th>2</th>\n      <td>NaN</td>\n      <td>NaN</td>\n      <td>NaN</td>\n      <td>-0.975912</td>\n    </tr>\n    <tr>\n      <th>3</th>\n      <td>NaN</td>\n      <td>NaN</td>\n      <td>NaN</td>\n      <td>-0.863158</td>\n    </tr>\n    <tr>\n      <th>4</th>\n      <td>NaN</td>\n      <td>NaN</td>\n      <td>NaN</td>\n      <td>-0.705341</td>\n    </tr>\n    <tr>\n      <th>...</th>\n      <td>...</td>\n      <td>...</td>\n      <td>...</td>\n      <td>...</td>\n    </tr>\n    <tr>\n      <th>95</th>\n      <td>NaN</td>\n      <td>NaN</td>\n      <td>NaN</td>\n      <td>2.546835</td>\n    </tr>\n    <tr>\n      <th>96</th>\n      <td>NaN</td>\n      <td>NaN</td>\n      <td>NaN</td>\n      <td>2.564039</td>\n    </tr>\n    <tr>\n      <th>97</th>\n      <td>NaN</td>\n      <td>NaN</td>\n      <td>NaN</td>\n      <td>2.574154</td>\n    </tr>\n    <tr>\n      <th>98</th>\n      <td>NaN</td>\n      <td>NaN</td>\n      <td>NaN</td>\n      <td>2.592995</td>\n    </tr>\n    <tr>\n      <th>99</th>\n      <td>NaN</td>\n      <td>NaN</td>\n      <td>NaN</td>\n      <td>2.687678</td>\n    </tr>\n  </tbody>\n</table>\n<p>100 rows × 4 columns</p>\n</div>"
     },
     "execution_count": 66,
     "metadata": {},
     "output_type": "execute_result"
    }
   ]
  },
  {
   "cell_type": "code",
   "source": [
    "s-dfmo.std(ddof=0) # :O"
   ],
   "metadata": {
    "colab": {
     "base_uri": "https://localhost:8080/"
    },
    "id": "iNWx5yJXCJ0g",
    "executionInfo": {
     "status": "ok",
     "timestamp": 1676514224238,
     "user_tz": 360,
     "elapsed": 130,
     "user": {
      "displayName": "Carlos Arellano",
      "userId": "03055712073717640513"
     }
    },
    "outputId": "9c563a2f-4e9f-4477-e67f-7cffb19b19f3"
   },
   "execution_count": 67,
   "outputs": [
    {
     "data": {
      "text/plain": "A   -0.181797\nB   -0.076552\nC   -0.368131\nD    0.000000\ndtype: float64"
     },
     "execution_count": 67,
     "metadata": {},
     "output_type": "execute_result"
    }
   ]
  },
  {
   "cell_type": "code",
   "source": [
    "#@title Sustitución aleatoria\n",
    "dim=df.A.shape[0]\n",
    "i=np.random.randint(dim)\n",
    "v=df.A[i]\n",
    "i,v"
   ],
   "metadata": {
    "colab": {
     "base_uri": "https://localhost:8080/"
    },
    "id": "0850tLrs_WDc",
    "executionInfo": {
     "status": "ok",
     "timestamp": 1676514520572,
     "user_tz": 360,
     "elapsed": 281,
     "user": {
      "displayName": "Carlos Arellano",
      "userId": "03055712073717640513"
     }
    },
    "outputId": "10fb8b9c-3e75-491e-d116-0e4743bcfec1"
   },
   "execution_count": 68,
   "outputs": [
    {
     "data": {
      "text/plain": "(78, -2.1041516871369677)"
     },
     "execution_count": 68,
     "metadata": {},
     "output_type": "execute_result"
    }
   ]
  },
  {
   "cell_type": "code",
   "source": [
    "dim=df.A.dropna().shape[0] # La dimensión ahora es de la variable sin datos perdidos\n",
    "i=np.random.randint(dim)   # \n",
    "v=df.A.dropna().iloc[i]    # Obtenemos el valor aleatorio de la variable sin datos perdidos, desde la posición (no del índice)\n",
    "i,v"
   ],
   "metadata": {
    "colab": {
     "base_uri": "https://localhost:8080/"
    },
    "id": "T5yWw-g0DXKu",
    "executionInfo": {
     "status": "ok",
     "timestamp": 1676515533335,
     "user_tz": 360,
     "elapsed": 130,
     "user": {
      "displayName": "Carlos Arellano",
      "userId": "03055712073717640513"
     }
    },
    "outputId": "527cc578-16c9-40fd-89e5-c79062854947"
   },
   "execution_count": 69,
   "outputs": [
    {
     "data": {
      "text/plain": "(81, 1.7557406473760273)"
     },
     "execution_count": 69,
     "metadata": {},
     "output_type": "execute_result"
    }
   ]
  },
  {
   "cell_type": "code",
   "source": [
    "nans,=np.where(df.A.isna())\n",
    "nans"
   ],
   "metadata": {
    "colab": {
     "base_uri": "https://localhost:8080/"
    },
    "id": "iktQXRXXE6m6",
    "executionInfo": {
     "status": "ok",
     "timestamp": 1676515539907,
     "user_tz": 360,
     "elapsed": 142,
     "user": {
      "displayName": "Carlos Arellano",
      "userId": "03055712073717640513"
     }
    },
    "outputId": "e88f4567-ba36-4cfc-ebe1-31823cbdc0d1"
   },
   "execution_count": 70,
   "outputs": [
    {
     "data": {
      "text/plain": "array([25, 30, 58, 70, 71], dtype=int64)"
     },
     "execution_count": 70,
     "metadata": {},
     "output_type": "execute_result"
    }
   ]
  },
  {
   "cell_type": "code",
   "source": [
    "dim=df.A.dropna().shape[0]\n",
    "i=np.random.randint(dim,size=len(nans))\n",
    "i"
   ],
   "metadata": {
    "colab": {
     "base_uri": "https://localhost:8080/"
    },
    "id": "6M4W02UUFBH_",
    "executionInfo": {
     "status": "ok",
     "timestamp": 1676515540034,
     "user_tz": 360,
     "elapsed": 1,
     "user": {
      "displayName": "Carlos Arellano",
      "userId": "03055712073717640513"
     }
    },
    "outputId": "9fe65ef4-d803-4f06-bcad-ab2ea27a174e"
   },
   "execution_count": 71,
   "outputs": [
    {
     "data": {
      "text/plain": "array([57, 89, 92, 63, 64])"
     },
     "execution_count": 71,
     "metadata": {},
     "output_type": "execute_result"
    }
   ]
  },
  {
   "cell_type": "code",
   "source": [
    "df.A.dropna().iloc[i]"
   ],
   "metadata": {
    "colab": {
     "base_uri": "https://localhost:8080/"
    },
    "id": "_k2QY1rMFo0X",
    "executionInfo": {
     "status": "ok",
     "timestamp": 1676515540203,
     "user_tz": 360,
     "elapsed": 2,
     "user": {
      "displayName": "Carlos Arellano",
      "userId": "03055712073717640513"
     }
    },
    "outputId": "c250a3b7-7ea0-4454-aaa4-795c761b5a93"
   },
   "execution_count": 72,
   "outputs": [
    {
     "data": {
      "text/plain": "60    1.179257\n94   -1.247442\n97   -0.288264\n66   -0.217671\n67   -0.156233\nName: A, dtype: float64"
     },
     "execution_count": 72,
     "metadata": {},
     "output_type": "execute_result"
    }
   ]
  },
  {
   "cell_type": "code",
   "source": [
    "dfcopy=df.copy()\n",
    "dfcopy.loc[nans]"
   ],
   "metadata": {
    "colab": {
     "base_uri": "https://localhost:8080/",
     "height": 206
    },
    "id": "ygj3WFMYF1a2",
    "executionInfo": {
     "status": "ok",
     "timestamp": 1676515540633,
     "user_tz": 360,
     "elapsed": 5,
     "user": {
      "displayName": "Carlos Arellano",
      "userId": "03055712073717640513"
     }
    },
    "outputId": "53e4d7b5-896b-44c1-c3cd-5224b3e3c26c"
   },
   "execution_count": 73,
   "outputs": [
    {
     "data": {
      "text/plain": "     A         B         C         D\n25 NaN  1.014484 -0.502047  2.687678\n30 NaN -1.372868 -0.172903  1.494710\n58 NaN -0.201486  1.315169  1.448712\n70 NaN  0.371786 -0.333454  0.223702\n71 NaN -1.090512       NaN  1.810154",
      "text/html": "<div>\n<style scoped>\n    .dataframe tbody tr th:only-of-type {\n        vertical-align: middle;\n    }\n\n    .dataframe tbody tr th {\n        vertical-align: top;\n    }\n\n    .dataframe thead th {\n        text-align: right;\n    }\n</style>\n<table border=\"1\" class=\"dataframe\">\n  <thead>\n    <tr style=\"text-align: right;\">\n      <th></th>\n      <th>A</th>\n      <th>B</th>\n      <th>C</th>\n      <th>D</th>\n    </tr>\n  </thead>\n  <tbody>\n    <tr>\n      <th>25</th>\n      <td>NaN</td>\n      <td>1.014484</td>\n      <td>-0.502047</td>\n      <td>2.687678</td>\n    </tr>\n    <tr>\n      <th>30</th>\n      <td>NaN</td>\n      <td>-1.372868</td>\n      <td>-0.172903</td>\n      <td>1.494710</td>\n    </tr>\n    <tr>\n      <th>58</th>\n      <td>NaN</td>\n      <td>-0.201486</td>\n      <td>1.315169</td>\n      <td>1.448712</td>\n    </tr>\n    <tr>\n      <th>70</th>\n      <td>NaN</td>\n      <td>0.371786</td>\n      <td>-0.333454</td>\n      <td>0.223702</td>\n    </tr>\n    <tr>\n      <th>71</th>\n      <td>NaN</td>\n      <td>-1.090512</td>\n      <td>NaN</td>\n      <td>1.810154</td>\n    </tr>\n  </tbody>\n</table>\n</div>"
     },
     "execution_count": 73,
     "metadata": {},
     "output_type": "execute_result"
    }
   ]
  },
  {
   "cell_type": "code",
   "source": [
    "dfcopy.A.loc[nans]=df.A.dropna().iloc[i].values\n",
    "dfcopy.loc[nans]"
   ],
   "metadata": {
    "colab": {
     "base_uri": "https://localhost:8080/",
     "height": 206
    },
    "id": "QAV-U4pSGBIw",
    "executionInfo": {
     "status": "ok",
     "timestamp": 1676515541009,
     "user_tz": 360,
     "elapsed": 3,
     "user": {
      "displayName": "Carlos Arellano",
      "userId": "03055712073717640513"
     }
    },
    "outputId": "96688dbe-6770-4adf-ac2d-ed67820ba9e8"
   },
   "execution_count": 74,
   "outputs": [
    {
     "data": {
      "text/plain": "           A         B         C         D\n25  1.179257  1.014484 -0.502047  2.687678\n30 -1.247442 -1.372868 -0.172903  1.494710\n58 -0.288264 -0.201486  1.315169  1.448712\n70 -0.217671  0.371786 -0.333454  0.223702\n71 -0.156233 -1.090512       NaN  1.810154",
      "text/html": "<div>\n<style scoped>\n    .dataframe tbody tr th:only-of-type {\n        vertical-align: middle;\n    }\n\n    .dataframe tbody tr th {\n        vertical-align: top;\n    }\n\n    .dataframe thead th {\n        text-align: right;\n    }\n</style>\n<table border=\"1\" class=\"dataframe\">\n  <thead>\n    <tr style=\"text-align: right;\">\n      <th></th>\n      <th>A</th>\n      <th>B</th>\n      <th>C</th>\n      <th>D</th>\n    </tr>\n  </thead>\n  <tbody>\n    <tr>\n      <th>25</th>\n      <td>1.179257</td>\n      <td>1.014484</td>\n      <td>-0.502047</td>\n      <td>2.687678</td>\n    </tr>\n    <tr>\n      <th>30</th>\n      <td>-1.247442</td>\n      <td>-1.372868</td>\n      <td>-0.172903</td>\n      <td>1.494710</td>\n    </tr>\n    <tr>\n      <th>58</th>\n      <td>-0.288264</td>\n      <td>-0.201486</td>\n      <td>1.315169</td>\n      <td>1.448712</td>\n    </tr>\n    <tr>\n      <th>70</th>\n      <td>-0.217671</td>\n      <td>0.371786</td>\n      <td>-0.333454</td>\n      <td>0.223702</td>\n    </tr>\n    <tr>\n      <th>71</th>\n      <td>-0.156233</td>\n      <td>-1.090512</td>\n      <td>NaN</td>\n      <td>1.810154</td>\n    </tr>\n  </tbody>\n</table>\n</div>"
     },
     "execution_count": 74,
     "metadata": {},
     "output_type": "execute_result"
    }
   ]
  },
  {
   "cell_type": "code",
   "source": [
    "dfcopy=df.copy()\n",
    "for v in df:\n",
    "  dim=df[v].dropna().shape[0]\n",
    "  nans,=np.where(df[v].isna())\n",
    "  i=np.random.randint(dim,size=len(nans))\n",
    "  dfcopy[v].loc[nans]=df[v].dropna().iloc[i].values\n",
    "dfcopy.isna().sum()"
   ],
   "metadata": {
    "colab": {
     "base_uri": "https://localhost:8080/"
    },
    "id": "hU7YmvRgGcB2",
    "executionInfo": {
     "status": "ok",
     "timestamp": 1676515741160,
     "user_tz": 360,
     "elapsed": 145,
     "user": {
      "displayName": "Carlos Arellano",
      "userId": "03055712073717640513"
     }
    },
    "outputId": "6bc02ccd-a2c6-4d2c-b426-7606e694953d"
   },
   "execution_count": 75,
   "outputs": [
    {
     "data": {
      "text/plain": "A    0\nB    0\nC    0\nD    0\ndtype: int64"
     },
     "execution_count": 75,
     "metadata": {},
     "output_type": "execute_result"
    }
   ]
  },
  {
   "cell_type": "markdown",
   "source": [
    "# Usando Clases"
   ],
   "metadata": {
    "id": "SP_G61-x_dNE"
   }
  },
  {
   "cell_type": "code",
   "source": [
    "from sklearn.impute import SimpleImputer"
   ],
   "metadata": {
    "id": "5QpIcrEy_b7k",
    "executionInfo": {
     "status": "ok",
     "timestamp": 1676515896283,
     "user_tz": 360,
     "elapsed": 118,
     "user": {
      "displayName": "Carlos Arellano",
      "userId": "03055712073717640513"
     }
    }
   },
   "execution_count": 76,
   "outputs": []
  },
  {
   "cell_type": "code",
   "source": [
    "imp=SimpleImputer() # Método predeterminado = media\n",
    "data=imp.fit_transform(df)\n",
    "data"
   ],
   "metadata": {
    "id": "CLMn8ihZImoX"
   },
   "execution_count": 77,
   "outputs": [
    {
     "data": {
      "text/plain": "array([[ 0.85961408,  0.90409826,  1.30636749,  1.73383615],\n       [-0.53629546,  0.31463499,  0.15192774, -0.11897298],\n       [ 0.67599915, -0.36231091,  0.74176947, -0.10622377],\n       [ 1.01364824, -0.3127858 , -0.16583314,  0.36420071],\n       [-1.05336699, -0.15163848, -1.55000129,  1.05397333],\n       [-1.72119923,  1.26876488,  0.16157054,  1.67768962],\n       [ 0.2300256 ,  1.73476998,  0.16157054,  0.29574006],\n       [-0.62104631,  0.22262656, -0.56771635,  1.51192604],\n       [ 0.00935024, -0.40562606,  0.42945326,  0.51210858],\n       [-0.57587528, -0.39761924,  1.03002218,  0.96086669],\n       [-0.22322881,  1.5348979 , -0.05552491,  0.78329879],\n       [-0.94936592, -0.9281495 ,  0.32722333,  1.09202743],\n       [-0.39104771,  1.87186732, -0.06340662,  2.34293322],\n       [ 0.11264787,  0.36014094,  0.16157054,  2.02887909],\n       [-0.41581474, -1.16331425, -1.735956  ,  0.92516546],\n       [-3.0594446 ,  3.81764904,  0.16157054, -0.11234218],\n       [ 0.60095128,  0.74002976, -0.66282277,  1.3298638 ],\n       [ 0.36025012,  1.38494756,  0.16157054,  1.40084084],\n       [-0.03449438,  1.06962705, -0.47269072,  2.56403918],\n       [ 0.74693014,  0.25348222,  0.9330295 ,  1.50254317],\n       [-0.9150026 ,  0.36705563,  0.49241024,  1.34773374],\n       [-0.87853299, -0.16081703, -0.45102423,  0.81760646],\n       [-1.90754061,  0.20392999, -1.43761815,  0.63852114],\n       [ 0.30184271, -0.1849832 , -0.94791473,  2.39459631],\n       [-0.05611932, -0.47279953,  1.26625558,  2.54683516],\n       [-0.0493355 ,  1.0144837 , -0.50204686,  2.68767765],\n       [-0.83438634, -0.36038514, -0.27480713,  1.87778903],\n       [-0.60284252,  2.69937267,  1.95026436,  0.76244722],\n       [ 0.28682689,  0.50720948,  0.49538958,  0.73965132],\n       [ 0.91905371, -1.56796132,  0.07283262,  0.0417852 ],\n       [-0.0493355 , -1.37286804, -0.17290297,  1.49470978],\n       [ 1.43828045, -0.50442175,  0.40750768, -0.70534127],\n       [ 1.18801279, -0.47926618,  0.31852785,  1.03002354],\n       [ 0.51542464,  1.56813351, -0.47728469,  1.10822992],\n       [ 1.46748564,  0.0122767 ,  3.35017553, -0.29013953],\n       [-0.62297115,  0.79771613, -0.9952703 ,  0.67630683],\n       [-1.14716408, -0.28564932, -2.62723174,  1.1078644 ],\n       [ 1.12324136,  0.53162859, -0.07537475,  0.15818548],\n       [-0.61946142,  1.85835455, -0.21975474, -0.19188198],\n       [ 0.64898482,  0.24184157,  0.44705787,  1.70345999],\n       [-0.39164141,  1.34451274,  0.16157054,  1.27521533],\n       [ 2.09628586,  0.86481859, -1.52234313,  2.45964216],\n       [ 0.77474445, -0.63243401,  0.3003108 ,  1.96613191],\n       [-1.23699142,  0.32131517,  1.90035587,  0.03716536],\n       [ 0.82132832,  0.05214244,  1.14439681,  1.10655255],\n       [-0.45274333,  0.67996636,  0.16157054,  2.14037667],\n       [ 0.112493  , -0.60433508,  0.16157054,  1.55395034],\n       [-0.75859526,  0.32131517,  1.64284574, -0.59608095],\n       [-0.74639067, -0.0326719 ,  0.50060329, -0.69166918],\n       [ 0.24110276,  0.81209033, -1.19937145,  2.19766909],\n       [-1.70867598, -1.28022594,  0.16157054,  0.284682  ],\n       [ 0.76042673,  0.41728645, -0.11494076, -0.8631577 ],\n       [-0.96277871,  2.27024708,  1.29064229,  1.05183321],\n       [ 0.49550732, -0.63477228, -0.16519138,  1.3217818 ],\n       [-3.16008432,  0.36086945,  0.16157054, -0.63249813],\n       [-0.26641292, -0.64526273,  1.47524246,  2.59299538],\n       [ 2.15290725,  2.14307643, -0.58546457,  1.48824477],\n       [ 0.04299572,  0.32131517,  1.3302182 ,  0.79385688],\n       [-0.0493355 , -0.20148567,  1.31516854,  1.44871227],\n       [-0.1086617 , -0.5171396 ,  0.09543434,  0.77160337],\n       [ 1.17925713,  2.09134825, -0.95201044,  0.73229107],\n       [ 0.82386892, -0.30025403,  0.16157054,  2.50245182],\n       [-0.73346705, -0.74599993, -1.74446543, -0.97591164],\n       [-0.31171391,  0.29017287,  0.48105261,  1.25351057],\n       [-1.4784084 ,  0.32131517,  1.23725991,  1.34924289],\n       [-1.02620065,  0.03861424,  0.70622278,  2.32989814],\n       [-0.2176709 ,  0.05772725,  0.80267833,  0.70228651],\n       [-0.15623274,  0.5007536 ,  0.16157054, -0.4567892 ],\n       [-0.73003396,  1.26325308, -0.81358643,  0.78006028],\n       [ 0.08363727,  2.22314827, -0.01236362,  0.88118062],\n       [-0.0493355 ,  0.37178562, -0.33345443,  0.22370183],\n       [-0.0493355 , -1.09051233,  0.16157054,  1.81015432],\n       [ 0.11165047,  0.32131517, -1.64675867, -0.24449783],\n       [-1.4994514 ,  0.32131517,  0.16157054,  0.33337944],\n       [ 0.86965663,  0.86334289,  0.16157054,  2.57415381],\n       [ 0.68550573,  0.16564802, -0.98506065,  1.40249611],\n       [-0.36946871, -0.91163045,  1.04159831,  0.65583823],\n       [ 1.89416585,  0.96027392,  0.16157054,  1.19985361],\n       [-2.10415169, -0.19449187,  0.10770568, -0.28842097],\n       [ 0.60169103,  0.32131517,  1.62895364, -0.16218466],\n       [ 1.01396333, -1.40201477, -1.29288921,  0.13172673],\n       [ 0.63340163, -0.02647369,  0.16157054, -0.23030889],\n       [-0.02158944,  1.64510844, -0.14374248,  2.19114015],\n       [-0.28568798, -0.40665783,  0.16157054,  0.81308201],\n       [ 0.56672273, -0.07403534,  0.89029991,  0.60039313],\n       [ 1.66684261, -1.20253807,  1.5173244 ,  0.94912646],\n       [ 1.75574065, -0.33072337,  1.23963782,  1.45994954],\n       [-0.11197177,  0.58914884, -0.95506426,  1.87193865],\n       [ 1.03015431, -0.18575438,  0.44326943, -1.00589081],\n       [ 0.49313701,  2.11186301, -1.7555736 ,  1.46472504],\n       [-0.4349209 ,  1.18888833,  1.19061116,  1.42775058],\n       [-0.63869757, -1.32909107,  0.33397751, -1.0361912 ],\n       [-1.12370427,  0.96698665,  0.33564002,  0.82917547],\n       [ 0.55581422, -0.58742649,  0.39211741,  0.71239637],\n       [-1.24744183,  0.36916308, -0.52521136,  1.80735795],\n       [ 0.79873398,  0.26243781,  2.86794931,  1.34608171],\n       [ 0.11508149,  0.89985003,  1.00782208,  1.45921903],\n       [-0.28826445,  0.21315592,  1.39055139, -0.57322007],\n       [-1.39374875,  1.16583853, -0.59944366,  0.63446701],\n       [ 1.56874419, -0.13422027, -0.27920223,  0.16158254]])"
     },
     "execution_count": 77,
     "metadata": {},
     "output_type": "execute_result"
    }
   ]
  },
  {
   "cell_type": "code",
   "source": [
    "pd.DataFrame(data,columns=df.columns)"
   ],
   "metadata": {
    "id": "o4jSakPXI_WY"
   },
   "execution_count": 78,
   "outputs": [
    {
     "data": {
      "text/plain": "           A         B         C         D\n0   0.859614  0.904098  1.306367  1.733836\n1  -0.536295  0.314635  0.151928 -0.118973\n2   0.675999 -0.362311  0.741769 -0.106224\n3   1.013648 -0.312786 -0.165833  0.364201\n4  -1.053367 -0.151638 -1.550001  1.053973\n..       ...       ...       ...       ...\n95  0.798734  0.262438  2.867949  1.346082\n96  0.115081  0.899850  1.007822  1.459219\n97 -0.288264  0.213156  1.390551 -0.573220\n98 -1.393749  1.165839 -0.599444  0.634467\n99  1.568744 -0.134220 -0.279202  0.161583\n\n[100 rows x 4 columns]",
      "text/html": "<div>\n<style scoped>\n    .dataframe tbody tr th:only-of-type {\n        vertical-align: middle;\n    }\n\n    .dataframe tbody tr th {\n        vertical-align: top;\n    }\n\n    .dataframe thead th {\n        text-align: right;\n    }\n</style>\n<table border=\"1\" class=\"dataframe\">\n  <thead>\n    <tr style=\"text-align: right;\">\n      <th></th>\n      <th>A</th>\n      <th>B</th>\n      <th>C</th>\n      <th>D</th>\n    </tr>\n  </thead>\n  <tbody>\n    <tr>\n      <th>0</th>\n      <td>0.859614</td>\n      <td>0.904098</td>\n      <td>1.306367</td>\n      <td>1.733836</td>\n    </tr>\n    <tr>\n      <th>1</th>\n      <td>-0.536295</td>\n      <td>0.314635</td>\n      <td>0.151928</td>\n      <td>-0.118973</td>\n    </tr>\n    <tr>\n      <th>2</th>\n      <td>0.675999</td>\n      <td>-0.362311</td>\n      <td>0.741769</td>\n      <td>-0.106224</td>\n    </tr>\n    <tr>\n      <th>3</th>\n      <td>1.013648</td>\n      <td>-0.312786</td>\n      <td>-0.165833</td>\n      <td>0.364201</td>\n    </tr>\n    <tr>\n      <th>4</th>\n      <td>-1.053367</td>\n      <td>-0.151638</td>\n      <td>-1.550001</td>\n      <td>1.053973</td>\n    </tr>\n    <tr>\n      <th>...</th>\n      <td>...</td>\n      <td>...</td>\n      <td>...</td>\n      <td>...</td>\n    </tr>\n    <tr>\n      <th>95</th>\n      <td>0.798734</td>\n      <td>0.262438</td>\n      <td>2.867949</td>\n      <td>1.346082</td>\n    </tr>\n    <tr>\n      <th>96</th>\n      <td>0.115081</td>\n      <td>0.899850</td>\n      <td>1.007822</td>\n      <td>1.459219</td>\n    </tr>\n    <tr>\n      <th>97</th>\n      <td>-0.288264</td>\n      <td>0.213156</td>\n      <td>1.390551</td>\n      <td>-0.573220</td>\n    </tr>\n    <tr>\n      <th>98</th>\n      <td>-1.393749</td>\n      <td>1.165839</td>\n      <td>-0.599444</td>\n      <td>0.634467</td>\n    </tr>\n    <tr>\n      <th>99</th>\n      <td>1.568744</td>\n      <td>-0.134220</td>\n      <td>-0.279202</td>\n      <td>0.161583</td>\n    </tr>\n  </tbody>\n</table>\n<p>100 rows × 4 columns</p>\n</div>"
     },
     "execution_count": 78,
     "metadata": {},
     "output_type": "execute_result"
    }
   ]
  },
  {
   "cell_type": "code",
   "source": [
    "imp=SimpleImputer(strategy='median') # strategy='most_frequent'  ->  moda"
   ],
   "metadata": {
    "id": "M2mcJYQSJHMI",
    "executionInfo": {
     "status": "ok",
     "timestamp": 1676516136321,
     "user_tz": 360,
     "elapsed": 107,
     "user": {
      "displayName": "Carlos Arellano",
      "userId": "03055712073717640513"
     }
    }
   },
   "execution_count": 79,
   "outputs": []
  },
  {
   "cell_type": "code",
   "source": [
    "pd.DataFrame(imp.fit_transform(df),columns=df.columns)"
   ],
   "metadata": {
    "id": "tsztpXk9Jev3"
   },
   "execution_count": 80,
   "outputs": [
    {
     "data": {
      "text/plain": "           A         B         C         D\n0   0.859614  0.904098  1.306367  1.733836\n1  -0.536295  0.314635  0.151928 -0.118973\n2   0.675999 -0.362311  0.741769 -0.106224\n3   1.013648 -0.312786 -0.165833  0.364201\n4  -1.053367 -0.151638 -1.550001  1.053973\n..       ...       ...       ...       ...\n95  0.798734  0.262438  2.867949  1.346082\n96  0.115081  0.899850  1.007822  1.459219\n97 -0.288264  0.213156  1.390551 -0.573220\n98 -1.393749  1.165839 -0.599444  0.634467\n99  1.568744 -0.134220 -0.279202  0.161583\n\n[100 rows x 4 columns]",
      "text/html": "<div>\n<style scoped>\n    .dataframe tbody tr th:only-of-type {\n        vertical-align: middle;\n    }\n\n    .dataframe tbody tr th {\n        vertical-align: top;\n    }\n\n    .dataframe thead th {\n        text-align: right;\n    }\n</style>\n<table border=\"1\" class=\"dataframe\">\n  <thead>\n    <tr style=\"text-align: right;\">\n      <th></th>\n      <th>A</th>\n      <th>B</th>\n      <th>C</th>\n      <th>D</th>\n    </tr>\n  </thead>\n  <tbody>\n    <tr>\n      <th>0</th>\n      <td>0.859614</td>\n      <td>0.904098</td>\n      <td>1.306367</td>\n      <td>1.733836</td>\n    </tr>\n    <tr>\n      <th>1</th>\n      <td>-0.536295</td>\n      <td>0.314635</td>\n      <td>0.151928</td>\n      <td>-0.118973</td>\n    </tr>\n    <tr>\n      <th>2</th>\n      <td>0.675999</td>\n      <td>-0.362311</td>\n      <td>0.741769</td>\n      <td>-0.106224</td>\n    </tr>\n    <tr>\n      <th>3</th>\n      <td>1.013648</td>\n      <td>-0.312786</td>\n      <td>-0.165833</td>\n      <td>0.364201</td>\n    </tr>\n    <tr>\n      <th>4</th>\n      <td>-1.053367</td>\n      <td>-0.151638</td>\n      <td>-1.550001</td>\n      <td>1.053973</td>\n    </tr>\n    <tr>\n      <th>...</th>\n      <td>...</td>\n      <td>...</td>\n      <td>...</td>\n      <td>...</td>\n    </tr>\n    <tr>\n      <th>95</th>\n      <td>0.798734</td>\n      <td>0.262438</td>\n      <td>2.867949</td>\n      <td>1.346082</td>\n    </tr>\n    <tr>\n      <th>96</th>\n      <td>0.115081</td>\n      <td>0.899850</td>\n      <td>1.007822</td>\n      <td>1.459219</td>\n    </tr>\n    <tr>\n      <th>97</th>\n      <td>-0.288264</td>\n      <td>0.213156</td>\n      <td>1.390551</td>\n      <td>-0.573220</td>\n    </tr>\n    <tr>\n      <th>98</th>\n      <td>-1.393749</td>\n      <td>1.165839</td>\n      <td>-0.599444</td>\n      <td>0.634467</td>\n    </tr>\n    <tr>\n      <th>99</th>\n      <td>1.568744</td>\n      <td>-0.134220</td>\n      <td>-0.279202</td>\n      <td>0.161583</td>\n    </tr>\n  </tbody>\n</table>\n<p>100 rows × 4 columns</p>\n</div>"
     },
     "execution_count": 80,
     "metadata": {},
     "output_type": "execute_result"
    }
   ]
  },
  {
   "cell_type": "code",
   "source": [
    "!pip install feature-engine"
   ],
   "metadata": {
    "id": "VjkfQjEjJreP"
   },
   "execution_count": 81,
   "outputs": [
    {
     "name": "stdout",
     "output_type": "stream",
     "text": [
      "Collecting feature-engine"
     ]
    },
    {
     "name": "stderr",
     "output_type": "stream",
     "text": [
      "\n",
      "[notice] A new release of pip available: 22.3.1 -> 23.0\n",
      "[notice] To update, run: python.exe -m pip install --upgrade pip\n"
     ]
    },
    {
     "name": "stdout",
     "output_type": "stream",
     "text": [
      "\n",
      "  Downloading feature_engine-1.5.2-py2.py3-none-any.whl (290 kB)\n",
      "     -------------------------------------- 290.0/290.0 kB 1.2 MB/s eta 0:00:00\n",
      "Collecting statsmodels>=0.11.1\n",
      "  Downloading statsmodels-0.13.5-cp310-cp310-win_amd64.whl (9.1 MB)\n",
      "     ---------------------------------------- 9.1/9.1 MB 2.5 MB/s eta 0:00:00\n",
      "Requirement already satisfied: numpy>=1.18.2 in c:\\users\\anhernan\\appdata\\local\\programs\\python\\python310\\lib\\site-packages (from feature-engine) (1.23.2)\n",
      "Requirement already satisfied: pandas>=1.0.3 in c:\\users\\anhernan\\appdata\\local\\programs\\python\\python310\\lib\\site-packages (from feature-engine) (1.4.4)\n",
      "Requirement already satisfied: scipy>=1.4.1 in c:\\users\\anhernan\\appdata\\roaming\\python\\python310\\site-packages (from feature-engine) (1.9.2)\n",
      "Requirement already satisfied: scikit-learn>=1.0.0 in c:\\users\\anhernan\\appdata\\roaming\\python\\python310\\site-packages (from feature-engine) (1.1.2)\n",
      "Requirement already satisfied: python-dateutil>=2.8.1 in c:\\users\\anhernan\\appdata\\local\\programs\\python\\python310\\lib\\site-packages (from pandas>=1.0.3->feature-engine) (2.8.2)\n",
      "Requirement already satisfied: pytz>=2020.1 in c:\\users\\anhernan\\appdata\\local\\programs\\python\\python310\\lib\\site-packages (from pandas>=1.0.3->feature-engine) (2022.2.1)\n",
      "Requirement already satisfied: threadpoolctl>=2.0.0 in c:\\users\\anhernan\\appdata\\roaming\\python\\python310\\site-packages (from scikit-learn>=1.0.0->feature-engine) (3.1.0)\n",
      "Requirement already satisfied: joblib>=1.0.0 in c:\\users\\anhernan\\appdata\\roaming\\python\\python310\\site-packages (from scikit-learn>=1.0.0->feature-engine) (1.2.0)\n",
      "Requirement already satisfied: packaging>=21.3 in c:\\users\\anhernan\\appdata\\local\\programs\\python\\python310\\lib\\site-packages (from statsmodels>=0.11.1->feature-engine) (21.3)\n",
      "Collecting patsy>=0.5.2\n",
      "  Downloading patsy-0.5.3-py2.py3-none-any.whl (233 kB)\n",
      "     -------------------------------------- 233.8/233.8 kB 1.4 MB/s eta 0:00:00\n",
      "Requirement already satisfied: pyparsing!=3.0.5,>=2.0.2 in c:\\users\\anhernan\\appdata\\local\\programs\\python\\python310\\lib\\site-packages (from packaging>=21.3->statsmodels>=0.11.1->feature-engine) (3.0.9)\n",
      "Requirement already satisfied: six in c:\\users\\anhernan\\appdata\\local\\programs\\python\\python310\\lib\\site-packages (from patsy>=0.5.2->statsmodels>=0.11.1->feature-engine) (1.16.0)\n",
      "Installing collected packages: patsy, statsmodels, feature-engine\n",
      "Successfully installed feature-engine-1.5.2 patsy-0.5.3 statsmodels-0.13.5\n"
     ]
    }
   ]
  },
  {
   "cell_type": "code",
   "source": [
    "from feature_engine.imputation import RandomSampleImputer"
   ],
   "metadata": {
    "id": "2QqrK5DCKb1f",
    "executionInfo": {
     "status": "ok",
     "timestamp": 1676516423349,
     "user_tz": 360,
     "elapsed": 117,
     "user": {
      "displayName": "Carlos Arellano",
      "userId": "03055712073717640513"
     }
    }
   },
   "execution_count": 82,
   "outputs": []
  },
  {
   "cell_type": "code",
   "source": [
    "imp=RandomSampleImputer() # Imputa todas las variables"
   ],
   "metadata": {
    "id": "iMXB8mP5KnUX",
    "executionInfo": {
     "status": "ok",
     "timestamp": 1676516464117,
     "user_tz": 360,
     "elapsed": 123,
     "user": {
      "displayName": "Carlos Arellano",
      "userId": "03055712073717640513"
     }
    }
   },
   "execution_count": 83,
   "outputs": []
  },
  {
   "cell_type": "code",
   "source": [
    "imp.fit_transform(df).iloc[23:32]"
   ],
   "metadata": {
    "colab": {
     "base_uri": "https://localhost:8080/",
     "height": 331
    },
    "id": "QjTq37ioKxQv",
    "executionInfo": {
     "status": "ok",
     "timestamp": 1676516509100,
     "user_tz": 360,
     "elapsed": 117,
     "user": {
      "displayName": "Carlos Arellano",
      "userId": "03055712073717640513"
     }
    },
    "outputId": "3f4cd75f-415f-42dc-9003-966df8555e26"
   },
   "execution_count": 84,
   "outputs": [
    {
     "data": {
      "text/plain": "           A         B         C         D\n23  0.301843 -0.184983 -0.947915  2.394596\n24 -0.056119 -0.472800  1.266256  2.546835\n25  0.821328  1.014484 -0.502047  2.687678\n26 -0.834386 -0.360385 -0.274807  1.877789\n27 -0.602843  2.699373  1.950264  0.762447\n28  0.286827  0.507209  0.495390  0.739651\n29  0.919054 -1.567961  0.072833  0.041785\n30  0.112648 -1.372868 -0.172903  1.494710\n31  1.438280 -0.504422  0.407508 -0.705341",
      "text/html": "<div>\n<style scoped>\n    .dataframe tbody tr th:only-of-type {\n        vertical-align: middle;\n    }\n\n    .dataframe tbody tr th {\n        vertical-align: top;\n    }\n\n    .dataframe thead th {\n        text-align: right;\n    }\n</style>\n<table border=\"1\" class=\"dataframe\">\n  <thead>\n    <tr style=\"text-align: right;\">\n      <th></th>\n      <th>A</th>\n      <th>B</th>\n      <th>C</th>\n      <th>D</th>\n    </tr>\n  </thead>\n  <tbody>\n    <tr>\n      <th>23</th>\n      <td>0.301843</td>\n      <td>-0.184983</td>\n      <td>-0.947915</td>\n      <td>2.394596</td>\n    </tr>\n    <tr>\n      <th>24</th>\n      <td>-0.056119</td>\n      <td>-0.472800</td>\n      <td>1.266256</td>\n      <td>2.546835</td>\n    </tr>\n    <tr>\n      <th>25</th>\n      <td>0.821328</td>\n      <td>1.014484</td>\n      <td>-0.502047</td>\n      <td>2.687678</td>\n    </tr>\n    <tr>\n      <th>26</th>\n      <td>-0.834386</td>\n      <td>-0.360385</td>\n      <td>-0.274807</td>\n      <td>1.877789</td>\n    </tr>\n    <tr>\n      <th>27</th>\n      <td>-0.602843</td>\n      <td>2.699373</td>\n      <td>1.950264</td>\n      <td>0.762447</td>\n    </tr>\n    <tr>\n      <th>28</th>\n      <td>0.286827</td>\n      <td>0.507209</td>\n      <td>0.495390</td>\n      <td>0.739651</td>\n    </tr>\n    <tr>\n      <th>29</th>\n      <td>0.919054</td>\n      <td>-1.567961</td>\n      <td>0.072833</td>\n      <td>0.041785</td>\n    </tr>\n    <tr>\n      <th>30</th>\n      <td>0.112648</td>\n      <td>-1.372868</td>\n      <td>-0.172903</td>\n      <td>1.494710</td>\n    </tr>\n    <tr>\n      <th>31</th>\n      <td>1.438280</td>\n      <td>-0.504422</td>\n      <td>0.407508</td>\n      <td>-0.705341</td>\n    </tr>\n  </tbody>\n</table>\n</div>"
     },
     "execution_count": 84,
     "metadata": {},
     "output_type": "execute_result"
    }
   ]
  },
  {
   "cell_type": "code",
   "source": [
    "df.isna().sum()"
   ],
   "metadata": {
    "colab": {
     "base_uri": "https://localhost:8080/"
    },
    "id": "uJVYqGWBL2jl",
    "executionInfo": {
     "status": "ok",
     "timestamp": 1676516755078,
     "user_tz": 360,
     "elapsed": 122,
     "user": {
      "displayName": "Carlos Arellano",
      "userId": "03055712073717640513"
     }
    },
    "outputId": "1d58007e-3e88-47a4-de9b-53746404f3d7"
   },
   "execution_count": 85,
   "outputs": [
    {
     "data": {
      "text/plain": "A     5\nB     7\nC    18\nD     0\ndtype: int64"
     },
     "execution_count": 85,
     "metadata": {},
     "output_type": "execute_result"
    }
   ]
  },
  {
   "cell_type": "code",
   "source": [
    "# 'A' -> media\n",
    "# 'B' -> mediana\n",
    "# 'C' -> aleatoria\n",
    "d={'A':df.A.mean(),\n",
    "   'B':df.B.median()}\n",
    "df1=df.copy()\n",
    "df1.fillna(d,inplace=True)\n",
    "imp=RandomSampleImputer('C')\n",
    "df2=imp.fit_transform(df1)\n",
    "df2.isna().sum()"
   ],
   "metadata": {
    "colab": {
     "base_uri": "https://localhost:8080/"
    },
    "id": "5SOjRMVfK02f",
    "executionInfo": {
     "status": "ok",
     "timestamp": 1676516848193,
     "user_tz": 360,
     "elapsed": 110,
     "user": {
      "displayName": "Carlos Arellano",
      "userId": "03055712073717640513"
     }
    },
    "outputId": "71b4ad51-53f7-4f4d-e7b3-2cd089f4f147"
   },
   "execution_count": 86,
   "outputs": [
    {
     "data": {
      "text/plain": "A    0\nB    0\nC    0\nD    0\ndtype: int64"
     },
     "execution_count": 86,
     "metadata": {},
     "output_type": "execute_result"
    }
   ]
  }
 ]
}
